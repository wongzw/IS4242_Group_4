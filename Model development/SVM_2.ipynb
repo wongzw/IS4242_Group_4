{
 "cells": [
  {
   "cell_type": "markdown",
   "metadata": {},
   "source": [
    "## Import packages"
   ]
  },
  {
   "cell_type": "code",
   "execution_count": 1,
   "metadata": {
    "id": "dRtfA2NgAIb7"
   },
   "outputs": [],
   "source": [
    "from joblib import dump, load\n",
    "import os\n",
    "from PIL import Image\n",
    "from tqdm import tqdm\n",
    "import re\n",
    "import numpy as np\n",
    "import pandas as pd\n",
    "from keras.utils.np_utils import to_categorical # convert to one-hot-encoding\n",
    "from sklearn.model_selection import train_test_split, GridSearchCV\n",
    "from sklearn.metrics import classification_report,confusion_matrix, roc_auc_score, accuracy_score\n",
    "from sklearn.svm import SVC"
   ]
  },
  {
   "cell_type": "code",
   "execution_count": 3,
   "metadata": {
    "id": "xanvjXIQFK8t"
   },
   "outputs": [],
   "source": [
    "import albumentations as A\n",
    "\n",
    "transform = A.Compose([\n",
    "    A.RandomBrightnessContrast(),\n",
    "    A.Affine(scale=[0.8,1.2],translate_percent=0.05, shear=0.2, keep_ratio=True, p=0.5),\n",
    "    A.Rotate(limit=10)\n",
    "])"
   ]
  },
  {
   "cell_type": "markdown",
   "metadata": {
    "id": "um1Xg1K0Nvqd"
   },
   "source": [
    "## Data Preprocessing"
   ]
  },
  {
   "cell_type": "markdown",
   "metadata": {
    "id": "ccFPmDRlPGWn"
   },
   "source": [
    "#### Read image and convert it to 28x28 matrix:"
   ]
  },
  {
   "cell_type": "code",
   "execution_count": 5,
   "metadata": {
    "id": "Mw9kBbmp-u7Y"
   },
   "outputs": [],
   "source": [
    "X = load('X_224.pkl')\n",
    "y = load('y_224.pkl')"
   ]
  },
  {
   "cell_type": "code",
   "execution_count": 6,
   "metadata": {
    "colab": {
     "base_uri": "https://localhost:8080/"
    },
    "id": "BerTO8-u-wle",
    "outputId": "e35df733-7f3d-46c9-86dc-2b906649c988"
   },
   "outputs": [
    {
     "data": {
      "text/plain": [
       "817"
      ]
     },
     "execution_count": 6,
     "metadata": {},
     "output_type": "execute_result"
    }
   ],
   "source": [
    "len(X)"
   ]
  },
  {
   "cell_type": "markdown",
   "metadata": {
    "id": "Qe39EoIxPSUr"
   },
   "source": [
    "#### Train test split"
   ]
  },
  {
   "cell_type": "code",
   "execution_count": 7,
   "metadata": {
    "id": "uSymOBG_ZYT8"
   },
   "outputs": [],
   "source": [
    "X_train, X_test, y_train, y_test = train_test_split(X, y, test_size=0.2, random_state=42)"
   ]
  },
  {
   "cell_type": "code",
   "execution_count": 8,
   "metadata": {},
   "outputs": [
    {
     "name": "stdout",
     "output_type": "stream",
     "text": [
      "(653, 224, 224)\n",
      "(164, 224, 224)\n"
     ]
    }
   ],
   "source": [
    "print(X_train.shape)\n",
    "print(X_test.shape)"
   ]
  },
  {
   "cell_type": "code",
   "execution_count": 9,
   "metadata": {},
   "outputs": [
    {
     "name": "stdout",
     "output_type": "stream",
     "text": [
      "(653, 24)\n",
      "(164, 24)\n"
     ]
    }
   ],
   "source": [
    "print(y_train.shape)\n",
    "print(y_test.shape)"
   ]
  },
  {
   "cell_type": "markdown",
   "metadata": {
    "id": "qc6PtL6oPUnt"
   },
   "source": [
    "#### DONT DO data augmentation on model without mediapipe - will take too long to train model\n",
    "Augmentation only on train data"
   ]
  },
  {
   "cell_type": "code",
   "execution_count": 10,
   "metadata": {
    "id": "1Mx2XuirTNKf"
   },
   "outputs": [],
   "source": [
    "# augmented_X = []\n",
    "# augmented_y = []\n",
    "# for i in range(len(X_train)):\n",
    "#     for j in (range(10)):\n",
    "#         transformed = transform(image=X_train[i])\n",
    "#         augmented_X.append(transformed['image'])\n",
    "#         augmented_y.append(y_train[i])\n",
    "\n",
    "# augmented_X = np.array(augmented_X)\n",
    "# augmented_y = np.array(augmented_y)\n",
    "# X_train = np.concatenate([X_train,augmented_X])\n",
    "# y_train = np.concatenate([y_train,augmented_y])\n",
    "\n",
    "# # output_dir = '/content/drive/MyDrive/IS4242/dump/'\n",
    "# # joblib.dump(augmented_X, output_dir+'augmented_X.pkl')\n",
    "# # joblib.dump(augmented_y, output_dir+'augmented_y.pkl')"
   ]
  },
  {
   "cell_type": "code",
   "execution_count": 11,
   "metadata": {
    "colab": {
     "base_uri": "https://localhost:8080/"
    },
    "id": "E4hLE3l4WzYv",
    "outputId": "c8e7d241-6851-4a87-d53d-c7e20d168495"
   },
   "outputs": [],
   "source": [
    "# print(X_train.shape)\n",
    "# print(y_train.shape)"
   ]
  },
  {
   "cell_type": "code",
   "execution_count": 12,
   "metadata": {
    "colab": {
     "base_uri": "https://localhost:8080/"
    },
    "id": "gtA7RWI6P22L",
    "outputId": "a40a33a4-af25-4bec-a5ee-34737de4309b"
   },
   "outputs": [],
   "source": [
    "# print(y_train)"
   ]
  },
  {
   "cell_type": "markdown",
   "metadata": {
    "id": "JEy377YyPMuY"
   },
   "source": [
    "## Without mediapipe"
   ]
  },
  {
   "cell_type": "code",
   "execution_count": 13,
   "metadata": {
    "id": "2eqAQL-L3s58"
   },
   "outputs": [],
   "source": [
    "#scaling to improve performance - only for without mediapipe training\n",
    "X_train = X_train/255\n",
    "X_test = X_test/255"
   ]
  },
  {
   "cell_type": "markdown",
   "metadata": {
    "id": "fCnH8t0APV-Y"
   },
   "source": [
    "#### SVM - linear\n"
   ]
  },
  {
   "cell_type": "code",
   "execution_count": 14,
   "metadata": {},
   "outputs": [
    {
     "name": "stdout",
     "output_type": "stream",
     "text": [
      "(653, 224, 224)\n",
      "(164, 224, 224)\n",
      "(653, 24)\n",
      "(164, 24)\n"
     ]
    }
   ],
   "source": [
    "print(X_train.shape)\n",
    "print(X_test.shape)\n",
    "print(y_train.shape)\n",
    "print(y_test.shape)"
   ]
  },
  {
   "cell_type": "code",
   "execution_count": 15,
   "metadata": {
    "id": "641x6R4TPV-Z"
   },
   "outputs": [],
   "source": [
    "# linear model\n",
    "\n",
    "model_linear = SVC(kernel='linear', probability=True)\n",
    "model_linear.fit(X_train.reshape(X_train.shape[0], -1), np.argmax(y_train, axis=1))\n",
    "# predict\n",
    "y_pred = model_linear.predict(X_test.reshape((X_test.shape[0],-1)))"
   ]
  },
  {
   "cell_type": "markdown",
   "metadata": {
    "id": "IpTFyMK8PV-Z"
   },
   "source": [
    "##### Evaluation"
   ]
  },
  {
   "cell_type": "code",
   "execution_count": 16,
   "metadata": {
    "id": "0TbIZzaAPV-Z"
   },
   "outputs": [
    {
     "name": "stdout",
     "output_type": "stream",
     "text": [
      "accuracy: 0.15853658536585366 \n",
      "\n",
      "[[0 2 0 0 0 0 1 0 1 0 0 0 0 0 1 0 1 0 1 0 0 0 0 0]\n",
      " [0 1 0 0 0 0 1 0 0 0 0 0 0 0 0 0 0 0 0 0 0 0 0 0]\n",
      " [0 1 0 1 1 0 0 0 0 1 0 0 0 1 1 0 0 0 0 0 0 0 0 0]\n",
      " [0 1 1 0 0 0 1 0 0 1 0 0 0 0 1 0 0 0 1 0 0 0 1 0]\n",
      " [2 0 0 0 0 0 0 0 0 0 0 0 0 1 0 0 0 0 1 0 0 0 1 0]\n",
      " [0 1 1 0 1 0 0 0 0 0 0 0 0 1 0 0 0 0 0 0 0 0 0 0]\n",
      " [0 0 0 1 0 2 0 1 1 1 1 0 0 0 0 0 0 0 1 0 0 0 0 0]\n",
      " [0 0 0 0 1 1 2 0 0 0 0 1 1 0 0 0 0 0 0 0 0 0 0 0]\n",
      " [0 0 2 2 0 0 0 1 2 0 0 1 0 0 0 0 2 0 0 0 0 0 0 0]\n",
      " [1 0 1 0 0 0 1 1 1 1 0 0 0 1 0 0 1 0 2 1 0 0 1 0]\n",
      " [0 0 1 0 0 0 0 1 1 0 2 1 1 0 0 0 0 0 0 0 1 0 0 0]\n",
      " [0 0 0 0 0 0 0 0 1 0 0 0 2 1 0 0 0 0 0 0 0 0 0 0]\n",
      " [1 1 0 0 0 0 1 0 2 0 0 0 0 1 0 0 0 0 1 0 0 0 1 0]\n",
      " [0 0 0 0 2 0 0 1 0 0 0 0 0 2 0 0 0 0 1 0 0 0 1 0]\n",
      " [0 0 0 0 0 1 0 1 0 0 0 1 0 0 1 1 0 0 2 0 0 0 0 0]\n",
      " [0 1 0 0 0 0 0 0 1 0 0 0 0 0 0 0 0 0 0 0 1 0 0 1]\n",
      " [0 0 0 0 0 0 0 0 0 1 1 1 0 0 0 0 4 1 0 0 0 0 0 0]\n",
      " [1 1 0 0 1 0 0 0 0 0 0 0 1 1 0 1 0 2 0 0 0 0 0 1]\n",
      " [0 3 0 0 0 0 0 0 0 0 0 0 0 0 1 0 0 1 1 1 0 0 1 0]\n",
      " [0 0 0 0 0 0 0 0 0 0 0 0 0 1 1 0 1 0 0 2 1 0 0 0]\n",
      " [0 0 0 0 0 0 1 0 0 0 0 1 1 0 0 0 2 0 0 0 2 0 0 0]\n",
      " [0 0 0 0 0 0 0 0 0 0 0 0 1 0 0 0 0 0 0 2 3 3 0 0]\n",
      " [0 0 1 0 0 0 1 0 0 1 0 0 0 1 0 0 0 0 0 0 1 0 1 0]\n",
      " [1 0 0 0 0 0 0 0 0 0 0 0 0 1 0 0 0 1 0 0 0 1 0 2]]\n"
     ]
    }
   ],
   "source": [
    "# confusion matrix and accuracy\n",
    "\n",
    "# accuracy\n",
    "print(\"accuracy:\", accuracy_score(y_true=np.argmax(y_test, axis=1), y_pred=y_pred), \"\\n\")\n",
    "\n",
    "# cm\n",
    "print(confusion_matrix(y_true=np.argmax(y_test, axis=1), y_pred=y_pred))"
   ]
  },
  {
   "cell_type": "code",
   "execution_count": 17,
   "metadata": {
    "colab": {
     "base_uri": "https://localhost:8080/"
    },
    "id": "Y9zclWUJPV-a",
    "outputId": "88aefbef-26f3-43dc-8523-7e9b46701a6a"
   },
   "outputs": [
    {
     "name": "stdout",
     "output_type": "stream",
     "text": [
      "              precision    recall  f1-score   support\n",
      "\n",
      "           0       0.00      0.00      0.00         7\n",
      "           1       0.08      0.50      0.14         2\n",
      "           2       0.00      0.00      0.00         6\n",
      "           3       0.00      0.00      0.00         7\n",
      "           4       0.00      0.00      0.00         5\n",
      "           5       0.00      0.00      0.00         4\n",
      "           6       0.00      0.00      0.00         8\n",
      "           7       0.00      0.00      0.00         6\n",
      "           8       0.20      0.20      0.20        10\n",
      "           9       0.17      0.08      0.11        12\n",
      "          10       0.50      0.25      0.33         8\n",
      "          11       0.00      0.00      0.00         4\n",
      "          12       0.00      0.00      0.00         8\n",
      "          13       0.17      0.29      0.21         7\n",
      "          14       0.17      0.14      0.15         7\n",
      "          15       0.00      0.00      0.00         4\n",
      "          16       0.36      0.50      0.42         8\n",
      "          17       0.40      0.22      0.29         9\n",
      "          18       0.09      0.12      0.11         8\n",
      "          19       0.33      0.33      0.33         6\n",
      "          20       0.22      0.29      0.25         7\n",
      "          21       0.75      0.33      0.46         9\n",
      "          22       0.14      0.17      0.15         6\n",
      "          23       0.50      0.33      0.40         6\n",
      "\n",
      "    accuracy                           0.16       164\n",
      "   macro avg       0.17      0.16      0.15       164\n",
      "weighted avg       0.19      0.16      0.16       164\n",
      "\n"
     ]
    }
   ],
   "source": [
    "print(classification_report(np.argmax(y_test, axis=1), y_pred))"
   ]
  },
  {
   "cell_type": "code",
   "execution_count": 18,
   "metadata": {
    "colab": {
     "base_uri": "https://localhost:8080/"
    },
    "id": "-pBVoP2-PV-a",
    "outputId": "d4da7107-7045-4f78-dd57-82b905c4c806"
   },
   "outputs": [
    {
     "name": "stdout",
     "output_type": "stream",
     "text": [
      "ROC AUC score (micro average) 0.5224455551819569\n",
      "ROC AUC score (macro average) 0.5864831480154968\n"
     ]
    }
   ],
   "source": [
    "#get AUROC scores\n",
    "y_pred_scores = model_linear.predict_proba(X_test.reshape((X_test.shape[0],-1)))\n",
    "roc_auc_micro = roc_auc_score(y_test, y_pred_scores, multi_class='ovr', average='micro')\n",
    "roc_auc_macro = roc_auc_score(y_test, y_pred_scores, multi_class='ovr', average='macro')\n",
    "print(\"ROC AUC score (micro average)\", roc_auc_micro)\n",
    "print(\"ROC AUC score (macro average)\", roc_auc_macro)"
   ]
  },
  {
   "cell_type": "markdown",
   "metadata": {
    "id": "ULq_y63ZPV-a"
   },
   "source": [
    "#### SVM - rbf non linear "
   ]
  },
  {
   "cell_type": "code",
   "execution_count": 20,
   "metadata": {
    "id": "clkYZssjPV-a"
   },
   "outputs": [],
   "source": [
    "# non-linear model\n",
    "# using rbf kernel, C=1, default value of gamma\n",
    "non_linear = SVC(kernel='rbf', probability=True)\n",
    "non_linear.fit(X_train.reshape((X_train.shape[0],-1)), np.argmax(y_train, axis=1))\n",
    "\n",
    "# predict\n",
    "y_pred = non_linear.predict(X_test.reshape((X_test.shape[0],-1)))"
   ]
  },
  {
   "cell_type": "markdown",
   "metadata": {
    "id": "w0JlXSCCPV-a"
   },
   "source": [
    "##### Evaluation"
   ]
  },
  {
   "cell_type": "code",
   "execution_count": 21,
   "metadata": {
    "colab": {
     "base_uri": "https://localhost:8080/"
    },
    "id": "WwncUY-0PV-a",
    "outputId": "d0574cad-5cb6-4483-c71f-cbc396a5c80c",
    "scrolled": true
   },
   "outputs": [
    {
     "name": "stdout",
     "output_type": "stream",
     "text": [
      "accuracy: 0.03048780487804878 \n",
      "\n",
      "[[0 0 0 0 0 0 0 0 0 0 0 1 0 0 0 0 1 1 1 0 0 0 0 3]\n",
      " [0 0 0 0 0 0 0 0 0 0 0 0 0 0 0 0 0 1 0 0 0 0 0 1]\n",
      " [0 2 0 0 0 0 0 0 0 0 0 0 0 0 0 0 0 0 1 0 1 0 0 2]\n",
      " [0 0 0 0 0 0 0 0 0 0 0 2 0 0 0 0 1 1 0 0 0 0 3 0]\n",
      " [0 1 0 0 0 0 0 0 0 0 0 0 0 0 0 0 0 0 0 0 1 0 3 0]\n",
      " [0 0 0 0 0 0 0 0 0 0 0 0 0 0 0 1 0 0 0 0 1 0 0 2]\n",
      " [0 1 0 0 0 0 0 2 0 0 0 0 0 0 0 0 0 1 0 0 0 0 2 2]\n",
      " [0 0 0 0 0 0 2 0 0 0 0 0 0 0 0 1 0 0 0 1 0 0 1 1]\n",
      " [1 0 0 0 0 0 0 0 0 0 0 0 0 0 0 1 1 0 1 0 0 0 1 5]\n",
      " [0 0 0 1 0 0 1 1 0 0 0 1 0 0 0 1 1 0 0 2 0 0 2 2]\n",
      " [0 0 0 0 0 0 0 0 0 0 0 1 0 0 0 0 1 0 0 2 1 0 1 2]\n",
      " [0 0 0 0 0 0 0 0 0 0 0 0 0 0 0 1 0 0 0 0 0 0 3 0]\n",
      " [0 0 0 0 0 0 0 0 0 0 0 2 0 0 0 0 0 2 0 0 0 0 4 0]\n",
      " [0 0 0 0 0 0 1 0 0 0 0 0 0 0 0 0 0 0 0 0 0 0 3 3]\n",
      " [0 0 0 0 0 0 0 0 0 0 0 0 0 1 0 5 0 0 0 0 0 0 1 0]\n",
      " [0 0 0 0 0 0 0 0 0 0 0 0 0 0 0 0 0 0 0 0 0 0 2 2]\n",
      " [0 0 0 0 0 0 0 0 0 0 0 1 0 0 0 0 0 0 0 2 1 0 1 3]\n",
      " [0 0 0 0 0 0 0 0 0 0 0 0 0 0 0 1 0 0 1 0 0 0 4 3]\n",
      " [0 0 0 0 0 0 0 1 0 0 0 0 0 0 0 0 0 0 0 2 1 0 1 3]\n",
      " [0 0 0 0 0 0 0 0 0 0 0 0 0 0 0 1 1 0 0 1 1 0 1 1]\n",
      " [0 0 0 0 0 0 0 0 0 0 0 0 0 0 0 1 0 0 0 0 0 0 3 3]\n",
      " [0 0 0 0 0 0 0 0 0 0 0 0 0 0 0 0 1 0 0 0 0 2 3 3]\n",
      " [0 0 0 0 0 0 0 0 0 0 0 0 0 0 0 0 0 1 1 0 0 0 1 3]\n",
      " [0 0 0 0 0 0 0 0 0 0 0 0 0 0 1 0 0 2 0 0 0 0 2 1]]\n"
     ]
    }
   ],
   "source": [
    "# confusion matrix and accuracy\n",
    "\n",
    "# accuracy\n",
    "print(\"accuracy:\", accuracy_score(y_true=np.argmax(y_test, axis=1), y_pred=y_pred), \"\\n\")\n",
    "\n",
    "# cm\n",
    "print(confusion_matrix(y_true=np.argmax(y_test, axis=1), y_pred=y_pred))"
   ]
  },
  {
   "cell_type": "code",
   "execution_count": 22,
   "metadata": {
    "colab": {
     "base_uri": "https://localhost:8080/"
    },
    "id": "jqcNl7adPV-a",
    "outputId": "efe46b47-fb9a-4402-ffac-5bfa8594fce4",
    "scrolled": true
   },
   "outputs": [
    {
     "name": "stdout",
     "output_type": "stream",
     "text": [
      "              precision    recall  f1-score   support\n",
      "\n",
      "           0       0.00      0.00      0.00         7\n",
      "           1       0.00      0.00      0.00         2\n",
      "           2       0.00      0.00      0.00         6\n",
      "           3       0.00      0.00      0.00         7\n",
      "           4       0.00      0.00      0.00         5\n",
      "           5       0.00      0.00      0.00         4\n",
      "           6       0.00      0.00      0.00         8\n",
      "           7       0.00      0.00      0.00         6\n",
      "           8       0.00      0.00      0.00        10\n",
      "           9       0.00      0.00      0.00        12\n",
      "          10       0.00      0.00      0.00         8\n",
      "          11       0.00      0.00      0.00         4\n",
      "          12       0.00      0.00      0.00         8\n",
      "          13       0.00      0.00      0.00         7\n",
      "          14       0.00      0.00      0.00         7\n",
      "          15       0.00      0.00      0.00         4\n",
      "          16       0.00      0.00      0.00         8\n",
      "          17       0.00      0.00      0.00         9\n",
      "          18       0.00      0.00      0.00         8\n",
      "          19       0.10      0.17      0.12         6\n",
      "          20       0.00      0.00      0.00         7\n",
      "          21       1.00      0.22      0.36         9\n",
      "          22       0.02      0.17      0.04         6\n",
      "          23       0.02      0.17      0.04         6\n",
      "\n",
      "    accuracy                           0.03       164\n",
      "   macro avg       0.05      0.03      0.02       164\n",
      "weighted avg       0.06      0.03      0.03       164\n",
      "\n"
     ]
    },
    {
     "name": "stderr",
     "output_type": "stream",
     "text": [
      "C:\\Users\\Xinyi\\anaconda3\\lib\\site-packages\\sklearn\\metrics\\_classification.py:1318: UndefinedMetricWarning: Precision and F-score are ill-defined and being set to 0.0 in labels with no predicted samples. Use `zero_division` parameter to control this behavior.\n",
      "  _warn_prf(average, modifier, msg_start, len(result))\n",
      "C:\\Users\\Xinyi\\anaconda3\\lib\\site-packages\\sklearn\\metrics\\_classification.py:1318: UndefinedMetricWarning: Precision and F-score are ill-defined and being set to 0.0 in labels with no predicted samples. Use `zero_division` parameter to control this behavior.\n",
      "  _warn_prf(average, modifier, msg_start, len(result))\n",
      "C:\\Users\\Xinyi\\anaconda3\\lib\\site-packages\\sklearn\\metrics\\_classification.py:1318: UndefinedMetricWarning: Precision and F-score are ill-defined and being set to 0.0 in labels with no predicted samples. Use `zero_division` parameter to control this behavior.\n",
      "  _warn_prf(average, modifier, msg_start, len(result))\n"
     ]
    }
   ],
   "source": [
    "print(classification_report(np.argmax(y_test, axis=1), y_pred))"
   ]
  },
  {
   "cell_type": "code",
   "execution_count": 23,
   "metadata": {
    "colab": {
     "base_uri": "https://localhost:8080/"
    },
    "id": "04R6LMl3PV-a",
    "outputId": "63a3d9ec-9c4a-46cc-d17c-567434a45f25",
    "scrolled": true
   },
   "outputs": [
    {
     "name": "stdout",
     "output_type": "stream",
     "text": [
      "ROC AUC score (micro average) 0.5441264904430593\n",
      "ROC AUC score (macro average) 0.5666830257598786\n"
     ]
    }
   ],
   "source": [
    "#get AUROC scores\n",
    "y_pred_scores = non_linear.predict_proba(X_test.reshape((X_test.shape[0],-1)))\n",
    "roc_auc_micro = roc_auc_score(y_test, y_pred_scores, multi_class='ovr', average='micro')\n",
    "roc_auc_macro = roc_auc_score(y_test, y_pred_scores, multi_class='ovr', average='macro')\n",
    "print(\"ROC AUC score (micro average)\", roc_auc_micro)\n",
    "print(\"ROC AUC score (macro average)\", roc_auc_macro)"
   ]
  },
  {
   "cell_type": "markdown",
   "metadata": {
    "id": "xdQHOsbAPV-a"
   },
   "source": [
    "#### SVM - GridSearchCV to get the best parameters"
   ]
  },
  {
   "cell_type": "code",
   "execution_count": 24,
   "metadata": {
    "id": "tvg3tMICPV-a"
   },
   "outputs": [],
   "source": [
    "#add gridsearchcv\n",
    "\n",
    "param_grid = {'C': [0.1, 1, 100, 1000], \n",
    "              'gamma': [1, 0.01, 0.0001]}\n",
    "grid = GridSearchCV(SVC(kernel='linear', probability=True), param_grid, n_jobs=-1)\n",
    "grid.fit(X_train.reshape((X_train.shape[0],-1)), np.argmax(y_train, axis=1))\n",
    "# predict\n",
    "y_pred = grid.predict(X_test.reshape((X_test.shape[0],-1)))"
   ]
  },
  {
   "cell_type": "code",
   "execution_count": 25,
   "metadata": {
    "id": "5JY0R5tEPV-a"
   },
   "outputs": [
    {
     "name": "stdout",
     "output_type": "stream",
     "text": [
      "{'C': 0.1, 'gamma': 1}\n"
     ]
    }
   ],
   "source": [
    "print(grid.best_params_)"
   ]
  },
  {
   "cell_type": "markdown",
   "metadata": {
    "id": "w0JlXSCCPV-a"
   },
   "source": [
    "##### Evaluation"
   ]
  },
  {
   "cell_type": "code",
   "execution_count": 26,
   "metadata": {
    "colab": {
     "base_uri": "https://localhost:8080/"
    },
    "id": "-UbzjxTcPV-b",
    "outputId": "606d72bc-a264-4212-e0e5-a3ecdf8d22a4"
   },
   "outputs": [
    {
     "name": "stdout",
     "output_type": "stream",
     "text": [
      "accuracy: 0.15853658536585366 \n",
      "\n",
      "[[0 2 0 0 0 0 1 0 1 0 0 0 0 0 1 0 1 0 1 0 0 0 0 0]\n",
      " [0 1 0 0 0 0 1 0 0 0 0 0 0 0 0 0 0 0 0 0 0 0 0 0]\n",
      " [0 1 0 1 1 0 0 0 0 1 0 0 0 1 1 0 0 0 0 0 0 0 0 0]\n",
      " [0 1 1 0 0 0 1 0 0 1 0 0 0 0 1 0 0 0 1 0 0 0 1 0]\n",
      " [2 0 0 0 0 0 0 0 0 0 0 0 0 1 0 0 0 0 1 0 0 0 1 0]\n",
      " [0 1 1 0 1 0 0 0 0 0 0 0 0 1 0 0 0 0 0 0 0 0 0 0]\n",
      " [0 0 0 1 0 2 0 1 1 1 1 0 0 0 0 0 0 0 1 0 0 0 0 0]\n",
      " [0 0 0 0 1 1 2 0 0 0 0 1 1 0 0 0 0 0 0 0 0 0 0 0]\n",
      " [0 0 2 2 0 0 0 1 2 0 0 1 0 0 0 0 2 0 0 0 0 0 0 0]\n",
      " [1 0 1 0 0 0 1 1 1 1 0 0 0 1 0 0 1 0 2 1 0 0 1 0]\n",
      " [0 0 1 0 0 0 0 1 1 0 2 1 1 0 0 0 0 0 0 0 1 0 0 0]\n",
      " [0 0 0 0 0 0 0 0 1 0 0 0 2 1 0 0 0 0 0 0 0 0 0 0]\n",
      " [1 1 0 0 0 0 1 0 2 0 0 0 0 1 0 0 0 0 1 0 0 0 1 0]\n",
      " [0 0 0 0 2 0 0 1 0 0 0 0 0 2 0 0 0 0 1 0 0 0 1 0]\n",
      " [0 0 0 0 0 1 0 1 0 0 0 1 0 0 1 1 0 0 2 0 0 0 0 0]\n",
      " [0 1 0 0 0 0 0 0 1 0 0 0 0 0 0 0 0 0 0 0 1 0 0 1]\n",
      " [0 0 0 0 0 0 0 0 0 1 1 1 0 0 0 0 4 1 0 0 0 0 0 0]\n",
      " [1 1 0 0 1 0 0 0 0 0 0 0 1 1 0 1 0 2 0 0 0 0 0 1]\n",
      " [0 3 0 0 0 0 0 0 0 0 0 0 0 0 1 0 0 1 1 1 0 0 1 0]\n",
      " [0 0 0 0 0 0 0 0 0 0 0 0 0 1 1 0 1 0 0 2 1 0 0 0]\n",
      " [0 0 0 0 0 0 1 0 0 0 0 1 1 0 0 0 2 0 0 0 2 0 0 0]\n",
      " [0 0 0 0 0 0 0 0 0 0 0 0 1 0 0 0 0 0 0 2 3 3 0 0]\n",
      " [0 0 1 0 0 0 1 0 0 1 0 0 0 1 0 0 0 0 0 0 1 0 1 0]\n",
      " [1 0 0 0 0 0 0 0 0 0 0 0 0 1 0 0 0 1 0 0 0 1 0 2]]\n"
     ]
    }
   ],
   "source": [
    "# confusion matrix and accuracy\n",
    "\n",
    "# accuracy\n",
    "print(\"accuracy:\", accuracy_score(y_true=np.argmax(y_test, axis=1), y_pred=y_pred), \"\\n\")\n",
    "\n",
    "# cm\n",
    "print(confusion_matrix(y_true=np.argmax(y_test, axis=1), y_pred=y_pred))"
   ]
  },
  {
   "cell_type": "code",
   "execution_count": 27,
   "metadata": {
    "colab": {
     "base_uri": "https://localhost:8080/"
    },
    "id": "OGoL5VgnPV-b",
    "outputId": "0e7eca2f-da24-46af-da3f-531e8d83d4cc"
   },
   "outputs": [
    {
     "name": "stdout",
     "output_type": "stream",
     "text": [
      "              precision    recall  f1-score   support\n",
      "\n",
      "           0       0.00      0.00      0.00         7\n",
      "           1       0.08      0.50      0.14         2\n",
      "           2       0.00      0.00      0.00         6\n",
      "           3       0.00      0.00      0.00         7\n",
      "           4       0.00      0.00      0.00         5\n",
      "           5       0.00      0.00      0.00         4\n",
      "           6       0.00      0.00      0.00         8\n",
      "           7       0.00      0.00      0.00         6\n",
      "           8       0.20      0.20      0.20        10\n",
      "           9       0.17      0.08      0.11        12\n",
      "          10       0.50      0.25      0.33         8\n",
      "          11       0.00      0.00      0.00         4\n",
      "          12       0.00      0.00      0.00         8\n",
      "          13       0.17      0.29      0.21         7\n",
      "          14       0.17      0.14      0.15         7\n",
      "          15       0.00      0.00      0.00         4\n",
      "          16       0.36      0.50      0.42         8\n",
      "          17       0.40      0.22      0.29         9\n",
      "          18       0.09      0.12      0.11         8\n",
      "          19       0.33      0.33      0.33         6\n",
      "          20       0.22      0.29      0.25         7\n",
      "          21       0.75      0.33      0.46         9\n",
      "          22       0.14      0.17      0.15         6\n",
      "          23       0.50      0.33      0.40         6\n",
      "\n",
      "    accuracy                           0.16       164\n",
      "   macro avg       0.17      0.16      0.15       164\n",
      "weighted avg       0.19      0.16      0.16       164\n",
      "\n"
     ]
    }
   ],
   "source": [
    "print(classification_report(np.argmax(y_test, axis=1), y_pred))"
   ]
  },
  {
   "cell_type": "code",
   "execution_count": 28,
   "metadata": {
    "colab": {
     "base_uri": "https://localhost:8080/"
    },
    "id": "W7HHl-GiPV-b",
    "outputId": "398fdc71-058e-4bcc-d49e-5b372ed55e21"
   },
   "outputs": [
    {
     "name": "stdout",
     "output_type": "stream",
     "text": [
      "ROC AUC score (micro average) 0.5220980006724776\n",
      "ROC AUC score (macro average) 0.5802250367784576\n"
     ]
    }
   ],
   "source": [
    "#get AUROC scores\n",
    "\n",
    "y_pred_scores = grid.predict_proba(X_test.reshape((X_test.shape[0],-1)))\n",
    "roc_auc_micro = roc_auc_score(y_test, y_pred_scores, multi_class='ovr', average='micro')\n",
    "roc_auc_macro = roc_auc_score(y_test, y_pred_scores, multi_class='ovr', average='macro')\n",
    "print(\"ROC AUC score (micro average)\", roc_auc_micro)\n",
    "print(\"ROC AUC score (macro average)\", roc_auc_macro)"
   ]
  }
 ],
 "metadata": {
  "accelerator": "GPU",
  "colab": {
   "collapsed_sections": [
    "fCnH8t0APV-Y",
    "ULq_y63ZPV-a"
   ],
   "provenance": []
  },
  "gpuClass": "standard",
  "kernelspec": {
   "display_name": "Python 3 (ipykernel)",
   "language": "python",
   "name": "python3"
  },
  "language_info": {
   "codemirror_mode": {
    "name": "ipython",
    "version": 3
   },
   "file_extension": ".py",
   "mimetype": "text/x-python",
   "name": "python",
   "nbconvert_exporter": "python",
   "pygments_lexer": "ipython3",
   "version": "3.9.13"
  }
 },
 "nbformat": 4,
 "nbformat_minor": 1
}
