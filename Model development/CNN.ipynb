{
  "cells": [
    {
      "cell_type": "code",
      "execution_count": null,
      "metadata": {
        "id": "dRtfA2NgAIb7"
      },
      "outputs": [],
      "source": [
        "import matplotlib.pyplot as plt\n",
        "import seaborn as sns\n",
        "from keras.models import Sequential\n",
        "from keras.layers import Dense, Conv2D , Conv1D, MaxPool1D, MaxPool2D , Flatten , Dropout , BatchNormalization\n",
        "from keras.preprocessing.image import ImageDataGenerator\n",
        "from sklearn.model_selection import train_test_split\n",
        "from sklearn.metrics import classification_report,confusion_matrix, roc_auc_score, accuracy_score\n",
        "import pandas as pd\n",
        "from sklearn.preprocessing import LabelBinarizer\n",
        "import joblib\n",
        "import os\n",
        "from PIL import Image\n",
        "from sklearn.model_selection import train_test_split, KFold\n",
        "from tqdm import tqdm\n",
        "import re\n",
        "import numpy as np\n",
        "from keras.models import Sequential\n",
        "from keras.layers import Conv2D, MaxPool2D, MaxPooling2D, GlobalAveragePooling2D, BatchNormalization, Dropout, Dense, Flatten, Input, Lambda\n",
        "from keras.preprocessing.image import ImageDataGenerator\n",
        "from keras.callbacks import ModelCheckpoint\n",
        "from keras.callbacks import ReduceLROnPlateau , EarlyStopping\n",
        "from tensorflow.keras.optimizers import Adam \n",
        "from tensorflow.keras import regularizers\n",
        "import tensorflow as tf\n",
        "from keras.utils.np_utils import to_categorical # convert to one-hot-encoding"
      ]
    },
    {
      "cell_type": "code",
      "execution_count": null,
      "metadata": {
        "colab": {
          "base_uri": "https://localhost:8080/"
        },
        "id": "t-RSJh0JlKB_",
        "outputId": "ebc19254-cf24-4be8-c596-9117cad6c42f"
      },
      "outputs": [
        {
          "output_type": "stream",
          "name": "stdout",
          "text": [
            "Mounted at /content/drive\n"
          ]
        }
      ],
      "source": [
        "from google.colab import drive\n",
        "drive.mount('/content/drive')"
      ]
    },
    {
      "cell_type": "code",
      "execution_count": null,
      "metadata": {
        "id": "xanvjXIQFK8t"
      },
      "outputs": [],
      "source": [
        "import albumentations as A\n",
        "\n",
        "transform = A.Compose([\n",
        "    A.RandomBrightnessContrast(),\n",
        "    A.Affine(scale=[0.8,1.2],translate_percent=0.05, shear=0.2, keep_ratio=True, p=0.5),\n",
        "    A.Rotate(limit=10)\n",
        "])"
      ]
    },
    {
      "cell_type": "markdown",
      "metadata": {
        "id": "JEy377YyPMuY"
      },
      "source": [
        "## Without mediapipe"
      ]
    },
    {
      "cell_type": "markdown",
      "metadata": {
        "id": "ccFPmDRlPGWn"
      },
      "source": [
        "#### Read image and convert it to 28x28 matrix:"
      ]
    },
    {
      "cell_type": "code",
      "execution_count": null,
      "metadata": {
        "id": "nGhlM2Tt0xmY"
      },
      "outputs": [],
      "source": [
        "folder_name = '/content/drive/MyDrive/IS4242/data' #might be different for different people\n",
        "path = folder_name\n",
        "img_list = []\n",
        "label_list = []\n",
        "txt = 'abcdefghiklmnopqrstuvwxy'\n",
        "\n",
        "for i in tqdm(range(len(os.listdir(path)))):\n",
        "  filename = os.listdir(path)[i]\n",
        "  if filename.endswith(('.jpg','.png')):\n",
        "      label_name = re.split(r'[-_]', filename)[0].lower()\n",
        "      if label_name not in txt:\n",
        "        continue\n",
        "      label_list.append(label_name)\n",
        "      img = Image.open(os.path.join(path, filename))\n",
        "      img = img.resize((28, 28), Image.ANTIALIAS)\n",
        "      img = img.convert('L')\n",
        "      img_array = np.array(img)\n",
        "      \n",
        "      img_list.append(img_array)\n"
      ]
    },
    {
      "cell_type": "code",
      "execution_count": null,
      "metadata": {
        "id": "hnhcjdxaX5pb"
      },
      "outputs": [],
      "source": [
        "X = np.array(img_list)\n",
        "\n",
        "y = np.array(label_list)\n",
        "y = np.array(list(map(lambda x:txt.find(x), y)))\n",
        "y = to_categorical(y)"
      ]
    },
    {
      "cell_type": "markdown",
      "metadata": {
        "id": "Qe39EoIxPSUr"
      },
      "source": [
        "#### Train test split"
      ]
    },
    {
      "cell_type": "code",
      "execution_count": null,
      "metadata": {
        "colab": {
          "base_uri": "https://localhost:8080/"
        },
        "id": "3TP5kyryXAEE",
        "outputId": "2a834daf-bd74-4f59-b91b-f05ff19d268b"
      },
      "outputs": [
        {
          "name": "stdout",
          "output_type": "stream",
          "text": [
            "(634, 28, 28)\n",
            "(159, 28, 28)\n",
            "(634, 24)\n",
            "(159, 24)\n"
          ]
        },
        {
          "data": {
            "text/plain": [
              "['/content/drive/MyDrive/IS4242/dump/y.pkl']"
            ]
          },
          "execution_count": 161,
          "metadata": {},
          "output_type": "execute_result"
        }
      ],
      "source": [
        "X_train, X_test, y_train, y_test = train_test_split(X, y, test_size=0.2, random_state=42)\n",
        "print(X_train.shape)\n",
        "print(X_test.shape)\n",
        "print(y_train.shape)\n",
        "print(y_test.shape)\n",
        "\n",
        "output_dir = '/content/drive/MyDrive/IS4242/dump/'\n",
        "joblib.dump(X, output_dir+'X.pkl')\n",
        "joblib.dump(y, output_dir+'y.pkl')"
      ]
    },
    {
      "cell_type": "markdown",
      "metadata": {
        "id": "qc6PtL6oPUnt"
      },
      "source": [
        "#### Augmentation only on train data"
      ]
    },
    {
      "cell_type": "code",
      "execution_count": null,
      "metadata": {
        "colab": {
          "base_uri": "https://localhost:8080/"
        },
        "id": "1Mx2XuirTNKf",
        "outputId": "c3bdf118-db2a-4e11-8c0c-2d1536239989"
      },
      "outputs": [
        {
          "data": {
            "text/plain": [
              "['/content/drive/MyDrive/IS4242/dump/augmented_y.pkl']"
            ]
          },
          "execution_count": 162,
          "metadata": {},
          "output_type": "execute_result"
        }
      ],
      "source": [
        "augmented_X = []\n",
        "augmented_y = []\n",
        "for i in range(len(X_train)):\n",
        "  for j in (range(10)):\n",
        "      transformed = transform(image=X_train[i])\n",
        "      augmented_X.append(transformed['image'])\n",
        "      augmented_y.append(y_train[i])\n",
        "\n",
        "augmented_X = np.array(augmented_X)\n",
        "augmented_y = np.array(augmented_y)\n",
        "X_train = np.concatenate([X_train,augmented_X])\n",
        "y_train = np.concatenate([y_train,augmented_y])\n",
        "\n",
        "output_dir = '/content/drive/MyDrive/IS4242/dump/'\n",
        "joblib.dump(augmented_X, output_dir+'augmented_X.pkl')\n",
        "joblib.dump(augmented_y, output_dir+'augmented_y.pkl')"
      ]
    },
    {
      "cell_type": "code",
      "execution_count": null,
      "metadata": {
        "colab": {
          "base_uri": "https://localhost:8080/"
        },
        "id": "E4hLE3l4WzYv",
        "outputId": "4d122b62-47e9-4d2b-bf59-58177d094a40"
      },
      "outputs": [
        {
          "name": "stdout",
          "output_type": "stream",
          "text": [
            "(6974, 28, 28)\n",
            "(6974, 24)\n"
          ]
        }
      ],
      "source": [
        "print(X_train.shape)\n",
        "print(y_train.shape)"
      ]
    },
    {
      "cell_type": "markdown",
      "metadata": {
        "id": "wfWb8w7hPX84"
      },
      "source": [
        "#### Reshape and divide the pixels by 255"
      ]
    },
    {
      "cell_type": "code",
      "execution_count": null,
      "metadata": {
        "id": "wiwpcpoi2tA1"
      },
      "outputs": [],
      "source": [
        "X_train = X_train/255.0\n",
        "X_test = X_test/255.0\n",
        "X_train = X_train.reshape(-1, 28, 28, 1)\n",
        "X_test = X_test.reshape(-1, 28, 28, 1)"
      ]
    },
    {
      "cell_type": "code",
      "execution_count": null,
      "metadata": {
        "colab": {
          "base_uri": "https://localhost:8080/"
        },
        "id": "_fk-szWv2k__",
        "outputId": "e5861d1a-5cbe-421e-c463-ad7f7d7d2a7f"
      },
      "outputs": [
        {
          "name": "stdout",
          "output_type": "stream",
          "text": [
            "(6974, 28, 28, 1)\n",
            "(159, 28, 28, 1)\n",
            "(6974, 24)\n",
            "(159, 24)\n"
          ]
        }
      ],
      "source": [
        "print(X_train.shape)\n",
        "print(X_test.shape)\n",
        "print(y_train.shape)\n",
        "print(y_test.shape)"
      ]
    },
    {
      "cell_type": "markdown",
      "metadata": {
        "id": "b8I5qxKuPc6V"
      },
      "source": [
        "#### CNN with augmentation"
      ]
    },
    {
      "cell_type": "code",
      "execution_count": null,
      "metadata": {
        "id": "Ydv19V402LZf"
      },
      "outputs": [],
      "source": [
        "datagen = ImageDataGenerator(\n",
        "        featurewise_center=False,  # set input mean to 0 over the dataset\n",
        "        samplewise_center=False,  # set each sample mean to 0\n",
        "        featurewise_std_normalization=False,  # divide inputs by std of the dataset\n",
        "        samplewise_std_normalization=False,  # divide each input by its std\n",
        "        zca_whitening=False,  # apply ZCA whitening\n",
        "        rotation_range=10,  # randomly rotate images in the range (degrees, 0 to 180)\n",
        "        zoom_range = 0.1, # Randomly zoom image \n",
        "        width_shift_range=0.1,  # randomly shift images horizontally (fraction of total width)\n",
        "        height_shift_range=0.1,  # randomly shift images vertically (fraction of total height)\n",
        "        horizontal_flip=False,\n",
        "        brightness_range=[0.8,1.2],\n",
        "        vertical_flip=False)\n",
        "\n",
        "\n",
        "datagen.fit(X_train)"
      ]
    },
    {
      "cell_type": "code",
      "execution_count": null,
      "metadata": {
        "id": "kLLF0_5B59ek"
      },
      "outputs": [],
      "source": [
        "# Set a learning rate annealer\n",
        "learning_rate_reduction = ReduceLROnPlateau(monitor='val_accuracy', \n",
        "                                            patience=3, \n",
        "                                            verbose=1, \n",
        "                                            factor=0.5, \n",
        "                                            min_lr=0.00001)"
      ]
    },
    {
      "cell_type": "code",
      "execution_count": null,
      "metadata": {
        "colab": {
          "base_uri": "https://localhost:8080/"
        },
        "id": "Pqun26fn2gQC",
        "outputId": "87cd1608-4b65-4e69-fe02-951bbf138ce5"
      },
      "outputs": [
        {
          "name": "stderr",
          "output_type": "stream",
          "text": [
            "WARNING:absl:`lr` is deprecated, please use `learning_rate` instead, or use the legacy optimizer, e.g.,tf.keras.optimizers.legacy.Adam.\n"
          ]
        },
        {
          "name": "stdout",
          "output_type": "stream",
          "text": [
            "Model: \"sequential_7\"\n",
            "_________________________________________________________________\n",
            " Layer (type)                Output Shape              Param #   \n",
            "=================================================================\n",
            " conv2d_42 (Conv2D)          (None, 28, 28, 32)        832       \n",
            "                                                                 \n",
            " conv2d_43 (Conv2D)          (None, 28, 28, 32)        25632     \n",
            "                                                                 \n",
            " max_pooling2d_21 (MaxPoolin  (None, 14, 14, 32)       0         \n",
            " g2D)                                                            \n",
            "                                                                 \n",
            " batch_normalization_21 (Bat  (None, 14, 14, 32)       128       \n",
            " chNormalization)                                                \n",
            "                                                                 \n",
            " dropout_28 (Dropout)        (None, 14, 14, 32)        0         \n",
            "                                                                 \n",
            " conv2d_44 (Conv2D)          (None, 14, 14, 64)        18496     \n",
            "                                                                 \n",
            " conv2d_45 (Conv2D)          (None, 14, 14, 64)        36928     \n",
            "                                                                 \n",
            " max_pooling2d_22 (MaxPoolin  (None, 7, 7, 64)         0         \n",
            " g2D)                                                            \n",
            "                                                                 \n",
            " batch_normalization_22 (Bat  (None, 7, 7, 64)         256       \n",
            " chNormalization)                                                \n",
            "                                                                 \n",
            " dropout_29 (Dropout)        (None, 7, 7, 64)          0         \n",
            "                                                                 \n",
            " conv2d_46 (Conv2D)          (None, 7, 7, 128)         73856     \n",
            "                                                                 \n",
            " conv2d_47 (Conv2D)          (None, 7, 7, 128)         147584    \n",
            "                                                                 \n",
            " batch_normalization_23 (Bat  (None, 7, 7, 128)        512       \n",
            " chNormalization)                                                \n",
            "                                                                 \n",
            " max_pooling2d_23 (MaxPoolin  (None, 4, 4, 128)        0         \n",
            " g2D)                                                            \n",
            "                                                                 \n",
            " dropout_30 (Dropout)        (None, 4, 4, 128)         0         \n",
            "                                                                 \n",
            " flatten_7 (Flatten)         (None, 2048)              0         \n",
            "                                                                 \n",
            " dense_14 (Dense)            (None, 512)               1049088   \n",
            "                                                                 \n",
            " dropout_31 (Dropout)        (None, 512)               0         \n",
            "                                                                 \n",
            " dense_15 (Dense)            (None, 24)                12312     \n",
            "                                                                 \n",
            "=================================================================\n",
            "Total params: 1,365,624\n",
            "Trainable params: 1,365,176\n",
            "Non-trainable params: 448\n",
            "_________________________________________________________________\n"
          ]
        }
      ],
      "source": [
        "# architecture\n",
        "# Set the CNN model \n",
        "\n",
        "model = Sequential()\n",
        "model.add(Conv2D(filters = 128, kernel_size = (5,5),padding = 'Same', \n",
        "                 activation ='relu', input_shape = (28,28,1)))\n",
        "model.add(Conv2D(filters = 128, kernel_size = (5,5),padding = 'Same', \n",
        "                 activation ='relu'))\n",
        "model.add(MaxPool2D(pool_size=(2,2)))\n",
        "model.add(BatchNormalization())\n",
        "model.add(Dropout(0.25))\n",
        "model.add(Conv2D(filters = 64, kernel_size = (3,3),padding = 'Same', \n",
        "                 activation ='relu'))\n",
        "model.add(Conv2D(filters = 64, kernel_size = (3,3),padding = 'Same', \n",
        "                 activation ='relu'))\n",
        "model.add(MaxPool2D(pool_size=(2,2), strides=(2,2)))\n",
        "model.add(BatchNormalization())\n",
        "model.add(Dropout(0.25))\n",
        "model.add(Conv2D(filters = 32, kernel_size = (3,3),padding = 'Same', \n",
        "                 activation ='relu'))\n",
        "model.add(Conv2D(filters = 32, kernel_size = (3,3),padding = 'Same', \n",
        "                 activation ='relu'))\n",
        "model.add(BatchNormalization())\n",
        "model.add(MaxPool2D((2,2) , strides = 2 , padding = 'same'))\n",
        "model.add(Dropout(0.25))\n",
        "model.add(Flatten())\n",
        "model.add(Dense(512, activation = \"relu\"))\n",
        "model.add(Dense(256, activation = \"relu\"))\n",
        "model.add(Dense(24, activation = \"softmax\"))\n",
        "\n",
        "model.compile(optimizer=Adam(lr=0.001), loss='categorical_crossentropy', metrics=['accuracy'])\n",
        "model.summary()"
      ]
    },
    {
      "cell_type": "code",
      "execution_count": null,
      "metadata": {
        "colab": {
          "base_uri": "https://localhost:8080/"
        },
        "id": "agrAieb-3u8u",
        "outputId": "00dd509a-dcf4-4531-945c-23b8a3ce0a0d"
      },
      "outputs": [
        {
          "name": "stdout",
          "output_type": "stream",
          "text": [
            "Epoch 1/30\n"
          ]
        },
        {
          "name": "stderr",
          "output_type": "stream",
          "text": [
            "<ipython-input-169-021abc8791b3>:15: UserWarning: `Model.fit_generator` is deprecated and will be removed in a future version. Please use `Model.fit`, which supports generators.\n",
            "  history = model.fit_generator(datagen.flow(X_train, y_train, batch_size=batch_size),\n"
          ]
        },
        {
          "name": "stdout",
          "output_type": "stream",
          "text": [
            "54/54 [==============================] - ETA: 0s - loss: 3.4244 - accuracy: 0.0540\n",
            "Epoch 1: val_accuracy improved from -inf to 0.01887, saving model to best.h5\n",
            "54/54 [==============================] - 81s 1s/step - loss: 3.4244 - accuracy: 0.0540 - val_loss: 3.2231 - val_accuracy: 0.0189 - lr: 0.0010\n",
            "Epoch 2/30\n",
            "54/54 [==============================] - ETA: 0s - loss: 3.1336 - accuracy: 0.0711\n",
            "Epoch 2: val_accuracy improved from 0.01887 to 0.06289, saving model to best.h5\n",
            "54/54 [==============================] - 82s 2s/step - loss: 3.1336 - accuracy: 0.0711 - val_loss: 3.2113 - val_accuracy: 0.0629 - lr: 0.0010\n",
            "Epoch 3/30\n",
            "54/54 [==============================] - ETA: 0s - loss: 3.0425 - accuracy: 0.0963\n",
            "Epoch 3: val_accuracy did not improve from 0.06289\n",
            "54/54 [==============================] - 77s 1s/step - loss: 3.0425 - accuracy: 0.0963 - val_loss: 3.2515 - val_accuracy: 0.0440 - lr: 0.0010\n",
            "Epoch 4/30\n",
            "54/54 [==============================] - ETA: 0s - loss: 2.8801 - accuracy: 0.1382\n",
            "Epoch 4: val_accuracy did not improve from 0.06289\n",
            "54/54 [==============================] - 76s 1s/step - loss: 2.8801 - accuracy: 0.1382 - val_loss: 3.2985 - val_accuracy: 0.0440 - lr: 0.0010\n",
            "Epoch 5/30\n",
            "54/54 [==============================] - ETA: 0s - loss: 2.6671 - accuracy: 0.1956\n",
            "Epoch 5: val_accuracy did not improve from 0.06289\n",
            "\n",
            "Epoch 5: ReduceLROnPlateau reducing learning rate to 0.0005000000237487257.\n",
            "54/54 [==============================] - 79s 1s/step - loss: 2.6671 - accuracy: 0.1956 - val_loss: 3.4097 - val_accuracy: 0.0440 - lr: 0.0010\n",
            "Epoch 6/30\n",
            "54/54 [==============================] - ETA: 0s - loss: 2.3441 - accuracy: 0.2762\n",
            "Epoch 6: val_accuracy improved from 0.06289 to 0.06918, saving model to best.h5\n",
            "54/54 [==============================] - 89s 2s/step - loss: 2.3441 - accuracy: 0.2762 - val_loss: 3.4709 - val_accuracy: 0.0692 - lr: 5.0000e-04\n",
            "Epoch 7/30\n",
            "54/54 [==============================] - ETA: 0s - loss: 2.0757 - accuracy: 0.3490\n",
            "Epoch 7: val_accuracy improved from 0.06918 to 0.10692, saving model to best.h5\n",
            "54/54 [==============================] - 79s 1s/step - loss: 2.0757 - accuracy: 0.3490 - val_loss: 3.3159 - val_accuracy: 0.1069 - lr: 5.0000e-04\n",
            "Epoch 8/30\n",
            "54/54 [==============================] - ETA: 0s - loss: 1.8396 - accuracy: 0.4074\n",
            "Epoch 8: val_accuracy improved from 0.10692 to 0.11321, saving model to best.h5\n",
            "54/54 [==============================] - 76s 1s/step - loss: 1.8396 - accuracy: 0.4074 - val_loss: 3.4892 - val_accuracy: 0.1132 - lr: 5.0000e-04\n",
            "Epoch 9/30\n",
            "54/54 [==============================] - ETA: 0s - loss: 1.5550 - accuracy: 0.5031\n",
            "Epoch 9: val_accuracy improved from 0.11321 to 0.20755, saving model to best.h5\n",
            "54/54 [==============================] - 77s 1s/step - loss: 1.5550 - accuracy: 0.5031 - val_loss: 3.6233 - val_accuracy: 0.2075 - lr: 5.0000e-04\n",
            "Epoch 10/30\n",
            "54/54 [==============================] - ETA: 0s - loss: 1.3433 - accuracy: 0.5672\n",
            "Epoch 10: val_accuracy improved from 0.20755 to 0.23270, saving model to best.h5\n",
            "54/54 [==============================] - 76s 1s/step - loss: 1.3433 - accuracy: 0.5672 - val_loss: 3.0212 - val_accuracy: 0.2327 - lr: 5.0000e-04\n",
            "Epoch 11/30\n",
            "54/54 [==============================] - ETA: 0s - loss: 1.1319 - accuracy: 0.6287\n",
            "Epoch 11: val_accuracy improved from 0.23270 to 0.25786, saving model to best.h5\n",
            "54/54 [==============================] - 78s 1s/step - loss: 1.1319 - accuracy: 0.6287 - val_loss: 3.1037 - val_accuracy: 0.2579 - lr: 5.0000e-04\n",
            "Epoch 12/30\n",
            "54/54 [==============================] - ETA: 0s - loss: 0.9737 - accuracy: 0.6814\n",
            "Epoch 12: val_accuracy improved from 0.25786 to 0.30189, saving model to best.h5\n",
            "54/54 [==============================] - 84s 2s/step - loss: 0.9737 - accuracy: 0.6814 - val_loss: 2.7591 - val_accuracy: 0.3019 - lr: 5.0000e-04\n",
            "Epoch 13/30\n",
            "54/54 [==============================] - ETA: 0s - loss: 0.8218 - accuracy: 0.7263\n",
            "Epoch 13: val_accuracy improved from 0.30189 to 0.33333, saving model to best.h5\n",
            "54/54 [==============================] - 90s 2s/step - loss: 0.8218 - accuracy: 0.7263 - val_loss: 2.7441 - val_accuracy: 0.3333 - lr: 5.0000e-04\n",
            "Epoch 14/30\n",
            "54/54 [==============================] - ETA: 0s - loss: 0.7156 - accuracy: 0.7602\n",
            "Epoch 14: val_accuracy did not improve from 0.33333\n",
            "54/54 [==============================] - 95s 2s/step - loss: 0.7156 - accuracy: 0.7602 - val_loss: 3.1870 - val_accuracy: 0.2893 - lr: 5.0000e-04\n",
            "Epoch 15/30\n",
            "54/54 [==============================] - ETA: 0s - loss: 0.6308 - accuracy: 0.7894\n",
            "Epoch 15: val_accuracy did not improve from 0.33333\n",
            "54/54 [==============================] - 78s 1s/step - loss: 0.6308 - accuracy: 0.7894 - val_loss: 3.0211 - val_accuracy: 0.3208 - lr: 5.0000e-04\n",
            "Epoch 16/30\n",
            "54/54 [==============================] - ETA: 0s - loss: 0.5472 - accuracy: 0.8151\n",
            "Epoch 16: val_accuracy improved from 0.33333 to 0.34591, saving model to best.h5\n",
            "54/54 [==============================] - 77s 1s/step - loss: 0.5472 - accuracy: 0.8151 - val_loss: 3.1041 - val_accuracy: 0.3459 - lr: 5.0000e-04\n",
            "Epoch 17/30\n",
            "54/54 [==============================] - ETA: 0s - loss: 0.4793 - accuracy: 0.8437\n",
            "Epoch 17: val_accuracy did not improve from 0.34591\n",
            "54/54 [==============================] - 81s 2s/step - loss: 0.4793 - accuracy: 0.8437 - val_loss: 3.1205 - val_accuracy: 0.3459 - lr: 5.0000e-04\n",
            "Epoch 18/30\n",
            "54/54 [==============================] - ETA: 0s - loss: 0.4559 - accuracy: 0.8453\n",
            "Epoch 18: val_accuracy improved from 0.34591 to 0.37736, saving model to best.h5\n",
            "54/54 [==============================] - 77s 1s/step - loss: 0.4559 - accuracy: 0.8453 - val_loss: 2.9325 - val_accuracy: 0.3774 - lr: 5.0000e-04\n",
            "Epoch 19/30\n",
            "54/54 [==============================] - ETA: 0s - loss: 0.3986 - accuracy: 0.8671\n",
            "Epoch 19: val_accuracy improved from 0.37736 to 0.40881, saving model to best.h5\n",
            "54/54 [==============================] - 76s 1s/step - loss: 0.3986 - accuracy: 0.8671 - val_loss: 2.8951 - val_accuracy: 0.4088 - lr: 5.0000e-04\n",
            "Epoch 20/30\n",
            "54/54 [==============================] - ETA: 0s - loss: 0.3914 - accuracy: 0.8684\n",
            "Epoch 20: val_accuracy did not improve from 0.40881\n",
            "54/54 [==============================] - 76s 1s/step - loss: 0.3914 - accuracy: 0.8684 - val_loss: 3.1656 - val_accuracy: 0.3711 - lr: 5.0000e-04\n",
            "Epoch 21/30\n",
            "54/54 [==============================] - ETA: 0s - loss: 0.3280 - accuracy: 0.8884\n",
            "Epoch 21: val_accuracy did not improve from 0.40881\n",
            "54/54 [==============================] - 76s 1s/step - loss: 0.3280 - accuracy: 0.8884 - val_loss: 3.0522 - val_accuracy: 0.3648 - lr: 5.0000e-04\n",
            "Epoch 22/30\n",
            "54/54 [==============================] - ETA: 0s - loss: 0.3317 - accuracy: 0.8888\n",
            "Epoch 22: val_accuracy did not improve from 0.40881\n",
            "\n",
            "Epoch 22: ReduceLROnPlateau reducing learning rate to 0.0002500000118743628.\n",
            "54/54 [==============================] - 76s 1s/step - loss: 0.3317 - accuracy: 0.8888 - val_loss: 2.8367 - val_accuracy: 0.3836 - lr: 5.0000e-04\n",
            "Epoch 23/30\n",
            "54/54 [==============================] - ETA: 0s - loss: 0.2663 - accuracy: 0.9090\n",
            "Epoch 23: val_accuracy did not improve from 0.40881\n",
            "54/54 [==============================] - 76s 1s/step - loss: 0.2663 - accuracy: 0.9090 - val_loss: 3.1798 - val_accuracy: 0.3774 - lr: 2.5000e-04\n",
            "Epoch 24/30\n",
            "54/54 [==============================] - ETA: 0s - loss: 0.2293 - accuracy: 0.9245\n",
            "Epoch 24: val_accuracy did not improve from 0.40881\n",
            "54/54 [==============================] - 76s 1s/step - loss: 0.2293 - accuracy: 0.9245 - val_loss: 3.4296 - val_accuracy: 0.3899 - lr: 2.5000e-04\n",
            "Epoch 25/30\n",
            "54/54 [==============================] - ETA: 0s - loss: 0.2157 - accuracy: 0.9271\n",
            "Epoch 25: val_accuracy did not improve from 0.40881\n",
            "\n",
            "Epoch 25: ReduceLROnPlateau reducing learning rate to 0.0001250000059371814.\n",
            "54/54 [==============================] - 76s 1s/step - loss: 0.2157 - accuracy: 0.9271 - val_loss: 3.6264 - val_accuracy: 0.3459 - lr: 2.5000e-04\n",
            "Epoch 26/30\n",
            "54/54 [==============================] - ETA: 0s - loss: 0.2092 - accuracy: 0.9292\n",
            "Epoch 26: val_accuracy did not improve from 0.40881\n",
            "54/54 [==============================] - 78s 1s/step - loss: 0.2092 - accuracy: 0.9292 - val_loss: 3.2894 - val_accuracy: 0.4088 - lr: 1.2500e-04\n",
            "Epoch 27/30\n",
            "54/54 [==============================] - ETA: 0s - loss: 0.1805 - accuracy: 0.9413\n",
            "Epoch 27: val_accuracy improved from 0.40881 to 0.42767, saving model to best.h5\n",
            "54/54 [==============================] - 76s 1s/step - loss: 0.1805 - accuracy: 0.9413 - val_loss: 3.2286 - val_accuracy: 0.4277 - lr: 1.2500e-04\n",
            "Epoch 28/30\n",
            "54/54 [==============================] - ETA: 0s - loss: 0.1827 - accuracy: 0.9416\n",
            "Epoch 28: val_accuracy did not improve from 0.42767\n",
            "54/54 [==============================] - 76s 1s/step - loss: 0.1827 - accuracy: 0.9416 - val_loss: 3.3386 - val_accuracy: 0.4088 - lr: 1.2500e-04\n",
            "Epoch 28: early stopping\n"
          ]
        }
      ],
      "source": [
        "epochs = 30\n",
        "batch_size = 32\n",
        "\n",
        "\n",
        "model_checkpoint_callback = ModelCheckpoint(\n",
        "    filepath=\"best.h5\",\n",
        "    monitor='val_accuracy', \n",
        "    verbose=1, \n",
        "    save_best_only=True, \n",
        "    mode='max')\n",
        "\n",
        "es = EarlyStopping(monitor=\"val_loss\", mode=\"min\", verbose=1, patience=10)\n",
        "\n",
        "# Fit the model\n",
        "history = model.fit_generator(datagen.flow(X_train, y_train, batch_size=batch_size),\n",
        "                              epochs = epochs, validation_data = (X_test, y_test),steps_per_epoch=X_train.shape[0] // batch_size,\n",
        "                              verbose = 1,   callbacks=[model_checkpoint_callback,learning_rate_reduction,es])"
      ]
    },
    {
      "cell_type": "code",
      "execution_count": null,
      "metadata": {
        "colab": {
          "base_uri": "https://localhost:8080/"
        },
        "id": "lYi1Or2e6nyg",
        "outputId": "fa3edc85-28b8-470d-e13b-8be5899e5862"
      },
      "outputs": [
        {
          "name": "stdout",
          "output_type": "stream",
          "text": [
            "5/5 [==============================] - 0s 71ms/step\n"
          ]
        }
      ],
      "source": [
        "results = model.predict(X_test)\n",
        "y_pred = np.argmax(results,axis = 1) \n",
        "y_true = np.argmax(y_test,axis = 1) \n"
      ]
    },
    {
      "cell_type": "markdown",
      "metadata": {
        "id": "oXikuqQYPgTq"
      },
      "source": [
        "#### Results"
      ]
    },
    {
      "cell_type": "code",
      "execution_count": null,
      "metadata": {
        "colab": {
          "base_uri": "https://localhost:8080/"
        },
        "id": "aLTWqAUsEm6k",
        "outputId": "b4b144e3-44ef-41aa-fb19-531479bc0f32"
      },
      "outputs": [
        {
          "name": "stdout",
          "output_type": "stream",
          "text": [
            "              precision    recall  f1-score   support\n",
            "\n",
            "           0       0.50      0.40      0.44         5\n",
            "           1       0.25      0.40      0.31         5\n",
            "           2       0.83      0.42      0.56        12\n",
            "           3       0.50      0.40      0.44         5\n",
            "           4       0.38      0.43      0.40         7\n",
            "           5       0.57      0.67      0.62         6\n",
            "           6       0.00      0.00      0.00         5\n",
            "           7       0.25      0.09      0.13        11\n",
            "           8       0.75      0.60      0.67         5\n",
            "           9       0.75      0.50      0.60         6\n",
            "          10       0.67      0.67      0.67         3\n",
            "          11       0.00      0.00      0.00         3\n",
            "          12       0.11      0.20      0.14         5\n",
            "          13       0.57      0.50      0.53         8\n",
            "          14       0.67      0.57      0.62         7\n",
            "          15       0.33      0.17      0.22         6\n",
            "          16       0.29      0.25      0.27         8\n",
            "          17       0.50      0.33      0.40         6\n",
            "          18       0.29      0.33      0.31         6\n",
            "          19       0.12      0.25      0.17         4\n",
            "          20       0.55      0.75      0.63         8\n",
            "          21       0.67      0.40      0.50        10\n",
            "          22       0.33      0.25      0.29         8\n",
            "          23       0.69      0.90      0.78        10\n",
            "\n",
            "    accuracy                           0.41       159\n",
            "   macro avg       0.44      0.39      0.40       159\n",
            "weighted avg       0.47      0.41      0.42       159\n",
            "\n"
          ]
        }
      ],
      "source": [
        "from sklearn.metrics import classification_report\n",
        "print(classification_report(y_true, y_pred))"
      ]
    },
    {
      "cell_type": "markdown",
      "metadata": {
        "id": "kKjvX_xZPiyd"
      },
      "source": [
        "#### Prediction and evaluation"
      ]
    },
    {
      "cell_type": "code",
      "execution_count": null,
      "metadata": {
        "id": "UEEggtZgP85l"
      },
      "outputs": [],
      "source": [
        "img = Image.open('m.png')\n",
        "img = img.resize((28, 28), Image.ANTIALIAS)\n",
        "img = img.convert('L')\n",
        "img_array = np.array(img)\n",
        "img_array = img_array/255.0\n",
        "img_array = img_array.reshape(-1, 28, 28, 1)"
      ]
    },
    {
      "cell_type": "code",
      "execution_count": null,
      "metadata": {
        "colab": {
          "base_uri": "https://localhost:8080/",
          "height": 53
        },
        "id": "-p0UFI3KQ60e",
        "outputId": "ad06d660-5564-4b31-ee20-4afdaae1a1bc"
      },
      "outputs": [
        {
          "name": "stdout",
          "output_type": "stream",
          "text": [
            "1/1 [==============================] - 0s 46ms/step\n"
          ]
        },
        {
          "data": {
            "application/vnd.google.colaboratory.intrinsic+json": {
              "type": "string"
            },
            "text/plain": [
              "'m'"
            ]
          },
          "execution_count": 177,
          "metadata": {},
          "output_type": "execute_result"
        }
      ],
      "source": [
        "results = model.predict(img_array)\n",
        "y_pred = np.argmax(results,axis = 1)\n",
        "txt[y_pred[0]]"
      ]
    },
    {
      "cell_type": "markdown",
      "metadata": {
        "id": "9fl9cpWnskqh"
      },
      "source": [
        "#### After hyperparameter tuning, train it with the whole data"
      ]
    },
    {
      "cell_type": "code",
      "execution_count": null,
      "metadata": {
        "id": "O8sJtvnz4SYl"
      },
      "outputs": [],
      "source": [
        "output_dir = '/content/drive/MyDrive/IS4242/dump/'\n",
        "X = joblib.load(output_dir+'X.pkl')\n",
        "y = joblib.load(output_dir+'y.pkl')"
      ]
    },
    {
      "cell_type": "code",
      "execution_count": null,
      "metadata": {
        "id": "RTRCQpJxsKwV"
      },
      "outputs": [],
      "source": [
        "augmentX = []\n",
        "augmenty = []\n",
        "for i in range(len(X)):\n",
        "  for j in (range(10)):\n",
        "      transformed = transform(image=X[i])\n",
        "      augmentX.append(transformed['image'])\n",
        "      augmenty.append(y[i])\n",
        "\n",
        "augmentX = np.array(augmentX)\n",
        "augmenty = np.array(augmenty)\n",
        "X = np.concatenate([X,augmentX])\n",
        "y = np.concatenate([y,augmenty])"
      ]
    },
    {
      "cell_type": "code",
      "execution_count": null,
      "metadata": {
        "id": "cvdlw0Wusfq_"
      },
      "outputs": [],
      "source": [
        "X = X/255.0\n",
        "X = X.reshape(-1, 28, 28, 1)"
      ]
    },
    {
      "cell_type": "code",
      "execution_count": null,
      "metadata": {
        "id": "-5dDlAFUstQo"
      },
      "outputs": [],
      "source": [
        "datagen = ImageDataGenerator(\n",
        "        featurewise_center=False,  # set input mean to 0 over the dataset\n",
        "        samplewise_center=False,  # set each sample mean to 0\n",
        "        featurewise_std_normalization=False,  # divide inputs by std of the dataset\n",
        "        samplewise_std_normalization=False,  # divide each input by its std\n",
        "        zca_whitening=False,  # apply ZCA whitening\n",
        "        rotation_range=10,  # randomly rotate images in the range (degrees, 0 to 180)\n",
        "        zoom_range = 0.1, # Randomly zoom image \n",
        "        width_shift_range=0.1,  # randomly shift images horizontally (fraction of total width)\n",
        "        height_shift_range=0.1,  # randomly shift images vertically (fraction of total height)\n",
        "        horizontal_flip=False,\n",
        "        brightness_range=[0.8,1.2],\n",
        "        vertical_flip=False)\n",
        "\n",
        "\n",
        "datagen.fit(X)"
      ]
    },
    {
      "cell_type": "code",
      "execution_count": null,
      "metadata": {
        "colab": {
          "base_uri": "https://localhost:8080/"
        },
        "id": "jfLB_Lz81HOz",
        "outputId": "5a5be516-fd07-4809-af34-36f5c4bdb91d"
      },
      "outputs": [
        {
          "name": "stderr",
          "output_type": "stream",
          "text": [
            "WARNING:absl:`lr` is deprecated, please use `learning_rate` instead, or use the legacy optimizer, e.g.,tf.keras.optimizers.legacy.Adam.\n"
          ]
        }
      ],
      "source": [
        "model = Sequential()\n",
        "model.add(Conv2D(filters = 32, kernel_size = (5,5),padding = 'Same', \n",
        "                 activation ='relu', input_shape = (28,28,1)))\n",
        "model.add(Conv2D(filters = 32, kernel_size = (5,5),padding = 'Same', \n",
        "                 activation ='relu'))\n",
        "model.add(MaxPool2D(pool_size=(2,2) , padding = 'same'))\n",
        "model.add(BatchNormalization())\n",
        "model.add(Dropout(0.25))\n",
        "model.add(Conv2D(filters = 64, kernel_size = (3,3),padding = 'Same', \n",
        "                 activation ='relu'))\n",
        "model.add(Conv2D(filters = 64, kernel_size = (3,3),padding = 'Same', \n",
        "                 activation ='relu'))\n",
        "model.add(MaxPool2D(pool_size=(2,2) , padding = 'same'))\n",
        "model.add(BatchNormalization())\n",
        "model.add(Dropout(0.25))\n",
        "model.add(Conv2D(filters = 128, kernel_size = (3,3),padding = 'Same', \n",
        "                 activation ='relu'))\n",
        "model.add(Conv2D(filters = 128, kernel_size = (3,3),padding = 'Same', \n",
        "                 activation ='relu'))\n",
        "model.add(BatchNormalization())\n",
        "model.add(MaxPool2D((2,2) , padding = 'same'))\n",
        "model.add(Dropout(0.25))\n",
        "model.add(Flatten())\n",
        "model.add(Dense(256, activation = \"relu\"))\n",
        "model.add(Dense(512, activation = \"relu\"))\n",
        "model.add(Dense(24, activation = \"softmax\"))\n",
        "\n",
        "model.compile(optimizer=Adam(lr=0.001), loss='categorical_crossentropy', metrics=['accuracy'])"
      ]
    },
    {
      "cell_type": "code",
      "execution_count": null,
      "metadata": {
        "id": "H1OIWSo7REu0"
      },
      "outputs": [],
      "source": [
        "epochs = 30\n",
        "batch_size = 64\n",
        "\n",
        "# Fit the model\n",
        "model.compile(optimizer=Adam(lr=0.001), loss='categorical_crossentropy', metrics=['accuracy'])\n",
        "history = model.fit_generator(datagen.flow(X, y, batch_size=batch_size),epochs = epochs)"
      ]
    },
    {
      "cell_type": "code",
      "execution_count": null,
      "metadata": {
        "id": "jXsERtDtypeL"
      },
      "outputs": [],
      "source": [
        "img = Image.open('m.png')\n",
        "img = img.resize((28, 28), Image.ANTIALIAS)\n",
        "img = img.convert('L')\n",
        "img_array = np.array(img)\n",
        "img_array = img_array/255.0\n",
        "img_array = img_array.reshape(-1, 28, 28, 1)"
      ]
    },
    {
      "cell_type": "code",
      "execution_count": null,
      "metadata": {
        "colab": {
          "base_uri": "https://localhost:8080/",
          "height": 53
        },
        "id": "pCnbAKysypeM",
        "outputId": "ad06d660-5564-4b31-ee20-4afdaae1a1bc"
      },
      "outputs": [
        {
          "name": "stdout",
          "output_type": "stream",
          "text": [
            "1/1 [==============================] - 0s 46ms/step\n"
          ]
        },
        {
          "data": {
            "application/vnd.google.colaboratory.intrinsic+json": {
              "type": "string"
            },
            "text/plain": [
              "'m'"
            ]
          },
          "execution_count": 177,
          "metadata": {},
          "output_type": "execute_result"
        }
      ],
      "source": [
        "results = model.predict(img_array)\n",
        "y_pred = np.argmax(results,axis = 1)\n",
        "txt[y_pred[0]]"
      ]
    },
    {
      "cell_type": "markdown",
      "metadata": {
        "id": "hBlPrT1E6DhA"
      },
      "source": [
        "## Using mediapipe"
      ]
    },
    {
      "cell_type": "code",
      "execution_count": null,
      "metadata": {
        "colab": {
          "base_uri": "https://localhost:8080/"
        },
        "id": "eGA5bHxXLTah",
        "outputId": "a897c913-33aa-4dea-b7b8-385555e37590"
      },
      "outputs": [
        {
          "output_type": "stream",
          "name": "stdout",
          "text": [
            "Looking in indexes: https://pypi.org/simple, https://us-python.pkg.dev/colab-wheels/public/simple/\n",
            "Collecting mediapipe\n",
            "  Downloading mediapipe-0.9.2.1-cp39-cp39-manylinux_2_17_x86_64.manylinux2014_x86_64.whl (33.6 MB)\n",
            "\u001b[?25l     \u001b[90m━━━━━━━━━━━━━━━━━━━━━━━━━━━━━━━━━━━━━━━━\u001b[0m \u001b[32m0.0/33.6 MB\u001b[0m \u001b[31m?\u001b[0m eta \u001b[36m-:--:--\u001b[0m\r\u001b[2K     \u001b[91m━\u001b[0m\u001b[90m╺\u001b[0m\u001b[90m━━━━━━━━━━━━━━━━━━━━━━━━━━━━━━━━━━━━━━\u001b[0m \u001b[32m0.9/33.6 MB\u001b[0m \u001b[31m27.7 MB/s\u001b[0m eta \u001b[36m0:00:02\u001b[0m\r\u001b[2K     \u001b[91m━━━━━━━\u001b[0m\u001b[91m╸\u001b[0m\u001b[90m━━━━━━━━━━━━━━━━━━━━━━━━━━━━━━━━\u001b[0m \u001b[32m6.4/33.6 MB\u001b[0m \u001b[31m92.9 MB/s\u001b[0m eta \u001b[36m0:00:01\u001b[0m\r\u001b[2K     \u001b[91m━━━━━━━━━━━━━━━\u001b[0m\u001b[90m╺\u001b[0m\u001b[90m━━━━━━━━━━━━━━━━━━━━━━━\u001b[0m \u001b[32m12.9/33.6 MB\u001b[0m \u001b[31m186.9 MB/s\u001b[0m eta \u001b[36m0:00:01\u001b[0m\r\u001b[2K     \u001b[91m━━━━━━━━━━━━━━━━━━━━━━\u001b[0m\u001b[91m╸\u001b[0m\u001b[90m━━━━━━━━━━━━━━━━\u001b[0m \u001b[32m19.7/33.6 MB\u001b[0m \u001b[31m188.7 MB/s\u001b[0m eta \u001b[36m0:00:01\u001b[0m\r\u001b[2K     \u001b[91m━━━━━━━━━━━━━━━━━━━━━━━━━━━━━━\u001b[0m\u001b[90m╺\u001b[0m\u001b[90m━━━━━━━━\u001b[0m \u001b[32m26.1/33.6 MB\u001b[0m \u001b[31m188.7 MB/s\u001b[0m eta \u001b[36m0:00:01\u001b[0m\r\u001b[2K     \u001b[91m━━━━━━━━━━━━━━━━━━━━━━━━━━━━━━━━━━━━━━\u001b[0m\u001b[90m╺\u001b[0m \u001b[32m33.1/33.6 MB\u001b[0m \u001b[31m194.4 MB/s\u001b[0m eta \u001b[36m0:00:01\u001b[0m\r\u001b[2K     \u001b[91m━━━━━━━━━━━━━━━━━━━━━━━━━━━━━━━━━━━━━━\u001b[0m\u001b[91m╸\u001b[0m \u001b[32m33.6/33.6 MB\u001b[0m \u001b[31m188.7 MB/s\u001b[0m eta \u001b[36m0:00:01\u001b[0m\r\u001b[2K     \u001b[91m━━━━━━━━━━━━━━━━━━━━━━━━━━━━━━━━━━━━━━\u001b[0m\u001b[91m╸\u001b[0m \u001b[32m33.6/33.6 MB\u001b[0m \u001b[31m188.7 MB/s\u001b[0m eta \u001b[36m0:00:01\u001b[0m\r\u001b[2K     \u001b[91m━━━━━━━━━━━━━━━━━━━━━━━━━━━━━━━━━━━━━━\u001b[0m\u001b[91m╸\u001b[0m \u001b[32m33.6/33.6 MB\u001b[0m \u001b[31m188.7 MB/s\u001b[0m eta \u001b[36m0:00:01\u001b[0m\r\u001b[2K     \u001b[91m━━━━━━━━━━━━━━━━━━━━━━━━━━━━━━━━━━━━━━\u001b[0m\u001b[91m╸\u001b[0m \u001b[32m33.6/33.6 MB\u001b[0m \u001b[31m188.7 MB/s\u001b[0m eta \u001b[36m0:00:01\u001b[0m\r\u001b[2K     \u001b[91m━━━━━━━━━━━━━━━━━━━━━━━━━━━━━━━━━━━━━━\u001b[0m\u001b[91m╸\u001b[0m \u001b[32m33.6/33.6 MB\u001b[0m \u001b[31m188.7 MB/s\u001b[0m eta \u001b[36m0:00:01\u001b[0m\r\u001b[2K     \u001b[91m━━━━━━━━━━━━━━━━━━━━━━━━━━━━━━━━━━━━━━\u001b[0m\u001b[91m╸\u001b[0m \u001b[32m33.6/33.6 MB\u001b[0m \u001b[31m188.7 MB/s\u001b[0m eta \u001b[36m0:00:01\u001b[0m\r\u001b[2K     \u001b[91m━━━━━━━━━━━━━━━━━━━━━━━━━━━━━━━━━━━━━━\u001b[0m\u001b[91m╸\u001b[0m \u001b[32m33.6/33.6 MB\u001b[0m \u001b[31m188.7 MB/s\u001b[0m eta \u001b[36m0:00:01\u001b[0m\r\u001b[2K     \u001b[91m━━━━━━━━━━━━━━━━━━━━━━━━━━━━━━━━━━━━━━\u001b[0m\u001b[91m╸\u001b[0m \u001b[32m33.6/33.6 MB\u001b[0m \u001b[31m188.7 MB/s\u001b[0m eta \u001b[36m0:00:01\u001b[0m\r\u001b[2K     \u001b[91m━━━━━━━━━━━━━━━━━━━━━━━━━━━━━━━━━━━━━━\u001b[0m\u001b[91m╸\u001b[0m \u001b[32m33.6/33.6 MB\u001b[0m \u001b[31m188.7 MB/s\u001b[0m eta \u001b[36m0:00:01\u001b[0m\r\u001b[2K     \u001b[91m━━━━━━━━━━━━━━━━━━━━━━━━━━━━━━━━━━━━━━\u001b[0m\u001b[91m╸\u001b[0m \u001b[32m33.6/33.6 MB\u001b[0m \u001b[31m188.7 MB/s\u001b[0m eta \u001b[36m0:00:01\u001b[0m\r\u001b[2K     \u001b[91m━━━━━━━━━━━━━━━━━━━━━━━━━━━━━━━━━━━━━━\u001b[0m\u001b[91m╸\u001b[0m \u001b[32m33.6/33.6 MB\u001b[0m \u001b[31m188.7 MB/s\u001b[0m eta \u001b[36m0:00:01\u001b[0m\r\u001b[2K     \u001b[91m━━━━━━━━━━━━━━━━━━━━━━━━━━━━━━━━━━━━━━\u001b[0m\u001b[91m╸\u001b[0m \u001b[32m33.6/33.6 MB\u001b[0m \u001b[31m188.7 MB/s\u001b[0m eta \u001b[36m0:00:01\u001b[0m\r\u001b[2K     \u001b[90m━━━━━━━━━━━━━━━━━━━━━━━━━━━━━━━━━━━━━━━━\u001b[0m \u001b[32m33.6/33.6 MB\u001b[0m \u001b[31m20.5 MB/s\u001b[0m eta \u001b[36m0:00:00\u001b[0m\n",
            "\u001b[?25hRequirement already satisfied: opencv-contrib-python in /usr/local/lib/python3.9/dist-packages (from mediapipe) (4.7.0.72)\n",
            "Requirement already satisfied: numpy in /usr/local/lib/python3.9/dist-packages (from mediapipe) (1.22.4)\n",
            "Requirement already satisfied: absl-py in /usr/local/lib/python3.9/dist-packages (from mediapipe) (1.4.0)\n",
            "Requirement already satisfied: matplotlib in /usr/local/lib/python3.9/dist-packages (from mediapipe) (3.7.1)\n",
            "Requirement already satisfied: protobuf<4,>=3.11 in /usr/local/lib/python3.9/dist-packages (from mediapipe) (3.20.3)\n",
            "Requirement already satisfied: attrs>=19.1.0 in /usr/local/lib/python3.9/dist-packages (from mediapipe) (22.2.0)\n",
            "Requirement already satisfied: flatbuffers>=2.0 in /usr/local/lib/python3.9/dist-packages (from mediapipe) (23.3.3)\n",
            "Requirement already satisfied: contourpy>=1.0.1 in /usr/local/lib/python3.9/dist-packages (from matplotlib->mediapipe) (1.0.7)\n",
            "Requirement already satisfied: pillow>=6.2.0 in /usr/local/lib/python3.9/dist-packages (from matplotlib->mediapipe) (8.4.0)\n",
            "Requirement already satisfied: importlib-resources>=3.2.0 in /usr/local/lib/python3.9/dist-packages (from matplotlib->mediapipe) (5.12.0)\n",
            "Requirement already satisfied: python-dateutil>=2.7 in /usr/local/lib/python3.9/dist-packages (from matplotlib->mediapipe) (2.8.2)\n",
            "Requirement already satisfied: fonttools>=4.22.0 in /usr/local/lib/python3.9/dist-packages (from matplotlib->mediapipe) (4.39.3)\n",
            "Requirement already satisfied: pyparsing>=2.3.1 in /usr/local/lib/python3.9/dist-packages (from matplotlib->mediapipe) (3.0.9)\n",
            "Requirement already satisfied: packaging>=20.0 in /usr/local/lib/python3.9/dist-packages (from matplotlib->mediapipe) (23.0)\n",
            "Requirement already satisfied: cycler>=0.10 in /usr/local/lib/python3.9/dist-packages (from matplotlib->mediapipe) (0.11.0)\n",
            "Requirement already satisfied: kiwisolver>=1.0.1 in /usr/local/lib/python3.9/dist-packages (from matplotlib->mediapipe) (1.4.4)\n",
            "Requirement already satisfied: zipp>=3.1.0 in /usr/local/lib/python3.9/dist-packages (from importlib-resources>=3.2.0->matplotlib->mediapipe) (3.15.0)\n",
            "Requirement already satisfied: six>=1.5 in /usr/local/lib/python3.9/dist-packages (from python-dateutil>=2.7->matplotlib->mediapipe) (1.16.0)\n",
            "Installing collected packages: mediapipe\n",
            "Successfully installed mediapipe-0.9.2.1\n"
          ]
        }
      ],
      "source": [
        "!pip install mediapipe"
      ]
    },
    {
      "cell_type": "code",
      "execution_count": null,
      "metadata": {
        "id": "J7WmCdMMKdZj"
      },
      "outputs": [],
      "source": [
        "# For capturing hand coordinates\n",
        "import cv2\n",
        "import tensorflow as tf\n",
        "import mediapipe as mp"
      ]
    },
    {
      "cell_type": "code",
      "execution_count": null,
      "metadata": {
        "id": "HmW6L-fwKjxN"
      },
      "outputs": [],
      "source": [
        "# For processing data\n",
        "import csv\n",
        "import os\n",
        "import numpy as np\n",
        "import pandas as pd\n",
        "from tqdm import tqdm \n",
        "import re"
      ]
    },
    {
      "cell_type": "markdown",
      "metadata": {
        "id": "CLRHkA3YMfH6"
      },
      "source": [
        "#### Convert image data to matrix"
      ]
    },
    {
      "cell_type": "code",
      "execution_count": null,
      "metadata": {
        "colab": {
          "base_uri": "https://localhost:8080/"
        },
        "id": "8bE4Fz8zMYup",
        "outputId": "d5665bcc-6f90-4002-8164-58029deb2e0d"
      },
      "outputs": [
        {
          "name": "stdout",
          "output_type": "stream",
          "text": [
            "Mounted at /content/drive\n"
          ]
        }
      ],
      "source": [
        "from google.colab import drive\n",
        "drive.mount('/content/drive', force_remount = True)"
      ]
    },
    {
      "cell_type": "code",
      "execution_count": null,
      "metadata": {
        "id": "AFye1EVbJXhX"
      },
      "outputs": [],
      "source": [
        "import albumentations as A\n",
        "\n",
        "transform = A.Compose([\n",
        "    A.RandomBrightnessContrast(),\n",
        "    A.Affine(scale=[0.8,1.2],translate_percent=0.05, shear=0.2, keep_ratio=True, p=0.5),\n",
        "    A.Rotate(limit=10)\n",
        "])"
      ]
    },
    {
      "cell_type": "code",
      "execution_count": null,
      "metadata": {
        "colab": {
          "base_uri": "https://localhost:8080/"
        },
        "id": "8a-TTGhMJXhY",
        "outputId": "fa4fee70-21cf-4277-ef76-5fe278ab7116"
      },
      "outputs": [
        {
          "name": "stderr",
          "output_type": "stream",
          "text": [
            " 16%|█▌        | 196/1221 [00:26<03:02,  5.63it/s]"
          ]
        }
      ],
      "source": [
        "folder_name = '/content/drive/MyDrive/IS4242/data' #might be different for different people\n",
        "path = folder_name\n",
        "img_list = []\n",
        "label_list = []\n",
        "txt = 'abcdefghiklmnopqrstuvwxy'\n",
        "\n",
        "for i in tqdm(range(len(os.listdir(path)))):\n",
        "  filename = os.listdir(path)[i]\n",
        "  if filename.endswith(('.jpg','.png')):\n",
        "      label_name = re.split(r'[-_]', filename)[0].lower()\n",
        "      if label_name not in txt:\n",
        "        continue\n",
        "      label_list.append(label_name)\n",
        "      img = Image.open(os.path.join(path, filename))\n",
        "      img = img.resize((224, 224), Image.ANTIALIAS) # bigger size\n",
        "      img = img.convert('L')\n",
        "      img_array = np.array(img)\n",
        "      \n",
        "      img_list.append(img_array)\n",
        "\n",
        "X = np.array(img_list)\n",
        "\n",
        "y = np.array(label_list)\n",
        "y = np.array(list(map(lambda x:txt.find(x), y)))\n",
        "y = to_categorical(y)\n",
        "\n",
        "output_dir = '/content/drive/MyDrive/IS4242/dump/'\n",
        "joblib.dump(X,output_dir+'X_224.pkl')\n",
        "joblib.dump(y,output_dir+'y_224.pkl')\n"
      ]
    },
    {
      "cell_type": "code",
      "execution_count": null,
      "metadata": {
        "id": "Mw9kBbmp-u7Y"
      },
      "outputs": [],
      "source": [
        "output_dir = '/content/drive/MyDrive/IS4242/dump/'\n",
        "X = joblib.load(output_dir+'X_224.pkl')\n",
        "y = joblib.load(output_dir+'y_224.pkl')"
      ]
    },
    {
      "cell_type": "code",
      "execution_count": null,
      "metadata": {
        "colab": {
          "base_uri": "https://localhost:8080/"
        },
        "id": "BerTO8-u-wle",
        "outputId": "43a4db4c-12d6-4311-e351-57e335e2541c"
      },
      "outputs": [
        {
          "output_type": "execute_result",
          "data": {
            "text/plain": [
              "817"
            ]
          },
          "metadata": {},
          "execution_count": 8
        }
      ],
      "source": [
        "len(X)"
      ]
    },
    {
      "cell_type": "markdown",
      "metadata": {
        "id": "v1LgfWyZQQjQ"
      },
      "source": [
        "#### Train test split"
      ]
    },
    {
      "cell_type": "code",
      "execution_count": null,
      "metadata": {
        "id": "uSymOBG_ZYT8"
      },
      "outputs": [],
      "source": [
        "from sklearn.model_selection import train_test_split\n",
        "\n",
        "# We will take 33% from 1000 for our test data.\n",
        "# Recommended value 80:20, 67:33, 50:50\n",
        "X_train, X_test, y_train, y_test = train_test_split(X, y, test_size=0.2, random_state=42)"
      ]
    },
    {
      "cell_type": "markdown",
      "metadata": {
        "id": "HCEjPzK5QU3Z"
      },
      "source": [
        "#### Augmentation only on train data"
      ]
    },
    {
      "cell_type": "code",
      "execution_count": null,
      "metadata": {
        "id": "g8ZWfcrm-9ZA"
      },
      "outputs": [],
      "source": [
        "augmented_X = []\n",
        "augmented_y = []\n",
        "for i in range(len(X_train)):\n",
        "  for j in (range(10)):\n",
        "      transformed = transform(image=X_train[i])\n",
        "      augmented_X.append(transformed['image'])\n",
        "      augmented_y.append(y_train[i])\n",
        "\n",
        "augmented_X = np.array(augmented_X)\n",
        "augmented_y = np.array(augmented_y)\n",
        "X_train = np.concatenate([X_train,augmented_X])\n",
        "y_train = np.concatenate([y_train,augmented_y])"
      ]
    },
    {
      "cell_type": "markdown",
      "metadata": {
        "id": "aJefejTyQYTO"
      },
      "source": [
        "#### Generate dataset of hand points"
      ]
    },
    {
      "cell_type": "code",
      "execution_count": null,
      "metadata": {
        "id": "dL2iU3icSd0A"
      },
      "outputs": [],
      "source": [
        "mp_drawing = mp.solutions.drawing_utils\n",
        "mp_hands = mp.solutions.hands"
      ]
    },
    {
      "cell_type": "code",
      "execution_count": null,
      "metadata": {
        "id": "FD8ikF7DS8Mo"
      },
      "outputs": [],
      "source": [
        "data = []\n",
        "labels = []"
      ]
    },
    {
      "cell_type": "code",
      "execution_count": null,
      "metadata": {
        "id": "TNFO4k4HSglj"
      },
      "outputs": [],
      "source": [
        "count = 0\n",
        "with mp_hands.Hands(static_image_mode =True, max_num_hands = 2, min_detection_confidence=0.5) as hands:\n",
        "    for i in tqdm(range(len(X_train))):\n",
        "        # Load the image and extract its features\n",
        "            results = hands.process(cv2.cvtColor(cv2.flip(X_train[i],1), cv2.COLOR_BGR2RGB))\n",
        "            try:\n",
        "                # Extract Hand landmarks\n",
        "                for hand_landmark in results.multi_hand_landmarks:\n",
        "                    right_hand = hand_landmark.landmark\n",
        "                right_hand_row = list(np.array([[landmark.x, landmark.y] for landmark in right_hand]).flatten())\n",
        "                # Concate rows\n",
        "                row = right_hand_row\n",
        "\n",
        "                # Extract the label from the image filename (e.g. \"A.jpg\")\n",
        "                label = y_train[i]\n",
        "\n",
        "                data.append(row)\n",
        "                labels.append(label)\n",
        "                print(row, label)\n",
        "            except Exception as e:\n",
        "                count += 1\n",
        "                continue\n"
      ]
    },
    {
      "cell_type": "code",
      "execution_count": null,
      "metadata": {
        "colab": {
          "base_uri": "https://localhost:8080/"
        },
        "id": "PEmFnqvIAUD7",
        "outputId": "67ce32bd-e01d-4216-bb3b-4ce7564aa55a"
      },
      "outputs": [
        {
          "data": {
            "text/plain": [
              "4706"
            ]
          },
          "execution_count": 129,
          "metadata": {},
          "output_type": "execute_result"
        }
      ],
      "source": [
        "count"
      ]
    },
    {
      "cell_type": "code",
      "execution_count": null,
      "metadata": {
        "colab": {
          "base_uri": "https://localhost:8080/",
          "height": 488
        },
        "id": "eit7571EYcuE",
        "outputId": "c2ccfb6c-2a45-4d9d-d14a-f4bcb5cbdb0a"
      },
      "outputs": [
        {
          "data": {
            "text/html": [
              "\n",
              "  <div id=\"df-3631d46c-4797-4147-8a91-cb5d831aa6ab\">\n",
              "    <div class=\"colab-df-container\">\n",
              "      <div>\n",
              "<style scoped>\n",
              "    .dataframe tbody tr th:only-of-type {\n",
              "        vertical-align: middle;\n",
              "    }\n",
              "\n",
              "    .dataframe tbody tr th {\n",
              "        vertical-align: top;\n",
              "    }\n",
              "\n",
              "    .dataframe thead th {\n",
              "        text-align: right;\n",
              "    }\n",
              "</style>\n",
              "<table border=\"1\" class=\"dataframe\">\n",
              "  <thead>\n",
              "    <tr style=\"text-align: right;\">\n",
              "      <th></th>\n",
              "      <th>0</th>\n",
              "      <th>1</th>\n",
              "      <th>2</th>\n",
              "      <th>3</th>\n",
              "      <th>4</th>\n",
              "      <th>5</th>\n",
              "      <th>6</th>\n",
              "      <th>7</th>\n",
              "      <th>8</th>\n",
              "      <th>9</th>\n",
              "      <th>...</th>\n",
              "      <th>32</th>\n",
              "      <th>33</th>\n",
              "      <th>34</th>\n",
              "      <th>35</th>\n",
              "      <th>36</th>\n",
              "      <th>37</th>\n",
              "      <th>38</th>\n",
              "      <th>39</th>\n",
              "      <th>40</th>\n",
              "      <th>41</th>\n",
              "    </tr>\n",
              "  </thead>\n",
              "  <tbody>\n",
              "    <tr>\n",
              "      <th>0</th>\n",
              "      <td>0.570230</td>\n",
              "      <td>0.700385</td>\n",
              "      <td>0.460918</td>\n",
              "      <td>0.601834</td>\n",
              "      <td>0.385230</td>\n",
              "      <td>0.526549</td>\n",
              "      <td>0.322623</td>\n",
              "      <td>0.470859</td>\n",
              "      <td>0.301588</td>\n",
              "      <td>0.408549</td>\n",
              "      <td>...</td>\n",
              "      <td>0.434779</td>\n",
              "      <td>0.504095</td>\n",
              "      <td>0.549578</td>\n",
              "      <td>0.469310</td>\n",
              "      <td>0.416643</td>\n",
              "      <td>0.467967</td>\n",
              "      <td>0.423916</td>\n",
              "      <td>0.518278</td>\n",
              "      <td>0.466331</td>\n",
              "      <td>0.533848</td>\n",
              "    </tr>\n",
              "    <tr>\n",
              "      <th>1</th>\n",
              "      <td>0.446183</td>\n",
              "      <td>0.796893</td>\n",
              "      <td>0.341452</td>\n",
              "      <td>0.681229</td>\n",
              "      <td>0.304357</td>\n",
              "      <td>0.500339</td>\n",
              "      <td>0.314089</td>\n",
              "      <td>0.366598</td>\n",
              "      <td>0.315794</td>\n",
              "      <td>0.253817</td>\n",
              "      <td>...</td>\n",
              "      <td>0.488412</td>\n",
              "      <td>0.601652</td>\n",
              "      <td>0.734732</td>\n",
              "      <td>0.564161</td>\n",
              "      <td>0.699286</td>\n",
              "      <td>0.469736</td>\n",
              "      <td>0.620621</td>\n",
              "      <td>0.544259</td>\n",
              "      <td>0.574593</td>\n",
              "      <td>0.615079</td>\n",
              "    </tr>\n",
              "    <tr>\n",
              "      <th>2</th>\n",
              "      <td>0.554823</td>\n",
              "      <td>0.467337</td>\n",
              "      <td>0.477951</td>\n",
              "      <td>0.500206</td>\n",
              "      <td>0.370337</td>\n",
              "      <td>0.497704</td>\n",
              "      <td>0.303738</td>\n",
              "      <td>0.458727</td>\n",
              "      <td>0.319072</td>\n",
              "      <td>0.396847</td>\n",
              "      <td>...</td>\n",
              "      <td>0.466813</td>\n",
              "      <td>0.410920</td>\n",
              "      <td>0.478718</td>\n",
              "      <td>0.277710</td>\n",
              "      <td>0.441688</td>\n",
              "      <td>0.218711</td>\n",
              "      <td>0.420079</td>\n",
              "      <td>0.179862</td>\n",
              "      <td>0.393535</td>\n",
              "      <td>0.143242</td>\n",
              "    </tr>\n",
              "    <tr>\n",
              "      <th>3</th>\n",
              "      <td>0.421717</td>\n",
              "      <td>0.593616</td>\n",
              "      <td>0.332333</td>\n",
              "      <td>0.543942</td>\n",
              "      <td>0.278878</td>\n",
              "      <td>0.457589</td>\n",
              "      <td>0.282298</td>\n",
              "      <td>0.384428</td>\n",
              "      <td>0.314716</td>\n",
              "      <td>0.334537</td>\n",
              "      <td>...</td>\n",
              "      <td>0.391403</td>\n",
              "      <td>0.521059</td>\n",
              "      <td>0.528068</td>\n",
              "      <td>0.395230</td>\n",
              "      <td>0.475645</td>\n",
              "      <td>0.423229</td>\n",
              "      <td>0.459146</td>\n",
              "      <td>0.468935</td>\n",
              "      <td>0.459199</td>\n",
              "      <td>0.488524</td>\n",
              "    </tr>\n",
              "    <tr>\n",
              "      <th>4</th>\n",
              "      <td>0.651359</td>\n",
              "      <td>0.619728</td>\n",
              "      <td>0.656911</td>\n",
              "      <td>0.514619</td>\n",
              "      <td>0.602316</td>\n",
              "      <td>0.457691</td>\n",
              "      <td>0.539696</td>\n",
              "      <td>0.429281</td>\n",
              "      <td>0.491382</td>\n",
              "      <td>0.435781</td>\n",
              "      <td>...</td>\n",
              "      <td>0.391995</td>\n",
              "      <td>0.521948</td>\n",
              "      <td>0.437633</td>\n",
              "      <td>0.637292</td>\n",
              "      <td>0.367256</td>\n",
              "      <td>0.589515</td>\n",
              "      <td>0.384333</td>\n",
              "      <td>0.575371</td>\n",
              "      <td>0.412115</td>\n",
              "      <td>0.575475</td>\n",
              "    </tr>\n",
              "    <tr>\n",
              "      <th>...</th>\n",
              "      <td>...</td>\n",
              "      <td>...</td>\n",
              "      <td>...</td>\n",
              "      <td>...</td>\n",
              "      <td>...</td>\n",
              "      <td>...</td>\n",
              "      <td>...</td>\n",
              "      <td>...</td>\n",
              "      <td>...</td>\n",
              "      <td>...</td>\n",
              "      <td>...</td>\n",
              "      <td>...</td>\n",
              "      <td>...</td>\n",
              "      <td>...</td>\n",
              "      <td>...</td>\n",
              "      <td>...</td>\n",
              "      <td>...</td>\n",
              "      <td>...</td>\n",
              "      <td>...</td>\n",
              "      <td>...</td>\n",
              "      <td>...</td>\n",
              "    </tr>\n",
              "    <tr>\n",
              "      <th>3156</th>\n",
              "      <td>0.583231</td>\n",
              "      <td>0.452619</td>\n",
              "      <td>0.539714</td>\n",
              "      <td>0.455225</td>\n",
              "      <td>0.495395</td>\n",
              "      <td>0.492904</td>\n",
              "      <td>0.479851</td>\n",
              "      <td>0.551855</td>\n",
              "      <td>0.483757</td>\n",
              "      <td>0.602373</td>\n",
              "      <td>...</td>\n",
              "      <td>0.545168</td>\n",
              "      <td>0.576425</td>\n",
              "      <td>0.487555</td>\n",
              "      <td>0.524171</td>\n",
              "      <td>0.515908</td>\n",
              "      <td>0.578480</td>\n",
              "      <td>0.545968</td>\n",
              "      <td>0.580548</td>\n",
              "      <td>0.566784</td>\n",
              "      <td>0.575146</td>\n",
              "    </tr>\n",
              "    <tr>\n",
              "      <th>3157</th>\n",
              "      <td>0.562530</td>\n",
              "      <td>0.498690</td>\n",
              "      <td>0.511731</td>\n",
              "      <td>0.506001</td>\n",
              "      <td>0.454501</td>\n",
              "      <td>0.544319</td>\n",
              "      <td>0.426224</td>\n",
              "      <td>0.600555</td>\n",
              "      <td>0.422746</td>\n",
              "      <td>0.650416</td>\n",
              "      <td>...</td>\n",
              "      <td>0.465353</td>\n",
              "      <td>0.691858</td>\n",
              "      <td>0.439111</td>\n",
              "      <td>0.577353</td>\n",
              "      <td>0.453883</td>\n",
              "      <td>0.642066</td>\n",
              "      <td>0.476830</td>\n",
              "      <td>0.662664</td>\n",
              "      <td>0.497206</td>\n",
              "      <td>0.675142</td>\n",
              "    </tr>\n",
              "    <tr>\n",
              "      <th>3158</th>\n",
              "      <td>0.563214</td>\n",
              "      <td>0.502042</td>\n",
              "      <td>0.515475</td>\n",
              "      <td>0.514002</td>\n",
              "      <td>0.460635</td>\n",
              "      <td>0.550754</td>\n",
              "      <td>0.430844</td>\n",
              "      <td>0.599683</td>\n",
              "      <td>0.423958</td>\n",
              "      <td>0.642966</td>\n",
              "      <td>...</td>\n",
              "      <td>0.467354</td>\n",
              "      <td>0.680093</td>\n",
              "      <td>0.444119</td>\n",
              "      <td>0.574531</td>\n",
              "      <td>0.456100</td>\n",
              "      <td>0.633061</td>\n",
              "      <td>0.477790</td>\n",
              "      <td>0.649635</td>\n",
              "      <td>0.497778</td>\n",
              "      <td>0.658029</td>\n",
              "    </tr>\n",
              "    <tr>\n",
              "      <th>3159</th>\n",
              "      <td>0.583231</td>\n",
              "      <td>0.452619</td>\n",
              "      <td>0.539714</td>\n",
              "      <td>0.455225</td>\n",
              "      <td>0.495395</td>\n",
              "      <td>0.492904</td>\n",
              "      <td>0.479851</td>\n",
              "      <td>0.551855</td>\n",
              "      <td>0.483757</td>\n",
              "      <td>0.602373</td>\n",
              "      <td>...</td>\n",
              "      <td>0.545168</td>\n",
              "      <td>0.576425</td>\n",
              "      <td>0.487555</td>\n",
              "      <td>0.524171</td>\n",
              "      <td>0.515908</td>\n",
              "      <td>0.578480</td>\n",
              "      <td>0.545968</td>\n",
              "      <td>0.580548</td>\n",
              "      <td>0.566784</td>\n",
              "      <td>0.575146</td>\n",
              "    </tr>\n",
              "    <tr>\n",
              "      <th>3160</th>\n",
              "      <td>0.628690</td>\n",
              "      <td>0.473217</td>\n",
              "      <td>0.574249</td>\n",
              "      <td>0.468687</td>\n",
              "      <td>0.512486</td>\n",
              "      <td>0.497820</td>\n",
              "      <td>0.476601</td>\n",
              "      <td>0.542893</td>\n",
              "      <td>0.464293</td>\n",
              "      <td>0.584233</td>\n",
              "      <td>...</td>\n",
              "      <td>0.495103</td>\n",
              "      <td>0.641691</td>\n",
              "      <td>0.490426</td>\n",
              "      <td>0.535288</td>\n",
              "      <td>0.482897</td>\n",
              "      <td>0.591316</td>\n",
              "      <td>0.492581</td>\n",
              "      <td>0.618815</td>\n",
              "      <td>0.505936</td>\n",
              "      <td>0.639760</td>\n",
              "    </tr>\n",
              "  </tbody>\n",
              "</table>\n",
              "<p>3161 rows × 42 columns</p>\n",
              "</div>\n",
              "      <button class=\"colab-df-convert\" onclick=\"convertToInteractive('df-3631d46c-4797-4147-8a91-cb5d831aa6ab')\"\n",
              "              title=\"Convert this dataframe to an interactive table.\"\n",
              "              style=\"display:none;\">\n",
              "        \n",
              "  <svg xmlns=\"http://www.w3.org/2000/svg\" height=\"24px\"viewBox=\"0 0 24 24\"\n",
              "       width=\"24px\">\n",
              "    <path d=\"M0 0h24v24H0V0z\" fill=\"none\"/>\n",
              "    <path d=\"M18.56 5.44l.94 2.06.94-2.06 2.06-.94-2.06-.94-.94-2.06-.94 2.06-2.06.94zm-11 1L8.5 8.5l.94-2.06 2.06-.94-2.06-.94L8.5 2.5l-.94 2.06-2.06.94zm10 10l.94 2.06.94-2.06 2.06-.94-2.06-.94-.94-2.06-.94 2.06-2.06.94z\"/><path d=\"M17.41 7.96l-1.37-1.37c-.4-.4-.92-.59-1.43-.59-.52 0-1.04.2-1.43.59L10.3 9.45l-7.72 7.72c-.78.78-.78 2.05 0 2.83L4 21.41c.39.39.9.59 1.41.59.51 0 1.02-.2 1.41-.59l7.78-7.78 2.81-2.81c.8-.78.8-2.07 0-2.86zM5.41 20L4 18.59l7.72-7.72 1.47 1.35L5.41 20z\"/>\n",
              "  </svg>\n",
              "      </button>\n",
              "      \n",
              "  <style>\n",
              "    .colab-df-container {\n",
              "      display:flex;\n",
              "      flex-wrap:wrap;\n",
              "      gap: 12px;\n",
              "    }\n",
              "\n",
              "    .colab-df-convert {\n",
              "      background-color: #E8F0FE;\n",
              "      border: none;\n",
              "      border-radius: 50%;\n",
              "      cursor: pointer;\n",
              "      display: none;\n",
              "      fill: #1967D2;\n",
              "      height: 32px;\n",
              "      padding: 0 0 0 0;\n",
              "      width: 32px;\n",
              "    }\n",
              "\n",
              "    .colab-df-convert:hover {\n",
              "      background-color: #E2EBFA;\n",
              "      box-shadow: 0px 1px 2px rgba(60, 64, 67, 0.3), 0px 1px 3px 1px rgba(60, 64, 67, 0.15);\n",
              "      fill: #174EA6;\n",
              "    }\n",
              "\n",
              "    [theme=dark] .colab-df-convert {\n",
              "      background-color: #3B4455;\n",
              "      fill: #D2E3FC;\n",
              "    }\n",
              "\n",
              "    [theme=dark] .colab-df-convert:hover {\n",
              "      background-color: #434B5C;\n",
              "      box-shadow: 0px 1px 3px 1px rgba(0, 0, 0, 0.15);\n",
              "      filter: drop-shadow(0px 1px 2px rgba(0, 0, 0, 0.3));\n",
              "      fill: #FFFFFF;\n",
              "    }\n",
              "  </style>\n",
              "\n",
              "      <script>\n",
              "        const buttonEl =\n",
              "          document.querySelector('#df-3631d46c-4797-4147-8a91-cb5d831aa6ab button.colab-df-convert');\n",
              "        buttonEl.style.display =\n",
              "          google.colab.kernel.accessAllowed ? 'block' : 'none';\n",
              "\n",
              "        async function convertToInteractive(key) {\n",
              "          const element = document.querySelector('#df-3631d46c-4797-4147-8a91-cb5d831aa6ab');\n",
              "          const dataTable =\n",
              "            await google.colab.kernel.invokeFunction('convertToInteractive',\n",
              "                                                     [key], {});\n",
              "          if (!dataTable) return;\n",
              "\n",
              "          const docLinkHtml = 'Like what you see? Visit the ' +\n",
              "            '<a target=\"_blank\" href=https://colab.research.google.com/notebooks/data_table.ipynb>data table notebook</a>'\n",
              "            + ' to learn more about interactive tables.';\n",
              "          element.innerHTML = '';\n",
              "          dataTable['output_type'] = 'display_data';\n",
              "          await google.colab.output.renderOutput(dataTable, element);\n",
              "          const docLink = document.createElement('div');\n",
              "          docLink.innerHTML = docLinkHtml;\n",
              "          element.appendChild(docLink);\n",
              "        }\n",
              "      </script>\n",
              "    </div>\n",
              "  </div>\n",
              "  "
            ],
            "text/plain": [
              "            0         1         2         3         4         5         6   \\\n",
              "0     0.570230  0.700385  0.460918  0.601834  0.385230  0.526549  0.322623   \n",
              "1     0.446183  0.796893  0.341452  0.681229  0.304357  0.500339  0.314089   \n",
              "2     0.554823  0.467337  0.477951  0.500206  0.370337  0.497704  0.303738   \n",
              "3     0.421717  0.593616  0.332333  0.543942  0.278878  0.457589  0.282298   \n",
              "4     0.651359  0.619728  0.656911  0.514619  0.602316  0.457691  0.539696   \n",
              "...        ...       ...       ...       ...       ...       ...       ...   \n",
              "3156  0.583231  0.452619  0.539714  0.455225  0.495395  0.492904  0.479851   \n",
              "3157  0.562530  0.498690  0.511731  0.506001  0.454501  0.544319  0.426224   \n",
              "3158  0.563214  0.502042  0.515475  0.514002  0.460635  0.550754  0.430844   \n",
              "3159  0.583231  0.452619  0.539714  0.455225  0.495395  0.492904  0.479851   \n",
              "3160  0.628690  0.473217  0.574249  0.468687  0.512486  0.497820  0.476601   \n",
              "\n",
              "            7         8         9   ...        32        33        34  \\\n",
              "0     0.470859  0.301588  0.408549  ...  0.434779  0.504095  0.549578   \n",
              "1     0.366598  0.315794  0.253817  ...  0.488412  0.601652  0.734732   \n",
              "2     0.458727  0.319072  0.396847  ...  0.466813  0.410920  0.478718   \n",
              "3     0.384428  0.314716  0.334537  ...  0.391403  0.521059  0.528068   \n",
              "4     0.429281  0.491382  0.435781  ...  0.391995  0.521948  0.437633   \n",
              "...        ...       ...       ...  ...       ...       ...       ...   \n",
              "3156  0.551855  0.483757  0.602373  ...  0.545168  0.576425  0.487555   \n",
              "3157  0.600555  0.422746  0.650416  ...  0.465353  0.691858  0.439111   \n",
              "3158  0.599683  0.423958  0.642966  ...  0.467354  0.680093  0.444119   \n",
              "3159  0.551855  0.483757  0.602373  ...  0.545168  0.576425  0.487555   \n",
              "3160  0.542893  0.464293  0.584233  ...  0.495103  0.641691  0.490426   \n",
              "\n",
              "            35        36        37        38        39        40        41  \n",
              "0     0.469310  0.416643  0.467967  0.423916  0.518278  0.466331  0.533848  \n",
              "1     0.564161  0.699286  0.469736  0.620621  0.544259  0.574593  0.615079  \n",
              "2     0.277710  0.441688  0.218711  0.420079  0.179862  0.393535  0.143242  \n",
              "3     0.395230  0.475645  0.423229  0.459146  0.468935  0.459199  0.488524  \n",
              "4     0.637292  0.367256  0.589515  0.384333  0.575371  0.412115  0.575475  \n",
              "...        ...       ...       ...       ...       ...       ...       ...  \n",
              "3156  0.524171  0.515908  0.578480  0.545968  0.580548  0.566784  0.575146  \n",
              "3157  0.577353  0.453883  0.642066  0.476830  0.662664  0.497206  0.675142  \n",
              "3158  0.574531  0.456100  0.633061  0.477790  0.649635  0.497778  0.658029  \n",
              "3159  0.524171  0.515908  0.578480  0.545968  0.580548  0.566784  0.575146  \n",
              "3160  0.535288  0.482897  0.591316  0.492581  0.618815  0.505936  0.639760  \n",
              "\n",
              "[3161 rows x 42 columns]"
            ]
          },
          "execution_count": 130,
          "metadata": {},
          "output_type": "execute_result"
        }
      ],
      "source": [
        "pd.DataFrame(data)"
      ]
    },
    {
      "cell_type": "code",
      "execution_count": null,
      "metadata": {
        "colab": {
          "base_uri": "https://localhost:8080/"
        },
        "id": "ADTUKNgAY9uR",
        "outputId": "9956cb9b-d0d0-4f08-8366-ebeeba1055bc"
      },
      "outputs": [
        {
          "data": {
            "text/plain": [
              "['/content/drive/MyDrive/IS4242/dump/labels_cnn_train.pkl']"
            ]
          },
          "execution_count": 140,
          "metadata": {},
          "output_type": "execute_result"
        }
      ],
      "source": [
        "import joblib\n",
        "\n",
        "output_dir = f\"/content/drive/MyDrive/IS4242/dump/\"\n",
        "joblib.dump(data, output_dir+'data_cnn_train.pkl')\n",
        "joblib.dump(labels, output_dir+'labels_cnn_train.pkl')"
      ]
    },
    {
      "cell_type": "code",
      "execution_count": null,
      "metadata": {
        "id": "qrkf3ZG456IF"
      },
      "outputs": [],
      "source": [
        "import joblib\n",
        "output_dir = f\"/content/drive/MyDrive/IS4242/dump/\"\n",
        "data = joblib.load(output_dir+'data_cnn_train.pkl')\n",
        "labels = joblib.load(output_dir+'labels_cnn_train.pkl')"
      ]
    },
    {
      "cell_type": "code",
      "execution_count": null,
      "metadata": {
        "colab": {
          "base_uri": "https://localhost:8080/"
        },
        "id": "VLHY5NyVH-ss",
        "outputId": "35df2a59-5965-4718-a802-3422a9797dd6"
      },
      "outputs": [
        {
          "data": {
            "text/plain": [
              "(3161, 24)"
            ]
          },
          "execution_count": 134,
          "metadata": {},
          "output_type": "execute_result"
        }
      ],
      "source": [
        "labels.shape"
      ]
    },
    {
      "cell_type": "code",
      "execution_count": null,
      "metadata": {
        "colab": {
          "base_uri": "https://localhost:8080/"
        },
        "id": "hnKxCFsY7RsF",
        "outputId": "41394af8-39c0-4b6d-a802-148d07c25254"
      },
      "outputs": [
        {
          "data": {
            "text/plain": [
              "42"
            ]
          },
          "execution_count": 84,
          "metadata": {},
          "output_type": "execute_result"
        }
      ],
      "source": [
        "len(X_train[0])"
      ]
    },
    {
      "cell_type": "code",
      "execution_count": null,
      "metadata": {
        "id": "Leiw72ko-Iy7"
      },
      "outputs": [],
      "source": [
        "test_data = []\n",
        "test_label = []\n",
        "count = 0\n",
        "with mp_hands.Hands(static_image_mode =True, max_num_hands = 2, min_detection_confidence=0.5) as hands:\n",
        "    for i in tqdm(range(len(X_test))):\n",
        "        # Load the image and extract its features\n",
        "            results = hands.process(cv2.cvtColor(cv2.flip(X_test[i],1), cv2.COLOR_BGR2RGB))\n",
        "            try:\n",
        "                # Extract Hand landmarks\n",
        "                for hand_landmark in results.multi_hand_landmarks:\n",
        "                    right_hand = hand_landmark.landmark\n",
        "                right_hand_row = list(np.array([[landmark.x, landmark.y] for landmark in right_hand]).flatten())\n",
        "                # Concate rows\n",
        "                row = right_hand_row\n",
        "\n",
        "                # Extract the label from the image filename (e.g. \"A.jpg\")\n",
        "                label = y_test[i]\n",
        "\n",
        "                test_data.append(row)\n",
        "                test_label.append(label)\n",
        "                print(row, label)\n",
        "            except Exception as e:\n",
        "                count += 1\n",
        "                continue"
      ]
    },
    {
      "cell_type": "code",
      "execution_count": null,
      "metadata": {
        "colab": {
          "base_uri": "https://localhost:8080/"
        },
        "id": "JRx6f4o3TJGI",
        "outputId": "3acf5e40-6d8a-423a-93bc-0683b81d07b4"
      },
      "outputs": [
        {
          "data": {
            "text/plain": [
              "['/content/drive/MyDrive/IS4242/dump/labels_cnn_test.pkl']"
            ]
          },
          "execution_count": 13,
          "metadata": {},
          "output_type": "execute_result"
        }
      ],
      "source": [
        "output_dir = f\"/content/drive/MyDrive/IS4242/dump/\"\n",
        "joblib.dump(test_data, output_dir+'data_cnn_test.pkl')\n",
        "joblib.dump(test_label, output_dir+'labels_cnn_test.pkl')"
      ]
    },
    {
      "cell_type": "code",
      "source": [
        "import joblib\n",
        "output_dir = f\"/content/drive/MyDrive/IS4242/dump/\"\n",
        "test_data = joblib.load(output_dir+'data_cnn_test.pkl')\n",
        "test_label = joblib.load(output_dir+'labels_cnn_test.pkl')"
      ],
      "metadata": {
        "id": "71n7ydDJkmYA"
      },
      "execution_count": null,
      "outputs": []
    },
    {
      "cell_type": "code",
      "execution_count": null,
      "metadata": {
        "id": "90jo4JBIH1TW"
      },
      "outputs": [],
      "source": [
        "labels = np.array(labels)\n",
        "test_label = np.array(test_label)"
      ]
    },
    {
      "cell_type": "code",
      "execution_count": null,
      "metadata": {
        "colab": {
          "base_uri": "https://localhost:8080/"
        },
        "id": "a4h6wEZv7_y4",
        "outputId": "339e24a8-870d-42e4-8f47-5b4779d018d6"
      },
      "outputs": [
        {
          "output_type": "stream",
          "name": "stdout",
          "text": [
            "(2754, 42, 1)\n",
            "(51, 42, 1)\n"
          ]
        }
      ],
      "source": [
        "from sklearn.preprocessing import StandardScaler\n",
        "x_train = np.array(data)\n",
        "x_test = np.array(test_data)\n",
        "scaler = StandardScaler().fit(x_train)\n",
        "x_train = scaler.transform(x_train)\n",
        "x_test = scaler.transform(x_test)\n",
        "x_train = np.reshape(x_train, (x_train.shape[0], x_train.shape[1], 1))\n",
        "x_test = np.reshape(x_test, (x_test.shape[0], x_test.shape[1], 1))\n",
        "print(x_train.shape)\n",
        "print(x_test.shape)"
      ]
    },
    {
      "cell_type": "code",
      "execution_count": null,
      "metadata": {
        "id": "btVuieejIIMp"
      },
      "outputs": [],
      "source": [
        "y_test.shape"
      ]
    },
    {
      "cell_type": "markdown",
      "source": [],
      "metadata": {
        "id": "nucT58RSkD8c"
      }
    },
    {
      "cell_type": "markdown",
      "source": [
        "#### Define CNN architecture"
      ],
      "metadata": {
        "id": "fq1INTEZkKAM"
      }
    },
    {
      "cell_type": "code",
      "source": [
        "def CNN_model(input_shape, conv_layers) :\n",
        "  model = tf.keras.models.Sequential()\n",
        "  for filters, kernel_size in conv_layers : \n",
        "    if conv_layers.index((filters, kernel_size)) == 0 :\n",
        "        model.add(tf.keras.layers.Conv1D(filters = filters, kernel_size = kernel_size, strides = 1, padding = \"causal\", activation = \"relu\", input_shape = input_shape))\n",
        "    else :\n",
        "        model.add(tf.keras.layers.Conv1D(filters = filters, kernel_size = kernel_size, strides = 1, padding = \"causal\", activation = \"relu\"))\n",
        "    model.add(tf.keras.layers.Conv1D(filters = filters, kernel_size = kernel_size, strides = 1, padding = \"causal\", activation = \"relu\"))\n",
        "    model.add(tf.keras.layers.MaxPooling1D(pool_size = 2))\n",
        "  model.add(tf.keras.layers.Dropout(rate = 0.2))\n",
        "  model.add(tf.keras.layers.Flatten())\n",
        "  model.add(tf.keras.layers.Dense(512, activation = \"relu\"))\n",
        "  model.add(tf.keras.layers.Dense(24, activation = \"softmax\"))\n",
        "\n",
        "  model.compile(loss = 'categorical_crossentropy', optimizer='adam', metrics=['accuracy'])\n",
        "  return model"
      ],
      "metadata": {
        "id": "xNNfcD2wkSEL"
      },
      "execution_count": null,
      "outputs": []
    },
    {
      "cell_type": "code",
      "source": [
        "conv_layers = [(32, 5), (64, 5), (128, 5), (256, 5)]\n",
        "\n",
        "CNN_model = CNN_model(x_train.shape[1:3], conv_layers)\n",
        "\n",
        "CNN_model.summary()"
      ],
      "metadata": {
        "colab": {
          "base_uri": "https://localhost:8080/"
        },
        "id": "6nCvC6XfkY_W",
        "outputId": "14f722b9-f88e-4a21-fe8a-27601da97045"
      },
      "execution_count": null,
      "outputs": [
        {
          "output_type": "stream",
          "name": "stdout",
          "text": [
            "Model: \"sequential_2\"\n",
            "_________________________________________________________________\n",
            " Layer (type)                Output Shape              Param #   \n",
            "=================================================================\n",
            " conv1d_16 (Conv1D)          (None, 42, 32)            192       \n",
            "                                                                 \n",
            " conv1d_17 (Conv1D)          (None, 42, 32)            5152      \n",
            "                                                                 \n",
            " max_pooling1d_8 (MaxPooling  (None, 21, 32)           0         \n",
            " 1D)                                                             \n",
            "                                                                 \n",
            " conv1d_18 (Conv1D)          (None, 21, 64)            10304     \n",
            "                                                                 \n",
            " conv1d_19 (Conv1D)          (None, 21, 64)            20544     \n",
            "                                                                 \n",
            " max_pooling1d_9 (MaxPooling  (None, 10, 64)           0         \n",
            " 1D)                                                             \n",
            "                                                                 \n",
            " conv1d_20 (Conv1D)          (None, 10, 128)           41088     \n",
            "                                                                 \n",
            " conv1d_21 (Conv1D)          (None, 10, 128)           82048     \n",
            "                                                                 \n",
            " max_pooling1d_10 (MaxPoolin  (None, 5, 128)           0         \n",
            " g1D)                                                            \n",
            "                                                                 \n",
            " conv1d_22 (Conv1D)          (None, 5, 256)            164096    \n",
            "                                                                 \n",
            " conv1d_23 (Conv1D)          (None, 5, 256)            327936    \n",
            "                                                                 \n",
            " max_pooling1d_11 (MaxPoolin  (None, 2, 256)           0         \n",
            " g1D)                                                            \n",
            "                                                                 \n",
            " dropout_2 (Dropout)         (None, 2, 256)            0         \n",
            "                                                                 \n",
            " flatten_2 (Flatten)         (None, 512)               0         \n",
            "                                                                 \n",
            " dense_4 (Dense)             (None, 512)               262656    \n",
            "                                                                 \n",
            " dense_5 (Dense)             (None, 24)                12312     \n",
            "                                                                 \n",
            "=================================================================\n",
            "Total params: 926,328\n",
            "Trainable params: 926,328\n",
            "Non-trainable params: 0\n",
            "_________________________________________________________________\n"
          ]
        }
      ]
    },
    {
      "cell_type": "markdown",
      "metadata": {
        "id": "kxyNN788QorR"
      },
      "source": [
        "#### CNN Architecture with augmentation"
      ]
    },
    {
      "cell_type": "code",
      "execution_count": null,
      "metadata": {
        "id": "LwboURpt6WxN"
      },
      "outputs": [],
      "source": [
        "# Set a learning rate annealer\n",
        "learning_rate_reduction = ReduceLROnPlateau(monitor='val_accuracy', \n",
        "                                            patience=3, \n",
        "                                            verbose=1, \n",
        "                                            factor=0.5, \n",
        "                                            min_lr=0.00001)"
      ]
    },
    {
      "cell_type": "code",
      "execution_count": null,
      "metadata": {
        "colab": {
          "base_uri": "https://localhost:8080/"
        },
        "id": "4gipniCA6WxO",
        "outputId": "557bb67f-3a51-4208-ed2e-5b8df620f997"
      },
      "outputs": [
        {
          "name": "stdout",
          "output_type": "stream",
          "text": [
            "Model: \"sequential_1\"\n",
            "_________________________________________________________________\n",
            " Layer (type)                Output Shape              Param #   \n",
            "=================================================================\n",
            " conv1d_8 (Conv1D)           (None, 42, 32)            192       \n",
            "                                                                 \n",
            " conv1d_9 (Conv1D)           (None, 42, 32)            5152      \n",
            "                                                                 \n",
            " max_pooling1d_4 (MaxPooling  (None, 21, 32)           0         \n",
            " 1D)                                                             \n",
            "                                                                 \n",
            " conv1d_10 (Conv1D)          (None, 21, 64)            10304     \n",
            "                                                                 \n",
            " conv1d_11 (Conv1D)          (None, 21, 64)            20544     \n",
            "                                                                 \n",
            " max_pooling1d_5 (MaxPooling  (None, 10, 64)           0         \n",
            " 1D)                                                             \n",
            "                                                                 \n",
            " conv1d_12 (Conv1D)          (None, 10, 128)           41088     \n",
            "                                                                 \n",
            " conv1d_13 (Conv1D)          (None, 10, 128)           82048     \n",
            "                                                                 \n",
            " max_pooling1d_6 (MaxPooling  (None, 5, 128)           0         \n",
            " 1D)                                                             \n",
            "                                                                 \n",
            " conv1d_14 (Conv1D)          (None, 5, 256)            164096    \n",
            "                                                                 \n",
            " conv1d_15 (Conv1D)          (None, 5, 256)            327936    \n",
            "                                                                 \n",
            " max_pooling1d_7 (MaxPooling  (None, 2, 256)           0         \n",
            " 1D)                                                             \n",
            "                                                                 \n",
            " dropout_1 (Dropout)         (None, 2, 256)            0         \n",
            "                                                                 \n",
            " flatten_1 (Flatten)         (None, 512)               0         \n",
            "                                                                 \n",
            " dense_2 (Dense)             (None, 512)               262656    \n",
            "                                                                 \n",
            " dense_3 (Dense)             (None, 24)                12312     \n",
            "                                                                 \n",
            "=================================================================\n",
            "Total params: 926,328\n",
            "Trainable params: 926,328\n",
            "Non-trainable params: 0\n",
            "_________________________________________________________________\n"
          ]
        }
      ],
      "source": [
        "# architecture\n",
        "# Set the CNN model \n",
        "\n",
        "# One Dimensional Convolutional Neural Network model, Train will be feed to 1 Dimension Convolutional Neural Network\n",
        "model = tf.keras.models.Sequential([\n",
        "    tf.keras.layers.Conv1D(filters=32, kernel_size=5, strides=1, padding=\"causal\", activation=\"relu\", input_shape=x_train.shape[1:3]),\n",
        "    tf.keras.layers.Conv1D(filters=32, kernel_size=5, strides=1, padding=\"causal\", activation=\"relu\"),\n",
        "    tf.keras.layers.MaxPooling1D(pool_size=2),\n",
        "    tf.keras.layers.Conv1D(filters=64, kernel_size=5, strides=1, padding=\"causal\", activation=\"relu\"),\n",
        "    tf.keras.layers.Conv1D(filters=64, kernel_size=5, strides=1, padding=\"causal\", activation=\"relu\"),\n",
        "    tf.keras.layers.MaxPooling1D(pool_size=2),\n",
        "    tf.keras.layers.Conv1D(filters=128, kernel_size=5, strides=1, padding=\"causal\", activation=\"relu\"),\n",
        "    tf.keras.layers.Conv1D(filters=128, kernel_size=5, strides=1, padding=\"causal\", activation=\"relu\"),\n",
        "    tf.keras.layers.MaxPooling1D(pool_size=2),\n",
        "    tf.keras.layers.Conv1D(filters=256, kernel_size=5, strides=1, padding=\"causal\", activation=\"relu\"),\n",
        "    tf.keras.layers.Conv1D(filters=256, kernel_size=5, strides=1, padding=\"causal\", activation=\"relu\"),\n",
        "    tf.keras.layers.MaxPooling1D(pool_size=2),\n",
        "    tf.keras.layers.Dropout(rate=0.2),\n",
        "    # Flatten the results to feed into a DNN\n",
        "    tf.keras.layers.Flatten(),\n",
        "    # 512 neuron hidden layer\n",
        "    tf.keras.layers.Dense(512, activation='relu'), \n",
        "    tf.keras.layers.Dense(24, activation='softmax')])\n",
        "\n",
        "model.compile(loss = 'categorical_crossentropy', optimizer='adam', metrics=['accuracy'])\n",
        "model.summary()"
      ]
    },
    {
      "cell_type": "code",
      "execution_count": null,
      "metadata": {
        "colab": {
          "base_uri": "https://localhost:8080/"
        },
        "id": "H9TQ5vv56WxO",
        "outputId": "f9a91f20-5eb5-4432-cf42-cc3b63b82338"
      },
      "outputs": [
        {
          "name": "stdout",
          "output_type": "stream",
          "text": [
            "Epoch 1/30\n",
            "80/82 [============================>.] - ETA: 0s - loss: 3.0623 - accuracy: 0.0770\n",
            "Epoch 1: val_accuracy improved from -inf to 0.13636, saving model to best.h5\n",
            "82/82 [==============================] - 4s 13ms/step - loss: 3.0583 - accuracy: 0.0774 - val_loss: 2.8459 - val_accuracy: 0.1364 - lr: 0.0010\n",
            "Epoch 2/30\n",
            "80/82 [============================>.] - ETA: 0s - loss: 2.4799 - accuracy: 0.2052\n",
            "Epoch 2: val_accuracy improved from 0.13636 to 0.34091, saving model to best.h5\n",
            "82/82 [==============================] - 1s 10ms/step - loss: 2.4715 - accuracy: 0.2067 - val_loss: 2.1105 - val_accuracy: 0.3409 - lr: 0.0010\n",
            "Epoch 3/30\n",
            "76/82 [==========================>...] - ETA: 0s - loss: 1.8268 - accuracy: 0.3879\n",
            "Epoch 3: val_accuracy improved from 0.34091 to 0.45455, saving model to best.h5\n",
            "82/82 [==============================] - 1s 10ms/step - loss: 1.8203 - accuracy: 0.3873 - val_loss: 1.6714 - val_accuracy: 0.4545 - lr: 0.0010\n",
            "Epoch 4/30\n",
            "82/82 [==============================] - ETA: 0s - loss: 1.3938 - accuracy: 0.5063\n",
            "Epoch 4: val_accuracy improved from 0.45455 to 0.54545, saving model to best.h5\n",
            "82/82 [==============================] - 1s 10ms/step - loss: 1.3938 - accuracy: 0.5063 - val_loss: 1.7276 - val_accuracy: 0.5455 - lr: 0.0010\n",
            "Epoch 5/30\n",
            "82/82 [==============================] - ETA: 0s - loss: 0.9915 - accuracy: 0.6732\n",
            "Epoch 5: val_accuracy improved from 0.54545 to 0.61364, saving model to best.h5\n",
            "82/82 [==============================] - 1s 12ms/step - loss: 0.9915 - accuracy: 0.6732 - val_loss: 1.5501 - val_accuracy: 0.6136 - lr: 0.0010\n",
            "Epoch 6/30\n",
            "78/82 [===========================>..] - ETA: 0s - loss: 0.7653 - accuracy: 0.7497\n",
            "Epoch 6: val_accuracy improved from 0.61364 to 0.68182, saving model to best.h5\n",
            "82/82 [==============================] - 1s 13ms/step - loss: 0.7572 - accuracy: 0.7516 - val_loss: 1.2450 - val_accuracy: 0.6818 - lr: 0.0010\n",
            "Epoch 7/30\n",
            "80/82 [============================>.] - ETA: 0s - loss: 0.5791 - accuracy: 0.8109\n",
            "Epoch 7: val_accuracy did not improve from 0.68182\n",
            "82/82 [==============================] - 1s 11ms/step - loss: 0.5801 - accuracy: 0.8117 - val_loss: 1.5321 - val_accuracy: 0.6364 - lr: 0.0010\n",
            "Epoch 8/30\n",
            "82/82 [==============================] - ETA: 0s - loss: 0.4729 - accuracy: 0.8485\n",
            "Epoch 8: val_accuracy improved from 0.68182 to 0.70455, saving model to best.h5\n",
            "82/82 [==============================] - 1s 13ms/step - loss: 0.4729 - accuracy: 0.8485 - val_loss: 1.0701 - val_accuracy: 0.7045 - lr: 0.0010\n",
            "Epoch 9/30\n",
            "77/82 [===========================>..] - ETA: 0s - loss: 0.3843 - accuracy: 0.8781\n",
            "Epoch 9: val_accuracy did not improve from 0.70455\n",
            "82/82 [==============================] - 1s 10ms/step - loss: 0.3830 - accuracy: 0.8787 - val_loss: 1.5723 - val_accuracy: 0.6818 - lr: 0.0010\n",
            "Epoch 10/30\n",
            "78/82 [===========================>..] - ETA: 0s - loss: 0.2973 - accuracy: 0.9066\n",
            "Epoch 10: val_accuracy improved from 0.70455 to 0.75000, saving model to best.h5\n",
            "82/82 [==============================] - 1s 10ms/step - loss: 0.2976 - accuracy: 0.9059 - val_loss: 1.2126 - val_accuracy: 0.7500 - lr: 0.0010\n",
            "Epoch 11/30\n",
            "80/82 [============================>.] - ETA: 0s - loss: 0.2394 - accuracy: 0.9231\n",
            "Epoch 11: val_accuracy improved from 0.75000 to 0.77273, saving model to best.h5\n",
            "82/82 [==============================] - 1s 10ms/step - loss: 0.2422 - accuracy: 0.9227 - val_loss: 1.3993 - val_accuracy: 0.7727 - lr: 0.0010\n",
            "Epoch 12/30\n",
            "77/82 [===========================>..] - ETA: 0s - loss: 0.2273 - accuracy: 0.9307\n",
            "Epoch 12: val_accuracy did not improve from 0.77273\n",
            "82/82 [==============================] - 1s 9ms/step - loss: 0.2252 - accuracy: 0.9296 - val_loss: 1.5650 - val_accuracy: 0.7045 - lr: 0.0010\n",
            "Epoch 13/30\n",
            "82/82 [==============================] - ETA: 0s - loss: 0.1773 - accuracy: 0.9464\n",
            "Epoch 13: val_accuracy did not improve from 0.77273\n",
            "82/82 [==============================] - 1s 9ms/step - loss: 0.1773 - accuracy: 0.9464 - val_loss: 1.7582 - val_accuracy: 0.7727 - lr: 0.0010\n",
            "Epoch 14/30\n",
            "81/82 [============================>.] - ETA: 0s - loss: 0.2467 - accuracy: 0.9198\n",
            "Epoch 14: val_accuracy did not improve from 0.77273\n",
            "\n",
            "Epoch 14: ReduceLROnPlateau reducing learning rate to 0.0005000000237487257.\n",
            "82/82 [==============================] - 1s 9ms/step - loss: 0.2458 - accuracy: 0.9204 - val_loss: 1.8232 - val_accuracy: 0.7045 - lr: 0.0010\n",
            "Epoch 15/30\n",
            "82/82 [==============================] - ETA: 0s - loss: 0.1137 - accuracy: 0.9659\n",
            "Epoch 15: val_accuracy did not improve from 0.77273\n",
            "82/82 [==============================] - 1s 9ms/step - loss: 0.1137 - accuracy: 0.9659 - val_loss: 1.6228 - val_accuracy: 0.7500 - lr: 5.0000e-04\n",
            "Epoch 16/30\n",
            "77/82 [===========================>..] - ETA: 0s - loss: 0.0659 - accuracy: 0.9796\n",
            "Epoch 16: val_accuracy improved from 0.77273 to 0.79545, saving model to best.h5\n",
            "82/82 [==============================] - 1s 10ms/step - loss: 0.0636 - accuracy: 0.9805 - val_loss: 1.6154 - val_accuracy: 0.7955 - lr: 5.0000e-04\n",
            "Epoch 17/30\n",
            "79/82 [===========================>..] - ETA: 0s - loss: 0.0452 - accuracy: 0.9877\n",
            "Epoch 17: val_accuracy did not improve from 0.79545\n",
            "82/82 [==============================] - 1s 9ms/step - loss: 0.0441 - accuracy: 0.9881 - val_loss: 1.9244 - val_accuracy: 0.7500 - lr: 5.0000e-04\n",
            "Epoch 18/30\n",
            "80/82 [============================>.] - ETA: 0s - loss: 0.0288 - accuracy: 0.9898\n",
            "Epoch 18: val_accuracy did not improve from 0.79545\n",
            "82/82 [==============================] - 1s 9ms/step - loss: 0.0284 - accuracy: 0.9900 - val_loss: 2.0903 - val_accuracy: 0.7500 - lr: 5.0000e-04\n",
            "Epoch 18: early stopping\n"
          ]
        }
      ],
      "source": [
        "epochs = 30\n",
        "batch_size = 32\n",
        "\n",
        "\n",
        "model_checkpoint_callback = ModelCheckpoint(\n",
        "    filepath=\"best.h5\",\n",
        "    monitor='val_accuracy', \n",
        "    verbose=1, \n",
        "    save_best_only=True, \n",
        "    mode='max')\n",
        "\n",
        "es = EarlyStopping(monitor=\"val_loss\", mode=\"min\", verbose=1, patience=10)\n",
        "\n",
        "# Fit the model\n",
        "history = model.fit(x_train, labels, batch_size=batch_size,\n",
        "                              epochs = epochs, validation_data = (x_test, test_label),steps_per_epoch=x_train.shape[0] // batch_size,\n",
        "                              verbose = 1,   callbacks=[model_checkpoint_callback,learning_rate_reduction,es])"
      ]
    },
    {
      "cell_type": "code",
      "source": [],
      "metadata": {
        "id": "fmOs3nUrkXZd"
      },
      "execution_count": null,
      "outputs": []
    },
    {
      "cell_type": "markdown",
      "metadata": {
        "id": "4ep7lwwcQvNJ"
      },
      "source": [
        "#### Prediction and evaluation"
      ]
    },
    {
      "cell_type": "code",
      "execution_count": null,
      "metadata": {
        "colab": {
          "base_uri": "https://localhost:8080/"
        },
        "id": "851d8Xy0Npz7",
        "outputId": "e15c5203-f998-44f0-a3d3-fc8a64113c83"
      },
      "outputs": [
        {
          "name": "stdout",
          "output_type": "stream",
          "text": [
            "2/2 [==============================] - 0s 6ms/step\n"
          ]
        }
      ],
      "source": [
        "results = model.predict(x_test)\n",
        "y_pred = np.argmax(results,axis = 1) \n",
        "y_true = np.argmax(test_label,axis = 1) \n"
      ]
    },
    {
      "cell_type": "code",
      "execution_count": null,
      "metadata": {
        "colab": {
          "base_uri": "https://localhost:8080/"
        },
        "id": "wQxI5oj3Npz8",
        "outputId": "e20c1ebf-c702-4c47-d532-fcfd752710ec"
      },
      "outputs": [
        {
          "name": "stdout",
          "output_type": "stream",
          "text": [
            "              precision    recall  f1-score   support\n",
            "\n",
            "           0       0.75      1.00      0.86         3\n",
            "           1       0.00      0.00      0.00         1\n",
            "           2       0.67      1.00      0.80         2\n",
            "           3       1.00      1.00      1.00         1\n",
            "           4       0.67      1.00      0.80         2\n",
            "           6       1.00      1.00      1.00         1\n",
            "           7       1.00      1.00      1.00         2\n",
            "           8       1.00      0.50      0.67         2\n",
            "           9       0.00      0.00      0.00         1\n",
            "          10       1.00      0.67      0.80         3\n",
            "          11       0.00      0.00      0.00         1\n",
            "          12       0.50      1.00      0.67         2\n",
            "          13       1.00      0.50      0.67         2\n",
            "          14       1.00      1.00      1.00         3\n",
            "          16       0.67      0.67      0.67         3\n",
            "          17       0.00      0.00      0.00         1\n",
            "          18       0.75      1.00      0.86         3\n",
            "          19       0.00      0.00      0.00         1\n",
            "          20       1.00      0.50      0.67         2\n",
            "          21       0.50      1.00      0.67         1\n",
            "          22       1.00      1.00      1.00         4\n",
            "          23       1.00      0.67      0.80         3\n",
            "\n",
            "    accuracy                           0.75        44\n",
            "   macro avg       0.66      0.66      0.63        44\n",
            "weighted avg       0.77      0.75      0.73        44\n",
            "\n"
          ]
        },
        {
          "name": "stderr",
          "output_type": "stream",
          "text": [
            "/usr/local/lib/python3.9/dist-packages/sklearn/metrics/_classification.py:1344: UndefinedMetricWarning: Precision and F-score are ill-defined and being set to 0.0 in labels with no predicted samples. Use `zero_division` parameter to control this behavior.\n",
            "  _warn_prf(average, modifier, msg_start, len(result))\n",
            "/usr/local/lib/python3.9/dist-packages/sklearn/metrics/_classification.py:1344: UndefinedMetricWarning: Precision and F-score are ill-defined and being set to 0.0 in labels with no predicted samples. Use `zero_division` parameter to control this behavior.\n",
            "  _warn_prf(average, modifier, msg_start, len(result))\n",
            "/usr/local/lib/python3.9/dist-packages/sklearn/metrics/_classification.py:1344: UndefinedMetricWarning: Precision and F-score are ill-defined and being set to 0.0 in labels with no predicted samples. Use `zero_division` parameter to control this behavior.\n",
            "  _warn_prf(average, modifier, msg_start, len(result))\n"
          ]
        }
      ],
      "source": [
        "from sklearn.metrics import classification_report\n",
        "print(classification_report(y_true, y_pred))"
      ]
    },
    {
      "cell_type": "code",
      "execution_count": null,
      "metadata": {
        "colab": {
          "base_uri": "https://localhost:8080/"
        },
        "id": "rMspzzLqNwKe",
        "outputId": "ab16d8d1-0f0e-469f-9745-6dfce02ac192"
      },
      "outputs": [
        {
          "name": "stdout",
          "output_type": "stream",
          "text": [
            "ROC AUC score: 0.9737693136902623\n"
          ]
        }
      ],
      "source": [
        "from sklearn.metrics import roc_auc_score\n",
        "import numpy as np\n",
        "\n",
        "# Calculate the ROC AUC using the micro-averaging method\n",
        "roc_auc = roc_auc_score(test_label, results, multi_class='ovo', average='micro')\n",
        "print(\"ROC AUC score:\", roc_auc)\n"
      ]
    },
    {
      "cell_type": "markdown",
      "metadata": {
        "id": "L09e6FY2aF3Q"
      },
      "source": [
        "Train on whole dataset"
      ]
    },
    {
      "cell_type": "code",
      "execution_count": null,
      "metadata": {
        "id": "DdFuOOppOVO9"
      },
      "outputs": [],
      "source": [
        "augmented_X = []\n",
        "augmented_y = []\n",
        "for i in range(len(X)):\n",
        "  for j in (range(10)):\n",
        "      transformed = transform(image=X[i])\n",
        "      augmented_X.append(transformed['image'])\n",
        "      augmented_y.append(y[i])\n",
        "\n",
        "augmented_X = np.array(augmented_X)\n",
        "augmented_y = np.array(augmented_y)\n",
        "X = np.concatenate([X,augmented_X])\n",
        "y = np.concatenate([y,augmented_y])"
      ]
    },
    {
      "cell_type": "code",
      "execution_count": null,
      "metadata": {
        "id": "JBosnz6nb-DO"
      },
      "outputs": [],
      "source": [
        "mp_drawing = mp.solutions.drawing_utils\n",
        "mp_hands = mp.solutions.hands"
      ]
    },
    {
      "cell_type": "code",
      "execution_count": null,
      "metadata": {
        "id": "JKDN6Mw0b-DP"
      },
      "outputs": [],
      "source": [
        "data = []\n",
        "labels = []"
      ]
    },
    {
      "cell_type": "code",
      "execution_count": null,
      "metadata": {
        "id": "lYZk0RV_b-DR"
      },
      "outputs": [],
      "source": [
        "count = 0\n",
        "with mp_hands.Hands(static_image_mode =True, max_num_hands = 2, min_detection_confidence=0.5) as hands:\n",
        "    for i in tqdm(range(len(X))):\n",
        "        # Load the image and extract its features\n",
        "            results = hands.process(cv2.cvtColor(cv2.flip(X[i],1), cv2.COLOR_BGR2RGB))\n",
        "            try:\n",
        "                # Extract Hand landmarks\n",
        "                for hand_landmark in results.multi_hand_landmarks:\n",
        "                    right_hand = hand_landmark.landmark\n",
        "                right_hand_row = list(np.array([[landmark.x, landmark.y] for landmark in right_hand]).flatten())\n",
        "                # Concate rows\n",
        "                row = right_hand_row\n",
        "\n",
        "                # Extract the label from the image filename (e.g. \"A.jpg\")\n",
        "                label = y[i]\n",
        "\n",
        "                data.append(row)\n",
        "                labels.append(label)\n",
        "                print(row, label)\n",
        "            except Exception as e:\n",
        "                count += 1\n",
        "                continue\n"
      ]
    },
    {
      "cell_type": "code",
      "execution_count": null,
      "metadata": {
        "colab": {
          "base_uri": "https://localhost:8080/"
        },
        "id": "bikAs8SjclGq",
        "outputId": "c97ba982-73f8-4195-90da-99a4c8beb7c8"
      },
      "outputs": [
        {
          "data": {
            "text/plain": [
              "2957"
            ]
          },
          "execution_count": 34,
          "metadata": {},
          "output_type": "execute_result"
        }
      ],
      "source": [
        "len(data)"
      ]
    },
    {
      "cell_type": "code",
      "execution_count": null,
      "metadata": {
        "colab": {
          "base_uri": "https://localhost:8080/"
        },
        "id": "yQOvF67ecbmD",
        "outputId": "cef18587-176c-4728-bdaa-7dfd8b212d8e"
      },
      "outputs": [
        {
          "data": {
            "text/plain": [
              "['combined_labels.pkl']"
            ]
          },
          "execution_count": 35,
          "metadata": {},
          "output_type": "execute_result"
        }
      ],
      "source": [
        "joblib.dump(data, 'combined_data.pkl')\n",
        "joblib.dump(labels, 'combined_labels.pkl')\n"
      ]
    },
    {
      "cell_type": "code",
      "execution_count": null,
      "metadata": {
        "id": "Jz8r7vLicRpW"
      },
      "outputs": [],
      "source": [
        "labels = np.array(labels)\n",
        "data = np.array(data)"
      ]
    },
    {
      "cell_type": "code",
      "execution_count": null,
      "metadata": {
        "colab": {
          "base_uri": "https://localhost:8080/"
        },
        "id": "6Zj1_VnbcRp6",
        "outputId": "9f5b6301-6491-4ad4-accb-fcbe0a67ae95"
      },
      "outputs": [
        {
          "name": "stdout",
          "output_type": "stream",
          "text": [
            "(2957, 42, 1)\n"
          ]
        }
      ],
      "source": [
        "from sklearn.preprocessing import StandardScaler\n",
        "scaler = StandardScaler().fit(data)\n",
        "x = scaler.transform(data)\n",
        "x = np.reshape(x, (x.shape[0], x.shape[1], 1))\n",
        "print(x.shape)"
      ]
    },
    {
      "cell_type": "code",
      "execution_count": null,
      "metadata": {
        "colab": {
          "base_uri": "https://localhost:8080/"
        },
        "id": "IsKXDo0DcRp7",
        "outputId": "1c6cd86d-5cea-428d-a815-49d08c284fee"
      },
      "outputs": [
        {
          "data": {
            "text/plain": [
              "(2957, 24)"
            ]
          },
          "execution_count": 38,
          "metadata": {},
          "output_type": "execute_result"
        }
      ],
      "source": [
        "labels.shape"
      ]
    },
    {
      "cell_type": "markdown",
      "metadata": {
        "id": "B2luZcUlcRp8"
      },
      "source": [
        "#### CNN Architecture with augmentation"
      ]
    },
    {
      "cell_type": "code",
      "execution_count": null,
      "metadata": {
        "colab": {
          "base_uri": "https://localhost:8080/"
        },
        "id": "d3-iDVK-cRp9",
        "outputId": "8de1f8af-7c15-4140-c3bb-782f4cd9b20d"
      },
      "outputs": [
        {
          "name": "stdout",
          "output_type": "stream",
          "text": [
            "Model: \"sequential_3\"\n",
            "_________________________________________________________________\n",
            " Layer (type)                Output Shape              Param #   \n",
            "=================================================================\n",
            " conv1d_24 (Conv1D)          (None, 42, 32)            192       \n",
            "                                                                 \n",
            " conv1d_25 (Conv1D)          (None, 42, 32)            5152      \n",
            "                                                                 \n",
            " max_pooling1d_12 (MaxPoolin  (None, 21, 32)           0         \n",
            " g1D)                                                            \n",
            "                                                                 \n",
            " conv1d_26 (Conv1D)          (None, 21, 64)            10304     \n",
            "                                                                 \n",
            " conv1d_27 (Conv1D)          (None, 21, 64)            20544     \n",
            "                                                                 \n",
            " max_pooling1d_13 (MaxPoolin  (None, 10, 64)           0         \n",
            " g1D)                                                            \n",
            "                                                                 \n",
            " conv1d_28 (Conv1D)          (None, 10, 128)           41088     \n",
            "                                                                 \n",
            " conv1d_29 (Conv1D)          (None, 10, 128)           82048     \n",
            "                                                                 \n",
            " max_pooling1d_14 (MaxPoolin  (None, 5, 128)           0         \n",
            " g1D)                                                            \n",
            "                                                                 \n",
            " conv1d_30 (Conv1D)          (None, 5, 256)            164096    \n",
            "                                                                 \n",
            " conv1d_31 (Conv1D)          (None, 5, 256)            327936    \n",
            "                                                                 \n",
            " max_pooling1d_15 (MaxPoolin  (None, 2, 256)           0         \n",
            " g1D)                                                            \n",
            "                                                                 \n",
            " dropout_3 (Dropout)         (None, 2, 256)            0         \n",
            "                                                                 \n",
            " flatten_3 (Flatten)         (None, 512)               0         \n",
            "                                                                 \n",
            " dense_6 (Dense)             (None, 512)               262656    \n",
            "                                                                 \n",
            " dense_7 (Dense)             (None, 24)                12312     \n",
            "                                                                 \n",
            "=================================================================\n",
            "Total params: 926,328\n",
            "Trainable params: 926,328\n",
            "Non-trainable params: 0\n",
            "_________________________________________________________________\n"
          ]
        }
      ],
      "source": [
        "# architecture\n",
        "# Set the CNN model \n",
        "\n",
        "# One Dimensional Convolutional Neural Network model, Train will be feed to 1 Dimension Convolutional Neural Network\n",
        "model = tf.keras.models.Sequential([\n",
        "    tf.keras.layers.Conv1D(filters=32, kernel_size=5, strides=1, padding=\"causal\", activation=\"relu\", input_shape=x_train.shape[1:3]),\n",
        "    tf.keras.layers.Conv1D(filters=32, kernel_size=5, strides=1, padding=\"causal\", activation=\"relu\"),\n",
        "    tf.keras.layers.MaxPooling1D(pool_size=2),\n",
        "    tf.keras.layers.Conv1D(filters=64, kernel_size=5, strides=1, padding=\"causal\", activation=\"relu\"),\n",
        "    tf.keras.layers.Conv1D(filters=64, kernel_size=5, strides=1, padding=\"causal\", activation=\"relu\"),\n",
        "    tf.keras.layers.MaxPooling1D(pool_size=2),\n",
        "    tf.keras.layers.Conv1D(filters=128, kernel_size=5, strides=1, padding=\"causal\", activation=\"relu\"),\n",
        "    tf.keras.layers.Conv1D(filters=128, kernel_size=5, strides=1, padding=\"causal\", activation=\"relu\"),\n",
        "    tf.keras.layers.MaxPooling1D(pool_size=2),\n",
        "    tf.keras.layers.Conv1D(filters=256, kernel_size=5, strides=1, padding=\"causal\", activation=\"relu\"),\n",
        "    tf.keras.layers.Conv1D(filters=256, kernel_size=5, strides=1, padding=\"causal\", activation=\"relu\"),\n",
        "    tf.keras.layers.MaxPooling1D(pool_size=2),\n",
        "    tf.keras.layers.Dropout(rate=0.2),\n",
        "    # Flatten the results to feed into a DNN\n",
        "    tf.keras.layers.Flatten(),\n",
        "    # 512 neuron hidden layer\n",
        "    tf.keras.layers.Dense(512, activation='relu'), \n",
        "    tf.keras.layers.Dense(24, activation='softmax')])\n",
        "\n",
        "model.compile(loss = 'categorical_crossentropy', optimizer='adam', metrics=['accuracy'])\n",
        "model.summary()"
      ]
    },
    {
      "cell_type": "code",
      "execution_count": null,
      "metadata": {
        "colab": {
          "base_uri": "https://localhost:8080/"
        },
        "id": "QujxejzAcRp-",
        "outputId": "f2a08621-8d24-4c44-bc97-8a9bdb02653c"
      },
      "outputs": [
        {
          "name": "stdout",
          "output_type": "stream",
          "text": [
            "Epoch 1/30\n",
            "92/92 [==============================] - 4s 8ms/step - loss: 2.9550 - accuracy: 0.1101\n",
            "Epoch 2/30\n",
            "92/92 [==============================] - 1s 8ms/step - loss: 2.3324 - accuracy: 0.2520\n",
            "Epoch 3/30\n",
            "92/92 [==============================] - 1s 8ms/step - loss: 1.7452 - accuracy: 0.4099\n",
            "Epoch 4/30\n",
            "92/92 [==============================] - 1s 8ms/step - loss: 1.3026 - accuracy: 0.5593\n",
            "Epoch 5/30\n",
            "92/92 [==============================] - 1s 8ms/step - loss: 0.9512 - accuracy: 0.6906\n",
            "Epoch 6/30\n",
            "92/92 [==============================] - 1s 8ms/step - loss: 0.7261 - accuracy: 0.7549\n",
            "Epoch 7/30\n",
            "92/92 [==============================] - 1s 14ms/step - loss: 0.5972 - accuracy: 0.8109\n",
            "Epoch 8/30\n",
            "92/92 [==============================] - 2s 19ms/step - loss: 0.4976 - accuracy: 0.8424\n",
            "Epoch 9/30\n",
            "92/92 [==============================] - 1s 12ms/step - loss: 0.3892 - accuracy: 0.8735\n",
            "Epoch 10/30\n",
            "92/92 [==============================] - 1s 8ms/step - loss: 0.3837 - accuracy: 0.8766\n",
            "Epoch 11/30\n",
            "92/92 [==============================] - 1s 8ms/step - loss: 0.3244 - accuracy: 0.8913\n",
            "Epoch 12/30\n",
            "92/92 [==============================] - 1s 8ms/step - loss: 0.2697 - accuracy: 0.9087\n",
            "Epoch 13/30\n",
            "92/92 [==============================] - 1s 8ms/step - loss: 0.2483 - accuracy: 0.9186\n",
            "Epoch 14/30\n",
            "92/92 [==============================] - 1s 8ms/step - loss: 0.1857 - accuracy: 0.9415\n",
            "Epoch 15/30\n",
            "92/92 [==============================] - 1s 8ms/step - loss: 0.2310 - accuracy: 0.9272\n",
            "Epoch 16/30\n",
            "92/92 [==============================] - 1s 8ms/step - loss: 0.1639 - accuracy: 0.9439\n",
            "Epoch 17/30\n",
            "92/92 [==============================] - 1s 8ms/step - loss: 0.1832 - accuracy: 0.9450\n",
            "Epoch 18/30\n",
            "92/92 [==============================] - 1s 8ms/step - loss: 0.1416 - accuracy: 0.9566\n",
            "Epoch 19/30\n",
            "92/92 [==============================] - 1s 9ms/step - loss: 0.1105 - accuracy: 0.9665\n",
            "Epoch 20/30\n",
            "92/92 [==============================] - 1s 9ms/step - loss: 0.1151 - accuracy: 0.9631\n",
            "Epoch 21/30\n",
            "92/92 [==============================] - 1s 8ms/step - loss: 0.1575 - accuracy: 0.9542\n",
            "Epoch 22/30\n",
            "92/92 [==============================] - 1s 8ms/step - loss: 0.1370 - accuracy: 0.9583\n",
            "Epoch 23/30\n",
            "92/92 [==============================] - 1s 11ms/step - loss: 0.1575 - accuracy: 0.9576\n",
            "Epoch 24/30\n",
            "92/92 [==============================] - 1s 11ms/step - loss: 0.0945 - accuracy: 0.9706\n",
            "Epoch 25/30\n",
            "92/92 [==============================] - 1s 11ms/step - loss: 0.1500 - accuracy: 0.9566\n",
            "Epoch 26/30\n",
            "92/92 [==============================] - 1s 11ms/step - loss: 0.0405 - accuracy: 0.9860\n",
            "Epoch 27/30\n",
            "92/92 [==============================] - 1s 8ms/step - loss: 0.0714 - accuracy: 0.9771\n",
            "Epoch 28/30\n",
            "92/92 [==============================] - 1s 9ms/step - loss: 0.0839 - accuracy: 0.9785\n",
            "Epoch 29/30\n",
            "92/92 [==============================] - 1s 8ms/step - loss: 0.0651 - accuracy: 0.9795\n",
            "Epoch 30/30\n",
            "92/92 [==============================] - 1s 8ms/step - loss: 0.0853 - accuracy: 0.9740\n"
          ]
        }
      ],
      "source": [
        "epochs = 30\n",
        "batch_size = 32\n",
        "\n",
        "# Fit the model\n",
        "history = model.fit(x, labels, batch_size=batch_size,\n",
        "                              epochs = epochs,steps_per_epoch=x.shape[0] // batch_size,\n",
        "                              verbose = 1)"
      ]
    },
    {
      "cell_type": "code",
      "execution_count": null,
      "metadata": {
        "id": "okn46X5Df64a"
      },
      "outputs": [],
      "source": [
        "model.save('cnn.h5')"
      ]
    },
    {
      "cell_type": "markdown",
      "metadata": {
        "id": "R7FYBgaJcRp_"
      },
      "source": [
        "#### Prediction and evaluation"
      ]
    },
    {
      "cell_type": "code",
      "execution_count": null,
      "metadata": {
        "colab": {
          "base_uri": "https://localhost:8080/"
        },
        "id": "twVVS2vjcRqA",
        "outputId": "136b48dd-13cd-4dc3-aa21-354085ba0997"
      },
      "outputs": [
        {
          "name": "stdout",
          "output_type": "stream",
          "text": [
            "93/93 [==============================] - 0s 3ms/step\n"
          ]
        }
      ],
      "source": [
        "results = model.predict(x)\n",
        "y_pred = np.argmax(results,axis = 1) \n",
        "y_true = np.argmax(labels,axis = 1) \n"
      ]
    },
    {
      "cell_type": "code",
      "execution_count": null,
      "metadata": {
        "colab": {
          "base_uri": "https://localhost:8080/"
        },
        "id": "sCR0GFTdcRqB",
        "outputId": "db03f3b8-0dc0-4084-e0e3-83c68edc120a"
      },
      "outputs": [
        {
          "name": "stdout",
          "output_type": "stream",
          "text": [
            "              precision    recall  f1-score   support\n",
            "\n",
            "           0       0.97      1.00      0.99       132\n",
            "           1       1.00      0.99      1.00       137\n",
            "           2       0.99      0.98      0.98       142\n",
            "           3       0.96      1.00      0.98       108\n",
            "           4       1.00      0.99      1.00       127\n",
            "           5       1.00      1.00      1.00       136\n",
            "           6       1.00      1.00      1.00       143\n",
            "           7       0.99      1.00      1.00       130\n",
            "           8       1.00      0.96      0.98        96\n",
            "           9       1.00      0.95      0.97       101\n",
            "          10       0.99      1.00      1.00       131\n",
            "          11       0.97      1.00      0.98        86\n",
            "          12       1.00      0.97      0.98        99\n",
            "          13       0.96      0.99      0.97        94\n",
            "          14       0.99      1.00      1.00       125\n",
            "          15       1.00      1.00      1.00       104\n",
            "          16       0.99      0.95      0.97       111\n",
            "          17       1.00      1.00      1.00       100\n",
            "          18       0.99      0.99      0.99       162\n",
            "          19       0.96      0.99      0.97        96\n",
            "          20       0.93      0.97      0.95       119\n",
            "          21       0.99      0.97      0.98        99\n",
            "          22       1.00      0.99      0.99       209\n",
            "          23       1.00      1.00      1.00       170\n",
            "\n",
            "    accuracy                           0.99      2957\n",
            "   macro avg       0.99      0.99      0.99      2957\n",
            "weighted avg       0.99      0.99      0.99      2957\n",
            "\n"
          ]
        }
      ],
      "source": [
        "from sklearn.metrics import classification_report\n",
        "print(classification_report(y_true, y_pred))"
      ]
    },
    {
      "cell_type": "code",
      "execution_count": null,
      "metadata": {
        "colab": {
          "base_uri": "https://localhost:8080/"
        },
        "id": "lOea00HXcRqC",
        "outputId": "16f2d02c-474f-45eb-9751-f4bdbb009c6d"
      },
      "outputs": [
        {
          "name": "stdout",
          "output_type": "stream",
          "text": [
            "ROC AUC score: 0.9999648945765487\n"
          ]
        }
      ],
      "source": [
        "from sklearn.metrics import roc_auc_score\n",
        "import numpy as np\n",
        "\n",
        "# Calculate the ROC AUC using the micro-averaging method\n",
        "roc_auc = roc_auc_score(labels, results, multi_class='ovo', average='micro')\n",
        "print(\"ROC AUC score:\", roc_auc)\n"
      ]
    },
    {
      "cell_type": "markdown",
      "source": [
        "#### Cross Validation"
      ],
      "metadata": {
        "id": "ToqMnZwJk7Uq"
      }
    },
    {
      "cell_type": "code",
      "source": [
        "X.shape"
      ],
      "metadata": {
        "colab": {
          "base_uri": "https://localhost:8080/"
        },
        "id": "KPniIzehk_VT",
        "outputId": "8fb8b57c-982e-4296-a707-577a5510fa99"
      },
      "execution_count": null,
      "outputs": [
        {
          "output_type": "execute_result",
          "data": {
            "text/plain": [
              "(817, 224, 224)"
            ]
          },
          "metadata": {},
          "execution_count": 21
        }
      ]
    },
    {
      "cell_type": "code",
      "source": [
        "y.shape"
      ],
      "metadata": {
        "colab": {
          "base_uri": "https://localhost:8080/"
        },
        "id": "hhgEJ63jlHzN",
        "outputId": "ae58ad11-acd8-4c9a-c424-5474bdcbc39e"
      },
      "execution_count": null,
      "outputs": [
        {
          "output_type": "execute_result",
          "data": {
            "text/plain": [
              "(817, 24)"
            ]
          },
          "metadata": {},
          "execution_count": 22
        }
      ]
    },
    {
      "cell_type": "code",
      "source": [
        "def convert_mediapipe(X, y) :\n",
        "    mp_drawing = mp.solutions.drawing_utils\n",
        "    mp_hands = mp.solutions.hands\n",
        "    count = 0\n",
        "    labels = []\n",
        "    data = []\n",
        "    with mp_hands.Hands(static_image_mode =True, max_num_hands = 2, min_detection_confidence=0.5) as hands:\n",
        "        for i in tqdm(range(len(X))):\n",
        "        # Load the image and extract its features\n",
        "            results = hands.process(cv2.cvtColor(cv2.flip(X[i],1), cv2.COLOR_BGR2RGB))\n",
        "            try:\n",
        "                # Extract Hand landmarks\n",
        "                for hand_landmark in results.multi_hand_landmarks:\n",
        "                    right_hand = hand_landmark.landmark\n",
        "                right_hand_row = list(np.array([[landmark.x, landmark.y] for landmark in right_hand]).flatten())\n",
        "                # Concate rows\n",
        "                row = right_hand_row\n",
        "\n",
        "                # Extract the label from the image filename (e.g. \"A.jpg\")\n",
        "                label = y[i]\n",
        "\n",
        "                data.append(row)\n",
        "                labels.append(label)\n",
        "            except Exception as e:\n",
        "                count += 1\n",
        "                continue\n",
        "    X = np.array(data)\n",
        "    scaler = StandardScaler().fit(X)\n",
        "    X = scaler.transform(X)\n",
        "    X = np.reshape(X, (X.shape[0], X.shape[1], 1))\n",
        "    y = np.array(labels)\n",
        "    return X, y"
      ],
      "metadata": {
        "id": "0TVCJgVMlLGl"
      },
      "execution_count": null,
      "outputs": []
    },
    {
      "cell_type": "code",
      "source": [
        "def cross_validate(model, X, y, n_splits = 5) :\n",
        "    kf = KFold(n_splits = n_splits, shuffle = True)\n",
        "    accuracy_scores = []\n",
        "    auc_scores = []\n",
        "    for i, (train_index, test_index) in enumerate(kf.split(X)):\n",
        "        print(f\"Fold {i+1}/{n_splits}:\")\n",
        "\n",
        "        # Split into train and validation sets\n",
        "        X_train, X_val = X[train_index], X[test_index]\n",
        "        y_train, y_val = y[train_index], y[test_index]\n",
        "\n",
        "        # Augment training data\n",
        "        augmented_X = []\n",
        "        augmented_y = []\n",
        "        for i in range(len(X_train)) :\n",
        "            for j in (range(10)) :\n",
        "                transformed = transform(image=X_train[i])\n",
        "                augmented_X.append(transformed['image'])\n",
        "                augmented_y.append(y_train[i])\n",
        "\n",
        "        augmented_X = np.array(augmented_X)\n",
        "        augmented_y = np.array(augmented_y)\n",
        "        X_train = np.concatenate([X_train,augmented_X])\n",
        "        y_train = np.concatenate([y_train,augmented_y])\n",
        "\n",
        "        # Convert data into mediapipe points\n",
        "        X_train, y_train = convert_mediapipe(X_train, y_train)\n",
        "        X_val, y_val = convert_mediapipe(X_val, y_val)\n",
        "\n",
        "        # Train the model on the training data\n",
        "        model.fit(X_train, y_train, epochs = 10, batch_size = 32, verbose = 0)\n",
        "\n",
        "        # Evaluate the model on the test data\n",
        "        y_pred = model.predict(X_val)\n",
        "        y_pred = np.argmax(y_pred, axis = 1)\n",
        "        y_val = np.argmax(y_val, axis = 1)\n",
        "        accuracy_scores.append(accuracy_score(y_val, y_pred.round()))\n",
        "\n",
        "        print(f\"  Validation accuracy: {accuracy_scores[-1]:.3f}\")\n",
        "\n",
        "    # Compute the mean accuracy and AUC ROC across all folds\n",
        "    mean_accuracy = np.mean(accuracy_scores)\n",
        "\n",
        "    print(f\"\\nMean cross-validation accuracy: {mean_accuracy:.3f}\")\n",
        "\n",
        "    return mean_accuracy\n"
      ],
      "metadata": {
        "id": "QZeh7cPvlNBa"
      },
      "execution_count": null,
      "outputs": []
    },
    {
      "cell_type": "code",
      "source": [
        "cross_validate(CNN_model, X, y)"
      ],
      "metadata": {
        "colab": {
          "base_uri": "https://localhost:8080/"
        },
        "id": "aYTaxRSHmTo5",
        "outputId": "a5adccfd-aa14-44b9-9daa-dad3e48e2aa0"
      },
      "execution_count": null,
      "outputs": [
        {
          "output_type": "stream",
          "name": "stdout",
          "text": [
            "Fold 1/5:\n"
          ]
        },
        {
          "output_type": "stream",
          "name": "stderr",
          "text": [
            "100%|██████████| 7183/7183 [08:42<00:00, 13.75it/s]\n",
            "100%|██████████| 164/164 [00:13<00:00, 11.78it/s]\n"
          ]
        },
        {
          "output_type": "stream",
          "name": "stdout",
          "text": [
            "2/2 [==============================] - 1s 582ms/step\n",
            "  Validation accuracy: 0.667\n",
            "Fold 2/5:\n"
          ]
        },
        {
          "output_type": "stream",
          "name": "stderr",
          "text": [
            "100%|██████████| 7183/7183 [08:56<00:00, 13.39it/s]\n",
            "100%|██████████| 164/164 [00:14<00:00, 11.70it/s]\n"
          ]
        },
        {
          "output_type": "stream",
          "name": "stdout",
          "text": [
            "2/2 [==============================] - 0s 396ms/step\n",
            "  Validation accuracy: 0.745\n",
            "Fold 3/5:\n"
          ]
        },
        {
          "output_type": "stream",
          "name": "stderr",
          "text": [
            "100%|██████████| 7194/7194 [09:01<00:00, 13.29it/s]\n",
            "100%|██████████| 163/163 [00:10<00:00, 15.83it/s]\n"
          ]
        },
        {
          "output_type": "stream",
          "name": "stdout",
          "text": [
            "2/2 [==============================] - 0s 429ms/step\n",
            "  Validation accuracy: 0.907\n",
            "Fold 4/5:\n"
          ]
        },
        {
          "output_type": "stream",
          "name": "stderr",
          "text": [
            "100%|██████████| 7194/7194 [09:00<00:00, 13.32it/s]\n",
            "100%|██████████| 163/163 [00:12<00:00, 12.98it/s]\n"
          ]
        },
        {
          "output_type": "stream",
          "name": "stdout",
          "text": [
            "2/2 [==============================] - 1s 657ms/step\n",
            "  Validation accuracy: 0.750\n",
            "Fold 5/5:\n"
          ]
        },
        {
          "output_type": "stream",
          "name": "stderr",
          "text": [
            "100%|██████████| 7194/7194 [08:54<00:00, 13.47it/s]\n",
            "100%|██████████| 163/163 [00:13<00:00, 12.21it/s]\n"
          ]
        },
        {
          "output_type": "stream",
          "name": "stdout",
          "text": [
            "2/2 [==============================] - 0s 292ms/step\n",
            "  Validation accuracy: 0.959\n",
            "\n",
            "Mean cross-validation accuracy: 0.806\n"
          ]
        },
        {
          "output_type": "execute_result",
          "data": {
            "text/plain": [
              "0.8055877197214583"
            ]
          },
          "metadata": {},
          "execution_count": 29
        }
      ]
    }
  ],
  "metadata": {
    "accelerator": "GPU",
    "colab": {
      "provenance": []
    },
    "gpuClass": "standard",
    "kernelspec": {
      "display_name": "Python 3",
      "name": "python3"
    },
    "language_info": {
      "name": "python"
    }
  },
  "nbformat": 4,
  "nbformat_minor": 0
}