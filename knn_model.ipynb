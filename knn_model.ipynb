{
  "nbformat": 4,
  "nbformat_minor": 0,
  "metadata": {
    "colab": {
      "provenance": [],
      "authorship_tag": "ABX9TyNguIHu65i8tUv+Fc6Uof4z",
      "include_colab_link": true
    },
    "kernelspec": {
      "name": "python3",
      "display_name": "Python 3"
    },
    "language_info": {
      "name": "python"
    },
    "gpuClass": "standard"
  },
  "cells": [
    {
      "cell_type": "markdown",
      "metadata": {
        "id": "view-in-github",
        "colab_type": "text"
      },
      "source": [
        "<a href=\"https://colab.research.google.com/github/wongzw/IS4242_Group_4/blob/4-knn-model/knn_model.ipynb\" target=\"_parent\"><img src=\"https://colab.research.google.com/assets/colab-badge.svg\" alt=\"Open In Colab\"/></a>"
      ]
    },
    {
      "cell_type": "code",
      "execution_count": null,
      "metadata": {
        "colab": {
          "base_uri": "https://localhost:8080/"
        },
        "id": "YY-UBM_LSo4k",
        "outputId": "c9df7b2f-b76e-4bef-cf45-55619ebf5289"
      },
      "outputs": [
        {
          "output_type": "stream",
          "name": "stdout",
          "text": [
            "Looking in indexes: https://pypi.org/simple, https://us-python.pkg.dev/colab-wheels/public/simple/\n",
            "Collecting mediapipe\n",
            "  Downloading mediapipe-0.9.2.1-cp39-cp39-manylinux_2_17_x86_64.manylinux2014_x86_64.whl (33.6 MB)\n",
            "\u001b[2K     \u001b[90m━━━━━━━━━━━━━━━━━━━━━━━━━━━━━━━━━━━━━━━━\u001b[0m \u001b[32m33.6/33.6 MB\u001b[0m \u001b[31m53.5 MB/s\u001b[0m eta \u001b[36m0:00:00\u001b[0m\n",
            "\u001b[?25hRequirement already satisfied: attrs>=19.1.0 in /usr/local/lib/python3.9/dist-packages (from mediapipe) (22.2.0)\n",
            "Requirement already satisfied: flatbuffers>=2.0 in /usr/local/lib/python3.9/dist-packages (from mediapipe) (23.3.3)\n",
            "Requirement already satisfied: opencv-contrib-python in /usr/local/lib/python3.9/dist-packages (from mediapipe) (4.7.0.72)\n",
            "Requirement already satisfied: protobuf<4,>=3.11 in /usr/local/lib/python3.9/dist-packages (from mediapipe) (3.20.3)\n",
            "Requirement already satisfied: matplotlib in /usr/local/lib/python3.9/dist-packages (from mediapipe) (3.7.1)\n",
            "Requirement already satisfied: absl-py in /usr/local/lib/python3.9/dist-packages (from mediapipe) (1.4.0)\n",
            "Requirement already satisfied: numpy in /usr/local/lib/python3.9/dist-packages (from mediapipe) (1.22.4)\n",
            "Requirement already satisfied: packaging>=20.0 in /usr/local/lib/python3.9/dist-packages (from matplotlib->mediapipe) (23.0)\n",
            "Requirement already satisfied: cycler>=0.10 in /usr/local/lib/python3.9/dist-packages (from matplotlib->mediapipe) (0.11.0)\n",
            "Requirement already satisfied: python-dateutil>=2.7 in /usr/local/lib/python3.9/dist-packages (from matplotlib->mediapipe) (2.8.2)\n",
            "Requirement already satisfied: pyparsing>=2.3.1 in /usr/local/lib/python3.9/dist-packages (from matplotlib->mediapipe) (3.0.9)\n",
            "Requirement already satisfied: contourpy>=1.0.1 in /usr/local/lib/python3.9/dist-packages (from matplotlib->mediapipe) (1.0.7)\n",
            "Requirement already satisfied: importlib-resources>=3.2.0 in /usr/local/lib/python3.9/dist-packages (from matplotlib->mediapipe) (5.12.0)\n",
            "Requirement already satisfied: fonttools>=4.22.0 in /usr/local/lib/python3.9/dist-packages (from matplotlib->mediapipe) (4.39.3)\n",
            "Requirement already satisfied: pillow>=6.2.0 in /usr/local/lib/python3.9/dist-packages (from matplotlib->mediapipe) (8.4.0)\n",
            "Requirement already satisfied: kiwisolver>=1.0.1 in /usr/local/lib/python3.9/dist-packages (from matplotlib->mediapipe) (1.4.4)\n",
            "Requirement already satisfied: zipp>=3.1.0 in /usr/local/lib/python3.9/dist-packages (from importlib-resources>=3.2.0->matplotlib->mediapipe) (3.15.0)\n",
            "Requirement already satisfied: six>=1.5 in /usr/local/lib/python3.9/dist-packages (from python-dateutil>=2.7->matplotlib->mediapipe) (1.16.0)\n",
            "Installing collected packages: mediapipe\n",
            "Successfully installed mediapipe-0.9.2.1\n",
            "Mounted at /content/drive\n"
          ]
        }
      ],
      "source": [
        "import pickle\n",
        "import joblib\n",
        "import cv2\n",
        "import os\n",
        "import re\n",
        "import numpy as np\n",
        "from sklearn.preprocessing import StandardScaler\n",
        "from sklearn.model_selection import KFold\n",
        "from sklearn.model_selection import cross_val_predict\n",
        "from sklearn.model_selection import train_test_split\n",
        "from sklearn.model_selection import GridSearchCV\n",
        "from sklearn.neighbors import KNeighborsClassifier\n",
        "from sklearn.metrics import classification_report, accuracy_score\n",
        "from sklearn.metrics import roc_auc_score\n",
        "from google.colab import drive\n",
        "from tqdm import tqdm\n",
        "from PIL import Image\n",
        "\n",
        "!pip install mediapipe\n",
        "\n",
        "import tensorflow as tf\n",
        "import mediapipe as mp\n",
        "\n",
        "\n",
        "from google.colab import drive\n",
        "drive.mount('/content/drive', force_remount = True)"
      ]
    },
    {
      "cell_type": "markdown",
      "source": [
        "### Attempt without Mediapipe"
      ],
      "metadata": {
        "id": "vgHaXYtgS_-H"
      }
    },
    {
      "cell_type": "markdown",
      "source": [
        "Load and convert into a 2d arrary image"
      ],
      "metadata": {
        "id": "Qfy8HC-nTHsm"
      }
    },
    {
      "cell_type": "code",
      "source": [
        "folder_name = f\"/content/drive/MyDrive/4. NUS/Studies/Y4S2/IS4242/IS4242/data\" # Update with Folder Details"
      ],
      "metadata": {
        "id": "zej5oNPoTNZY"
      },
      "execution_count": null,
      "outputs": []
    },
    {
      "cell_type": "code",
      "source": [
        "image_paths = os.listdir(folder_name)\n",
        "img_list = []\n",
        "label_list = []\n",
        "txt = 'abcdefghiklmnopqrstuvwxy'\n",
        "\n",
        "for i in tqdm(range(len(os.listdir(folder_name)))):\n",
        "  filename = os.listdir(folder_name)[i]\n",
        "  if filename.endswith(('.jpg','.png')):\n",
        "      label_name = re.split(r'[-_]', filename)[0].lower()\n",
        "      if label_name not in txt:\n",
        "        continue\n",
        "      label_list.append(label_name)\n",
        "      img = Image.open(os.path.join(folder_name, filename))\n",
        "      img = img.resize((28, 28), Image.ANTIALIAS)\n",
        "      img = img.convert('L')\n",
        "      img_array = np.array(img)\n",
        "      \n",
        "      img_list.append(img_array)\n"
      ],
      "metadata": {
        "colab": {
          "base_uri": "https://localhost:8080/"
        },
        "id": "8zHY3yzBS_A1",
        "outputId": "29438e7f-7e51-484d-c662-2ec6201da0f1"
      },
      "execution_count": null,
      "outputs": [
        {
          "output_type": "stream",
          "name": "stderr",
          "text": [
            "100%|██████████| 1221/1221 [02:48<00:00,  7.24it/s]\n"
          ]
        }
      ]
    },
    {
      "cell_type": "markdown",
      "source": [
        "#### Train-Test Split"
      ],
      "metadata": {
        "id": "DsljEt1ZTS8z"
      }
    },
    {
      "cell_type": "markdown",
      "source": [
        "*Called in case where X and Y already pickled*"
      ],
      "metadata": {
        "id": "5Iyx-HPaHi_O"
      }
    },
    {
      "cell_type": "code",
      "source": [
        "output_dir = f\"/content/drive/MyDrive/4. NUS/Studies/Y4S2/IS4242/IS4242/dump/\"\n",
        "X = joblib.load(output_dir+'X_knn.pkl')\n",
        "y = joblib.load(output_dir+'y_knn.pkl')\n",
        "X_train, X_test, y_train, y_test = train_test_split(X, y, test_size=0.2, random_state=42, stratify = y)"
      ],
      "metadata": {
        "id": "tJSSo06tHLwz"
      },
      "execution_count": null,
      "outputs": []
    },
    {
      "cell_type": "code",
      "source": [
        "X = np.array(img_list)\n",
        "y = np.array(label_list)\n",
        "\n",
        "X_train, X_test, y_train, y_test = train_test_split(X, y, test_size=0.2, random_state=42, stratify = y)"
      ],
      "metadata": {
        "id": "Awooish-TVJr"
      },
      "execution_count": null,
      "outputs": []
    },
    {
      "cell_type": "code",
      "source": [
        "output_dir = f\"/content/drive/MyDrive/4. NUS/Studies/Y4S2/IS4242/IS4242/dump/\"\n",
        "\n",
        "joblib.dump(X, output_dir+'X_knn.pkl')\n",
        "joblib.dump(y, output_dir+'y_knn.pkl')"
      ],
      "metadata": {
        "colab": {
          "base_uri": "https://localhost:8080/"
        },
        "id": "b_UoeV_jTXKX",
        "outputId": "742bd980-3a61-48c2-cc63-cef6b5328316"
      },
      "execution_count": null,
      "outputs": [
        {
          "output_type": "execute_result",
          "data": {
            "text/plain": [
              "['/content/drive/MyDrive/4. NUS/Studies/Y4S2/IS4242/IS4242/dump/y_knn.pkl']"
            ]
          },
          "metadata": {},
          "execution_count": 4
        }
      ]
    },
    {
      "cell_type": "markdown",
      "source": [
        "#### Data Augmentation on Training Data"
      ],
      "metadata": {
        "id": "17lTNNhATl2m"
      }
    },
    {
      "cell_type": "code",
      "source": [
        "import albumentations as A\n",
        "\n",
        "transform = A.Compose([\n",
        "    A.RandomBrightnessContrast(),\n",
        "    A.Affine(scale=[0.8,1.2],translate_percent=0.05, shear=0.2, keep_ratio=True, p=0.5),\n",
        "    A.Rotate(limit=10)\n",
        "])"
      ],
      "metadata": {
        "id": "cA9WQwq_To6i"
      },
      "execution_count": null,
      "outputs": []
    },
    {
      "cell_type": "code",
      "source": [
        "augmented_X = []\n",
        "augmented_y = []\n",
        "for i in range(len(X_train)):\n",
        "  for j in (range(10)):\n",
        "      transformed = transform(image=X_train[i])\n",
        "      augmented_X.append(transformed['image'])\n",
        "      augmented_y.append(y_train[i])\n",
        "\n",
        "augmented_X = np.array(augmented_X)\n",
        "augmented_y = np.array(augmented_y)\n",
        "X_train = np.concatenate([X_train,augmented_X])\n",
        "y_train = np.concatenate([y_train,augmented_y])\n",
        "\n",
        "output_dir = f\"/content/drive/MyDrive/4. NUS/Studies/Y4S2/IS4242/IS4242/dump/\"\n",
        "joblib.dump(augmented_X, output_dir+'knn_augmented_X.pkl')\n",
        "joblib.dump(augmented_y, output_dir+'knn_augmented_y.pkl')"
      ],
      "metadata": {
        "colab": {
          "base_uri": "https://localhost:8080/"
        },
        "id": "FqqY81-pTtR5",
        "outputId": "505e0cdf-589b-471c-9fa7-ec125d230314"
      },
      "execution_count": null,
      "outputs": [
        {
          "output_type": "execute_result",
          "data": {
            "text/plain": [
              "['/content/drive/MyDrive/4. NUS/Studies/Y4S2/IS4242/IS4242/dump/knn_augmented_y.pkl']"
            ]
          },
          "metadata": {},
          "execution_count": 39
        }
      ]
    },
    {
      "cell_type": "code",
      "source": [
        "print(X_train.shape)\n",
        "print(y_train.shape)"
      ],
      "metadata": {
        "colab": {
          "base_uri": "https://localhost:8080/"
        },
        "id": "5mhtTBlVT3DJ",
        "outputId": "f866a525-db3f-4858-bdf4-e28d853fb4d3"
      },
      "execution_count": null,
      "outputs": [
        {
          "output_type": "stream",
          "name": "stdout",
          "text": [
            "(7183, 28, 28)\n",
            "(7183,)\n"
          ]
        }
      ]
    },
    {
      "cell_type": "markdown",
      "source": [
        "Data Preprocessing"
      ],
      "metadata": {
        "id": "MG2jgGjST8ok"
      }
    },
    {
      "cell_type": "code",
      "source": [
        "X_train = X_train/255.0\n",
        "X_test = X_test/255.0"
      ],
      "metadata": {
        "id": "zv7IXt8XYDVI"
      },
      "execution_count": null,
      "outputs": []
    },
    {
      "cell_type": "code",
      "source": [
        "X_train = X_train.reshape(X_train.shape[0], 784)\n",
        "X_test = X_test.reshape(X_test.shape[0], 784)\n",
        "\n",
        "print(X_train.shape)\n",
        "print(X_test.shape)\n",
        "print(y_train.shape)\n",
        "print(y_test.shape)"
      ],
      "metadata": {
        "colab": {
          "base_uri": "https://localhost:8080/"
        },
        "id": "2PwfZ3AfT_TH",
        "outputId": "16993021-2d83-438f-ea0d-19de58498dcd"
      },
      "execution_count": null,
      "outputs": [
        {
          "output_type": "stream",
          "name": "stdout",
          "text": [
            "(7183, 784)\n",
            "(164, 784)\n",
            "(7183,)\n",
            "(164,)\n"
          ]
        }
      ]
    },
    {
      "cell_type": "code",
      "source": [
        "output_dir = f\"/content/drive/MyDrive/4. NUS/Studies/Y4S2/IS4242/IS4242/dump/\"\n",
        "joblib.dump(X_train, output_dir+'knn_final_X_train.pkl')\n",
        "joblib.dump(X_test, output_dir+'knn_final_X_test.pkl')\n",
        "joblib.dump(y_train, output_dir+'knn_final_y_train.pkl')\n",
        "joblib.dump(y_test, output_dir+'knn_final_y_test.pkl')"
      ],
      "metadata": {
        "colab": {
          "base_uri": "https://localhost:8080/"
        },
        "id": "oPkNTgbSHwBB",
        "outputId": "8485c16f-5a71-4a42-f46f-961f1072bfaa"
      },
      "execution_count": null,
      "outputs": [
        {
          "output_type": "execute_result",
          "data": {
            "text/plain": [
              "['/content/drive/MyDrive/4. NUS/Studies/Y4S2/IS4242/IS4242/dump/knn_final_y_test.pkl']"
            ]
          },
          "metadata": {},
          "execution_count": 10
        }
      ]
    },
    {
      "cell_type": "markdown",
      "source": [
        "#### Model Training and Testing"
      ],
      "metadata": {
        "id": "TLKwILFwYILB"
      }
    },
    {
      "cell_type": "code",
      "source": [
        "k = 3 # Choose the number of neighbors\n",
        "classifier = KNeighborsClassifier(n_neighbors=k)\n",
        "classifier.fit(X_train, y_train)\n",
        "\n",
        "joblib.dump(classifier, output_dir+'knn_model.joblib')"
      ],
      "metadata": {
        "colab": {
          "base_uri": "https://localhost:8080/"
        },
        "id": "YlBz_mgaYJky",
        "outputId": "8484631c-ae55-484f-90ec-99c54e3407c7"
      },
      "execution_count": null,
      "outputs": [
        {
          "output_type": "execute_result",
          "data": {
            "text/plain": [
              "['/content/drive/MyDrive/4. NUS/Studies/Y4S2/IS4242/IS4242/dump/knn_model.joblib']"
            ]
          },
          "metadata": {},
          "execution_count": 42
        }
      ]
    },
    {
      "cell_type": "code",
      "source": [
        "y_pred = classifier.predict(X_test)\n",
        "accuracy = accuracy_score(y_test, y_pred)\n",
        "print(\"Accuracy:\", accuracy)\n",
        "\n",
        "classifiction_report = classification_report(y_test, y_pred)\n",
        "print(\"Classification Report:\", classifiction_report)"
      ],
      "metadata": {
        "colab": {
          "base_uri": "https://localhost:8080/"
        },
        "id": "mFDN1mPWYWNY",
        "outputId": "1286689d-f81e-4370-d033-a60df75e583b"
      },
      "execution_count": null,
      "outputs": [
        {
          "output_type": "stream",
          "name": "stdout",
          "text": [
            "Accuracy: 0.09146341463414634\n",
            "Classification Report:               precision    recall  f1-score   support\n",
            "\n",
            "           a       0.08      0.14      0.11         7\n",
            "           b       0.00      0.00      0.00         6\n",
            "           c       0.00      0.00      0.00         6\n",
            "           d       0.00      0.00      0.00         6\n",
            "           e       0.17      0.14      0.15         7\n",
            "           f       0.00      0.00      0.00         6\n",
            "           g       0.00      0.00      0.00         6\n",
            "           h       0.00      0.00      0.00         7\n",
            "           i       0.00      0.00      0.00         6\n",
            "           k       0.33      0.17      0.22         6\n",
            "           l       0.00      0.00      0.00         6\n",
            "           m       0.00      0.00      0.00         6\n",
            "           n       0.00      0.00      0.00         7\n",
            "           o       0.00      0.00      0.00         6\n",
            "           p       0.00      0.00      0.00         6\n",
            "           q       0.00      0.00      0.00         6\n",
            "           r       0.00      0.00      0.00         8\n",
            "           s       0.20      0.38      0.26         8\n",
            "           t       0.10      0.12      0.11         8\n",
            "           u       0.09      0.12      0.11         8\n",
            "           v       0.33      0.25      0.29         8\n",
            "           w       0.29      0.25      0.27         8\n",
            "           x       0.20      0.12      0.15         8\n",
            "           y       0.50      0.25      0.33         8\n",
            "\n",
            "    accuracy                           0.09       164\n",
            "   macro avg       0.10      0.08      0.08       164\n",
            "weighted avg       0.11      0.09      0.09       164\n",
            "\n"
          ]
        }
      ]
    },
    {
      "cell_type": "code",
      "source": [
        "y_score = classifier.predict_proba(X_test)\n",
        "micro_roc_auc_roc = roc_auc_score(\n",
        "    y_test,\n",
        "    y_score,\n",
        "    multi_class=\"ovr\",\n",
        "    average=\"micro\",\n",
        ")\n",
        "\n",
        "print(f\"Micro-averaged One-vs-Rest ROC AUC score:\\n{micro_roc_auc_roc}\")\n",
        "\n",
        "\n",
        "macro_roc_auc_ovr_tuned = roc_auc_score(\n",
        "    y_test,\n",
        "    y_score,\n",
        "    multi_class=\"ovr\",\n",
        "    average=\"macro\",\n",
        ")\n",
        "\n",
        "print(f\"Macro-averaged One-vs-Rest ROC AUC score:\\n{macro_roc_auc_ovr_tuned}\")"
      ],
      "metadata": {
        "colab": {
          "base_uri": "https://localhost:8080/"
        },
        "id": "p_e0RAECYXlw",
        "outputId": "c61e0ba5-c7d6-4f97-de1c-b883eeb299cc"
      },
      "execution_count": null,
      "outputs": [
        {
          "output_type": "stream",
          "name": "stdout",
          "text": [
            "Micro-averaged One-vs-Rest ROC AUC score:\n",
            "0.5198130318392262\n",
            "Macro-averaged One-vs-Rest ROC AUC score:\n",
            "0.5146816105401604\n"
          ]
        }
      ]
    },
    {
      "cell_type": "markdown",
      "source": [
        "#### Hyperparameter Tuning"
      ],
      "metadata": {
        "id": "zvxSfdymVJ5Y"
      }
    },
    {
      "cell_type": "code",
      "source": [
        "import multiprocessing\n",
        "grid_params = {'n_neighbors': [3, 5, 7],\n",
        "               'weights': ['uniform', 'distance'],\n",
        "               'algorithm':['kd_tree', 'auto'],\n",
        "               'p': [1, 2],\n",
        "               'metric' : ['minkowski','euclidean','manhattan']}\n",
        "\n",
        "gs = GridSearchCV(KNeighborsClassifier(), grid_params,scoring='accuracy', verbose = 3, cv=3, n_jobs = -1)"
      ],
      "metadata": {
        "id": "378yb3v0YjTn"
      },
      "execution_count": 45,
      "outputs": []
    },
    {
      "cell_type": "code",
      "source": [
        "g_res = gs.fit(X_train, y_train)"
      ],
      "metadata": {
        "colab": {
          "base_uri": "https://localhost:8080/"
        },
        "id": "10-dNrJDY1uk",
        "outputId": "d8227f00-61c4-45e4-f837-1307fc6c53c7"
      },
      "execution_count": null,
      "outputs": [
        {
          "output_type": "stream",
          "name": "stdout",
          "text": [
            "Fitting 3 folds for each of 72 candidates, totalling 216 fits\n"
          ]
        }
      ]
    },
    {
      "cell_type": "code",
      "source": [
        "print(g_res.best_score_)\n",
        "print(g_res.best_params_)"
      ],
      "metadata": {
        "colab": {
          "base_uri": "https://localhost:8080/"
        },
        "id": "Es5hyzZ5Y3s9",
        "outputId": "a33ce456-6cae-4c6b-9d07-ec6585ea5407"
      },
      "execution_count": null,
      "outputs": [
        {
          "output_type": "stream",
          "name": "stdout",
          "text": [
            "0.3423476343375256\n",
            "{'algorithm': 'kd_tree', 'metric': 'minkowski', 'n_neighbors': 3, 'p': 2, 'weights': 'distance'}\n"
          ]
        }
      ]
    },
    {
      "cell_type": "markdown",
      "source": [
        "Evaluating Tunned Model"
      ],
      "metadata": {
        "id": "PpqBstP9Y4qr"
      }
    },
    {
      "cell_type": "code",
      "source": [
        "knn_tuned = KNeighborsClassifier(n_neighbors = g_res.best_params_['n_neighbors'], weights = g_res.best_params_['weights'],algorithm = g_res.best_params_['algorithm'],metric = g_res.best_params_['metric'],p = g_res.best_params_['p'])\n",
        "knn_tuned.fit(X_train, y_train)"
      ],
      "metadata": {
        "colab": {
          "base_uri": "https://localhost:8080/",
          "height": 75
        },
        "id": "bSxMdJPqY_CS",
        "outputId": "3eaaa377-95fe-4553-c05f-fe611a2b42cf"
      },
      "execution_count": null,
      "outputs": [
        {
          "output_type": "execute_result",
          "data": {
            "text/plain": [
              "KNeighborsClassifier(algorithm='kd_tree', n_neighbors=3, weights='distance')"
            ],
            "text/html": [
              "<style>#sk-container-id-2 {color: black;background-color: white;}#sk-container-id-2 pre{padding: 0;}#sk-container-id-2 div.sk-toggleable {background-color: white;}#sk-container-id-2 label.sk-toggleable__label {cursor: pointer;display: block;width: 100%;margin-bottom: 0;padding: 0.3em;box-sizing: border-box;text-align: center;}#sk-container-id-2 label.sk-toggleable__label-arrow:before {content: \"▸\";float: left;margin-right: 0.25em;color: #696969;}#sk-container-id-2 label.sk-toggleable__label-arrow:hover:before {color: black;}#sk-container-id-2 div.sk-estimator:hover label.sk-toggleable__label-arrow:before {color: black;}#sk-container-id-2 div.sk-toggleable__content {max-height: 0;max-width: 0;overflow: hidden;text-align: left;background-color: #f0f8ff;}#sk-container-id-2 div.sk-toggleable__content pre {margin: 0.2em;color: black;border-radius: 0.25em;background-color: #f0f8ff;}#sk-container-id-2 input.sk-toggleable__control:checked~div.sk-toggleable__content {max-height: 200px;max-width: 100%;overflow: auto;}#sk-container-id-2 input.sk-toggleable__control:checked~label.sk-toggleable__label-arrow:before {content: \"▾\";}#sk-container-id-2 div.sk-estimator input.sk-toggleable__control:checked~label.sk-toggleable__label {background-color: #d4ebff;}#sk-container-id-2 div.sk-label input.sk-toggleable__control:checked~label.sk-toggleable__label {background-color: #d4ebff;}#sk-container-id-2 input.sk-hidden--visually {border: 0;clip: rect(1px 1px 1px 1px);clip: rect(1px, 1px, 1px, 1px);height: 1px;margin: -1px;overflow: hidden;padding: 0;position: absolute;width: 1px;}#sk-container-id-2 div.sk-estimator {font-family: monospace;background-color: #f0f8ff;border: 1px dotted black;border-radius: 0.25em;box-sizing: border-box;margin-bottom: 0.5em;}#sk-container-id-2 div.sk-estimator:hover {background-color: #d4ebff;}#sk-container-id-2 div.sk-parallel-item::after {content: \"\";width: 100%;border-bottom: 1px solid gray;flex-grow: 1;}#sk-container-id-2 div.sk-label:hover label.sk-toggleable__label {background-color: #d4ebff;}#sk-container-id-2 div.sk-serial::before {content: \"\";position: absolute;border-left: 1px solid gray;box-sizing: border-box;top: 0;bottom: 0;left: 50%;z-index: 0;}#sk-container-id-2 div.sk-serial {display: flex;flex-direction: column;align-items: center;background-color: white;padding-right: 0.2em;padding-left: 0.2em;position: relative;}#sk-container-id-2 div.sk-item {position: relative;z-index: 1;}#sk-container-id-2 div.sk-parallel {display: flex;align-items: stretch;justify-content: center;background-color: white;position: relative;}#sk-container-id-2 div.sk-item::before, #sk-container-id-2 div.sk-parallel-item::before {content: \"\";position: absolute;border-left: 1px solid gray;box-sizing: border-box;top: 0;bottom: 0;left: 50%;z-index: -1;}#sk-container-id-2 div.sk-parallel-item {display: flex;flex-direction: column;z-index: 1;position: relative;background-color: white;}#sk-container-id-2 div.sk-parallel-item:first-child::after {align-self: flex-end;width: 50%;}#sk-container-id-2 div.sk-parallel-item:last-child::after {align-self: flex-start;width: 50%;}#sk-container-id-2 div.sk-parallel-item:only-child::after {width: 0;}#sk-container-id-2 div.sk-dashed-wrapped {border: 1px dashed gray;margin: 0 0.4em 0.5em 0.4em;box-sizing: border-box;padding-bottom: 0.4em;background-color: white;}#sk-container-id-2 div.sk-label label {font-family: monospace;font-weight: bold;display: inline-block;line-height: 1.2em;}#sk-container-id-2 div.sk-label-container {text-align: center;}#sk-container-id-2 div.sk-container {/* jupyter's `normalize.less` sets `[hidden] { display: none; }` but bootstrap.min.css set `[hidden] { display: none !important; }` so we also need the `!important` here to be able to override the default hidden behavior on the sphinx rendered scikit-learn.org. See: https://github.com/scikit-learn/scikit-learn/issues/21755 */display: inline-block !important;position: relative;}#sk-container-id-2 div.sk-text-repr-fallback {display: none;}</style><div id=\"sk-container-id-2\" class=\"sk-top-container\"><div class=\"sk-text-repr-fallback\"><pre>KNeighborsClassifier(algorithm=&#x27;kd_tree&#x27;, n_neighbors=3, weights=&#x27;distance&#x27;)</pre><b>In a Jupyter environment, please rerun this cell to show the HTML representation or trust the notebook. <br />On GitHub, the HTML representation is unable to render, please try loading this page with nbviewer.org.</b></div><div class=\"sk-container\" hidden><div class=\"sk-item\"><div class=\"sk-estimator sk-toggleable\"><input class=\"sk-toggleable__control sk-hidden--visually\" id=\"sk-estimator-id-2\" type=\"checkbox\" checked><label for=\"sk-estimator-id-2\" class=\"sk-toggleable__label sk-toggleable__label-arrow\">KNeighborsClassifier</label><div class=\"sk-toggleable__content\"><pre>KNeighborsClassifier(algorithm=&#x27;kd_tree&#x27;, n_neighbors=3, weights=&#x27;distance&#x27;)</pre></div></div></div></div></div>"
            ]
          },
          "metadata": {},
          "execution_count": 30
        }
      ]
    },
    {
      "cell_type": "code",
      "source": [
        "joblib.dump(knn_tuned, output_dir+'knn_model_tuned.joblib')"
      ],
      "metadata": {
        "colab": {
          "base_uri": "https://localhost:8080/"
        },
        "id": "fDzokKTAerp4",
        "outputId": "f10de3ad-d5b9-471d-ac59-6e256b00a156"
      },
      "execution_count": null,
      "outputs": [
        {
          "output_type": "execute_result",
          "data": {
            "text/plain": [
              "['/content/drive/MyDrive/4. NUS/Studies/Y4S2/IS4242/IS4242/dump/knn_model_tuned.joblib']"
            ]
          },
          "metadata": {},
          "execution_count": 31
        }
      ]
    },
    {
      "cell_type": "code",
      "source": [
        "y_pred_tuned = knn_tuned.predict(X_test)\n",
        "print(classification_report(y_test, y_pred_tuned))\n",
        "print(f\"Accuracy Score: {accuracy_score(y_test, y_pred_tuned)}\")"
      ],
      "metadata": {
        "colab": {
          "base_uri": "https://localhost:8080/"
        },
        "id": "-7hEOdQeZCLH",
        "outputId": "4f2d5e5b-5a65-4890-cc2d-aca1e465e8f3"
      },
      "execution_count": null,
      "outputs": [
        {
          "output_type": "stream",
          "name": "stdout",
          "text": [
            "              precision    recall  f1-score   support\n",
            "\n",
            "           a       0.12      0.14      0.13         7\n",
            "           b       0.00      0.00      0.00         6\n",
            "           c       0.00      0.00      0.00         6\n",
            "           d       0.11      0.17      0.13         6\n",
            "           e       0.00      0.00      0.00         7\n",
            "           f       0.00      0.00      0.00         6\n",
            "           g       0.00      0.00      0.00         6\n",
            "           h       0.00      0.00      0.00         7\n",
            "           i       0.00      0.00      0.00         6\n",
            "           k       0.12      0.17      0.14         6\n",
            "           l       0.00      0.00      0.00         6\n",
            "           m       0.00      0.00      0.00         6\n",
            "           n       0.00      0.00      0.00         7\n",
            "           o       0.00      0.00      0.00         6\n",
            "           p       0.00      0.00      0.00         6\n",
            "           q       0.00      0.00      0.00         6\n",
            "           r       0.00      0.00      0.00         8\n",
            "           s       0.21      0.38      0.27         8\n",
            "           t       0.10      0.12      0.11         8\n",
            "           u       0.08      0.12      0.10         8\n",
            "           v       0.33      0.25      0.29         8\n",
            "           w       0.40      0.25      0.31         8\n",
            "           x       0.12      0.12      0.12         8\n",
            "           y       0.40      0.25      0.31         8\n",
            "\n",
            "    accuracy                           0.09       164\n",
            "   macro avg       0.08      0.08      0.08       164\n",
            "weighted avg       0.09      0.09      0.09       164\n",
            "\n",
            "Accuracy Score: 0.09146341463414634\n"
          ]
        }
      ]
    },
    {
      "cell_type": "code",
      "source": [
        "y_score_tuned = knn_tuned.predict_proba(X_test)\n",
        "micro_roc_auc_ovr_tuned = roc_auc_score(\n",
        "    y_test,\n",
        "    y_score_tuned,\n",
        "    multi_class=\"ovr\",\n",
        "    average=\"micro\",\n",
        ")\n",
        "\n",
        "print(f\"Micro-averaged One-vs-Rest ROC AUC score:\\n{micro_roc_auc_ovr_tuned:.2f}\")\n",
        "\n",
        "\n",
        "macro_roc_auc_ovr_tuned = roc_auc_score(\n",
        "    y_test,\n",
        "    y_score_tuned,\n",
        "    multi_class=\"ovr\",\n",
        "    average=\"macro\",\n",
        ")\n",
        "\n",
        "print(f\"Macro-averaged One-vs-Rest ROC AUC score:\\n{macro_roc_auc_ovr_tuned:.2f}\")"
      ],
      "metadata": {
        "colab": {
          "base_uri": "https://localhost:8080/"
        },
        "id": "oieS4sx3ZK9x",
        "outputId": "ceaa602e-56ab-4ca5-ec72-cadb75a152cb"
      },
      "execution_count": null,
      "outputs": [
        {
          "output_type": "stream",
          "name": "stdout",
          "text": [
            "Micro-averaged One-vs-Rest ROC AUC score:\n",
            "0.53\n",
            "Macro-averaged One-vs-Rest ROC AUC score:\n",
            "0.52\n"
          ]
        }
      ]
    }
  ]
}