{
  "nbformat": 4,
  "nbformat_minor": 0,
  "metadata": {
    "colab": {
      "provenance": [],
      "authorship_tag": "ABX9TyNBZ72x/YiUOZ3zLkKsfU96",
      "include_colab_link": true
    },
    "kernelspec": {
      "name": "python3",
      "display_name": "Python 3"
    },
    "language_info": {
      "name": "python"
    }
  },
  "cells": [
    {
      "cell_type": "markdown",
      "metadata": {
        "id": "view-in-github",
        "colab_type": "text"
      },
      "source": [
        "<a href=\"https://colab.research.google.com/github/wongzw/IS4242_Group_4/blob/2-greyscale-2d-matrix/ML_Pipeline.ipynb\" target=\"_parent\"><img src=\"https://colab.research.google.com/assets/colab-badge.svg\" alt=\"Open In Colab\"/></a>"
      ]
    },
    {
      "cell_type": "markdown",
      "source": [
        "Access Google Drive Folder to retrieve data"
      ],
      "metadata": {
        "id": "1ms0MmZ3yd7b"
      }
    },
    {
      "cell_type": "code",
      "execution_count": null,
      "metadata": {
        "colab": {
          "base_uri": "https://localhost:8080/"
        },
        "id": "QwMnjQIMyL_H",
        "outputId": "2fe761cb-ad79-48cb-e4a3-2169c2f3feb3"
      },
      "outputs": [
        {
          "output_type": "stream",
          "name": "stdout",
          "text": [
            "Mounted at /content/drive\n"
          ]
        }
      ],
      "source": [
        "import pandas as pd\n",
        "import numpy as np\n",
        "\n",
        "from google.colab import drive\n",
        "drive.mount('/content/drive', force_remount = True)\n",
        "folder_name = f\"/content/drive/MyDrive/4. NUS/Studies/Y4S2/IS4242/IS4242/data\""
      ]
    },
    {
      "cell_type": "markdown",
      "source": [
        "Convert image to Greyscale and nparray"
      ],
      "metadata": {
        "id": "9_spFzgLz2nR"
      }
    },
    {
      "cell_type": "code",
      "source": [
        "import os\n",
        "from PIL import Image\n",
        "from sklearn.model_selection import train_test_split\n",
        "from tqdm import tqdm\n",
        "import re\n",
        "\n",
        "path = folder_name\n",
        "img_list = []\n",
        "label_list = []\n",
        "\n",
        "for i in tqdm(range(len(os.listdir(path)))):\n",
        "  filename = os.listdir(path)[i]\n",
        "  if filename.endswith(('.jpg','.png')):\n",
        "      img = Image.open(os.path.join(path, filename))\n",
        "      img = img.resize((224, 224), Image.ANTIALIAS)\n",
        "      img = img.convert('L')\n",
        "      img_array = np.array(img)\n",
        "      \n",
        "      img_list.append(img_array)\n",
        "      label_name = re.split(r'[-_]', filename)[0]\n",
        "      label_list.append(label_name)\n",
        "\n",
        "X = np.array(img_list)\n",
        "\n",
        "y = np.array(label_list)\n",
        "\n",
        "X_train, X_test, y_train, y_test = train_test_split(X, y, test_size=0.2, random_state=42)\n",
        "\n",
        "print(X_train.shape)\n",
        "print(X_test.shape)\n",
        "print(y_train.shape)\n",
        "print(y_test.shape)\n",
        "print(f\"y_train \\n {y_train}\")\n",
        "print(f\"y_test \\n {y_test}\")"
      ],
      "metadata": {
        "colab": {
          "base_uri": "https://localhost:8080/"
        },
        "id": "hmjNzOyN0AdR",
        "outputId": "802647c4-72ea-47ec-b8aa-275bb9b4db49"
      },
      "execution_count": null,
      "outputs": [
        {
          "output_type": "stream",
          "name": "stderr",
          "text": [
            "100%|██████████| 1108/1108 [04:20<00:00,  4.26it/s]\n"
          ]
        },
        {
          "output_type": "stream",
          "name": "stdout",
          "text": [
            "(885, 224, 224)\n",
            "(222, 224, 224)\n",
            "(885,)\n",
            "(222,)\n",
            "y_train \n",
            " ['o' 'y' '1' 'v' 'x' '3' 'd' 'h' 'w' 'o' 'a' '9' '1' 'l' '4' 'x' 'u' 'j'\n",
            " 'w' 'p' '2' 'y' 't' '9' 'i' 'y' 'p' 'p' '5' 'u' 'g' 'z' '1' 'e' '3' 'r'\n",
            " '4' 's' '6' 'v' '8' 'p' 'w' '10' 'b' 'p' 'i' 'o' '7' 'v' 'g' 'p' '1' 'h'\n",
            " 'q' 'x' 'o' 'a' 'a' 'x' 'b' '6' 'd' 'r' '9' 'o' 'o' 'b' 'h' 'w' 'l' 'u'\n",
            " '8' 'j' 'z' 'j' '10' 'a' '6' '3' '10' 'n' 'r' 's' 'n' 'y' 'z' 'p' 'n' 'n'\n",
            " '10' '5' 'f' 's' 'f' 'g' 'g' 'h' 'j' 'r' '4' 'v' '9' 'v' '3' '5' 'z' 'p'\n",
            " 'y' 'p' 'h' 'a' '5' 'e' 'u' 'n' 'd' 'x' '3' 'r' 'q' 'c' 'h' '9' '2' '9'\n",
            " 'a' '4' 'h' '1' 'o' 'y' '5' '2' 'v' '10' '7' '9' 'g' 's' 'm' 'f' '2' 'l'\n",
            " 'k' 'g' 'i' 'x' '2' '5' 'q' '2' 'm' 'k' 'u' 'z' 'p' 'x' '9' 'v' 'h' 'h'\n",
            " 'v' '10' 'r' 'v' '6' 'w' 'g' 'u' '8' 't' 'x' 'k' '5' 'IMG' 'i' 'f' '9'\n",
            " 'y' 'i' 'x' 'y' '6' 'j' 'h' 's' 'f' 'u' 'b' '6' 'p' 'z' 't' '2' 'y' 'r'\n",
            " '10' 'e' 'l' 'x' 'i' '6' '8' 'i' 'p' '6' 'y' 's' 'f' '7' '1' 'y' 'c' 'f'\n",
            " '9' 'j' '7' '6' 'o' 'f' '9' 'j' 'x' 'f' 't' 'q' 'x' '4' 'q' 'd' 'q' 'b'\n",
            " 't' 'u' '2' '7' 'y' '8' '8' '2' 'p' 'v' 'g' 'a' 'j' 'f' 'f' 'z' 'j' 's'\n",
            " 'y' 'v' '3' 'q' 'u' 'l' 'b' '8' 'v' 'r' 'k' '1' '5' '3' 'l' '9' 'h' '8'\n",
            " 'q' 'm' '2' 'b' 'l' 'q' 'f' 'q' '9' 'c' 'v' 'y' 'p' 'i' 'a' 'v' '7' 'z'\n",
            " 'h' '9' 'r' 'x' '5' 'a' 'f' 'w' '10' '10' 'n' 'e' '4' 'e' '8' 'm' 'j' 'w'\n",
            " 'n' 'f' 'x' 'x' '9' '1' 'k' 'g' 'w' '2' 'i' 'o' 'd' 'z' 'e' '6' '7' 'n'\n",
            " 'v' '7' '3' 'z' 'c' 'p' '1' 'v' 'b' '1' 's' '6' '6' 'c' 'i' 'u' 'e' 'q'\n",
            " 't' 'y' '5' 'y' 'f' 'f' 'm' '2' 'd' 'u' 'l' 't' 'm' 'e' '7' '8' 'c' 'p'\n",
            " 'u' 'k' 'w' '2' 'b' 'a' 'u' '2' '3' '8' 'z' '10' 'l' 'r' 'm' 'f' 'z' 'w'\n",
            " 'f' 'h' '2' 't' 'p' 'b' 'l' 'c' 'q' 'l' 'q' '1' '8' 'q' '9' 'w' 'y' 'r'\n",
            " '6' 't' '7' 'f' 'x' 'r' 'm' '4' 'i' '8' 'b' 'g' 'g' 'p' 'g' 'm' '1' 's'\n",
            " '6' '3' 's' 'f' 'k' '4' '3' 'w' 'u' 'w' '3' 'e' 'd' '8' 'a' 'p' '5' '5'\n",
            " 'n' 'd' 'e' '4' '6' '10' 'c' '4' '4' 'u' 'u' 'a' 'z' 'b' 'l' '3' 'g' 'e'\n",
            " 'c' 'a' 'j' 'k' '10' '10' '8' 'x' 's' '3' '8' 'i' 't' 'a' '5' 'b' 'c' 'n'\n",
            " 'l' 'z' 'a' 'n' 's' 'j' 'n' 'o' '4' 's' '3' 's' '6 ' '5' 's' 'u' 'd' 'd'\n",
            " 'r' 'c' 'r' 'j' 'i' 'i' 'b' 'p' 'p' '1' '10' 'm' '8' '5' 'j' 'h' 'v' 'w'\n",
            " 'e' 'h' 'r' 'a' 's' 'd' 'u' 'w' 'f' 't' '5' '3' 'n' 's' 'd' 'u' '10' 's'\n",
            " 'h' '3' 'm' 'g' 'm' 'e' 'h' 'i' '5' '8' 'b' 'l' 'r' 'd' 'l' '6' 'g' 'e'\n",
            " '1' 'n' '6' 'n' 'r' 'c' '10' '2' 'j' 'n' 'h' 'z' 't' 'a' 'o' 'x' 'u' 'j'\n",
            " '3' 'v' 'g' 'l' '9' 'q' '9' 'w' '6' 'b' 'w' '4' 'u' 'a' 'z' 'j' 'c' 'y'\n",
            " '7' '3' 'h' 'd' 'o' '9' 'l' 'p' '1' '7' '5' 'h' 'w' 'h' 'r' '7' 'q' '2'\n",
            " 'n' '3' 'm' 'n' 'd' 'l' 'w' 'j' 'b' 'A' '4' 'y' 'x' 'a' 'd' 's' 'u' '6'\n",
            " 'h' '10' '7' 'h' '6' 'y' '1' 'c' '2' 'l' 'i' 'n' 's' '8' 'g' '4' 'x' 'w'\n",
            " 'j' 'g' '6' 'e' 'e' 'u' 'j' '2' 'v' '1' 'a' 'w' 'f' 't' '1' 'o' 'a' 'g'\n",
            " 'y' 'k' '1' '5' 'k' '10' 'x' 'f' 'o' 'x' 'n' '1' 'd' '1' 's' '5' 'p' 'f'\n",
            " 'i' 'm' 'l' '8' 'm' '8' 'v' '3' 'm' 'c' 'k' '10' '8' 'v' 'd' 'u' 'v' 'y'\n",
            " 't' 'c' 'a' 'o' 'r' '10' 'r' '10' 'k' 'b' '4' 'e' 'q' 'i' 'o' 'i' 'k' 'c'\n",
            " 'f' 'm' 'v' 'p' 'v' 'u' 'm' '3' 't' '2' 't' 'y' 'd' 'q' 'l' 't' '8' 'l'\n",
            " 'i' '4' 'i' 'b' 'k' '6' 'k' 'a' 'o' 'q' 'y' '7' 'q' 'z' 'o' 'o' 'a' 't'\n",
            " 'i' '3' 'm' 'r' '2' '10' 'g' 'A' 'k' 'k' 't' 'j' 'x' 'p' '7' 'k' 'g' '3'\n",
            " 'q' 'i' 'i' 'g' 't' 'j' '1' '9' 'n' 'a' 'a' 'k' 'b' 'h' 'n' 'g' 'q' 'q'\n",
            " '1' 'f' 's' 'n' '1' 'p' 'j' 'o' '8' 'm' 'x' 'c' '4' 'c' '6' 'r' 'e' 's'\n",
            " 'q' 'a' 'k' '8' 'c' '3' '3' 'd' 'k' '3' 'd' 't' '9' 'n' 'w' '4' 'a' 'x'\n",
            " 'u' 'f' '2' 'p' '9' 'o' '2' 'n' 'y' 'e' 'v' '7' 'c' '4' 's' '7' 'c' 'b'\n",
            " '7' 'e' 'b' 'g' 'l' 'v' 'q' 'x' '2' 'i' '10' 'z' 'c' 'x' '10' 'e' 'q'\n",
            " '10' 'l' 'o' 'n' 'z' 'w' 'g' '4' 'v' 'r' 't' 'q' 'k' 'f' '5' '4' 'm' 's'\n",
            " 'd' 'm' '4' '10' 'w' 't' 'w' '1' 'h' '3' 'u' 's' 'e' 't' 'g' 'o' '5' '2'\n",
            " '2' '9' 'k' 'z' 'd']\n",
            "y_test \n",
            " ['l' 'l' 't' 'k' '7' 'b' 'o' '4' 's' '9' '7' 'e' 'd' 'h' 'l' 's' '7' 't'\n",
            " 'd' 's' 'c' 'd' 'n' 'e' 'o' 'q' 'm' '5' 'n' 'g' '9' 'z' 'o' 'j' '2' 'm'\n",
            " '2' 'h' '9' 'o' '9' '9' '10' 'u' 'e' 'r' 'c' '8' 'w' 'h' 'w' '9' 'v' 'a'\n",
            " 'i' '8' '7' 'q' 'd' 't' 's' '4' 'i' 'a' 'n' 'r' 'r' '2' 'g' 'k' 'v' '7'\n",
            " '5' 'f' '5' '5' '8' '7' '9' 'u' '1' '9' 'e' '10' '4' 'i' 'h' '6' 'l' '10'\n",
            " '6' 'a' 'b' 'w' 'r' 'o' '7' 'p' 'b' 'k' '1' '5' 'm' 'w' 'l' 'q' '6' 'f'\n",
            " '1' '7' '3' 'y' '5' '5' 'i' 'k' '10' 'm' 'm' 'b' '1' 'v' 'u' 'e' 't' '4'\n",
            " '8' 'w' 'l' 'm' 'z' '4' 'x' 'n' 's' 'z' 'z' 'w' '7' '4' 'p' 'b' '1' 'l'\n",
            " 'y' 'd' '5' 'b' 'r' 'd' 'u' '2' 'm' 'k' '10' 'p' '3' '6' '8' 'h' 'g' '7'\n",
            " 'j' 'g' 'c' '6' 'd' 'm' 'r' 'b' 'y' 'o' 'r' 'c' 'y' 'e' '3' 'c' 'e' 't'\n",
            " 'q' '6' 'h' 'k' 'v' 'b' '1' 't' 'o' 'c' '8' 'i' 'k' '6' '6' 'g' 'd' 'c'\n",
            " 'z' 't' 'x' '7' 'b' '4' 'c' '5' 'o' 'n' 'x' 'm' '2' '7' 'e' '4' 'y' 'f'\n",
            " 'e' 'p' 'x' 'k' 'r' 'y']\n"
          ]
        }
      ]
    }
  ]
}